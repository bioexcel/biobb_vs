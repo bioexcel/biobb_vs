{
 "cells": [
  {
   "cell_type": "code",
   "execution_count": 1,
   "metadata": {},
   "outputs": [
    {
     "data": {
      "application/vnd.jupyter.widget-view+json": {
       "model_id": "d1cef69946f0418a866649a71de9ed69",
       "version_major": 2,
       "version_minor": 0
      },
      "text/plain": [
       "_ColormakerRegistry()"
      ]
     },
     "metadata": {},
     "output_type": "display_data"
    }
   ],
   "source": [
    "import nglview\n",
    "import ipywidgets\n",
    "\n",
    "#pdb_code = \"4i23\"\n",
    "pdb_code = \"2rgp\"\n",
    "drugbank_code = \"DB11963\"\n",
    "ligand_remove = \"HYZ\"\n",
    "compare_id = \"4hjo\"\n",
    "api_id = \"pdbe\"\n",
    "pockets_dir = \"pockets\""
   ]
  },
  {
   "cell_type": "code",
   "execution_count": 2,
   "metadata": {},
   "outputs": [],
   "source": [
    "from biobb_io.api.pdb import pdb"
   ]
  },
  {
   "cell_type": "code",
   "execution_count": 3,
   "metadata": {
    "scrolled": true
   },
   "outputs": [
    {
     "name": "stderr",
     "output_type": "stream",
     "text": [
      "2021-01-26 10:59:03,683 [MainThread  ] [INFO ]  Downloading: 2rgp from: http://www.ebi.ac.uk/pdbe/entry-files/download/pdb2rgp.ent\n",
      "/anaconda3/envs/biobb_dev_37/lib/python3.7/site-packages/urllib3/connectionpool.py:986: InsecureRequestWarning: Unverified HTTPS request is being made to host 'www.ebi.ac.uk'. Adding certificate verification is strongly advised. See: https://urllib3.readthedocs.io/en/latest/advanced-usage.html#ssl-warnings\n",
      "  InsecureRequestWarning,\n",
      "2021-01-26 10:59:04,080 [MainThread  ] [INFO ]  Writting pdb to: download.pdb\n",
      "2021-01-26 10:59:04,081 [MainThread  ] [INFO ]  Filtering lines NOT starting with one of these words: ['ATOM', 'HETATM']\n"
     ]
    },
    {
     "data": {
      "text/plain": [
       "0"
      ]
     },
     "execution_count": 3,
     "metadata": {},
     "output_type": "execute_result"
    }
   ],
   "source": [
    "download_pdb = \"download.pdb\"\n",
    "prop = {\n",
    "  \"pdb_code\": pdb_code,\n",
    "  \"filter\": [\"ATOM\", \"HETATM\"],\n",
    "  \"api_id\": api_id\n",
    "}\n",
    "\n",
    "pdb(output_pdb_path=download_pdb,\n",
    "    properties=prop)"
   ]
  },
  {
   "cell_type": "code",
   "execution_count": 4,
   "metadata": {},
   "outputs": [
    {
     "data": {
      "application/vnd.jupyter.widget-view+json": {
       "model_id": "c0d7988c138a44019044be4ac8589fdd",
       "version_major": 2,
       "version_minor": 0
      },
      "text/plain": [
       "NGLWidget()"
      ]
     },
     "metadata": {},
     "output_type": "display_data"
    }
   ],
   "source": [
    "view = nglview.show_structure_file(download_pdb, default=True)\n",
    "view.center()\n",
    "view._remote_call('setSize', target='Widget', args=['','600px'])\n",
    "view"
   ]
  },
  {
   "cell_type": "code",
   "execution_count": 5,
   "metadata": {},
   "outputs": [],
   "source": [
    "from biobb_structure_utils.utils.remove_ligand import remove_ligand"
   ]
  },
  {
   "cell_type": "code",
   "execution_count": 6,
   "metadata": {
    "scrolled": false
   },
   "outputs": [
    {
     "name": "stderr",
     "output_type": "stream",
     "text": [
      "2021-01-26 10:59:10,584 [MainThread  ] [INFO ]  PDB format detected, removing all atoms from residues named HYZ\n"
     ]
    },
    {
     "data": {
      "text/plain": [
       "0"
      ]
     },
     "execution_count": 6,
     "metadata": {},
     "output_type": "execute_result"
    }
   ],
   "source": [
    "pdb_no_ligand = \"pdb_no_ligand.pdb\"\n",
    "prop = {\n",
    "    \"ligand\": ligand_remove\n",
    "}\n",
    "\n",
    "remove_ligand(input_structure_path=download_pdb,\n",
    "             output_structure_path = pdb_no_ligand,\n",
    "            properties=prop)"
   ]
  },
  {
   "cell_type": "code",
   "execution_count": 7,
   "metadata": {
    "scrolled": false
   },
   "outputs": [
    {
     "data": {
      "application/vnd.jupyter.widget-view+json": {
       "model_id": "b003c21c6a2a4a17ae9e3324d91431c3",
       "version_major": 2,
       "version_minor": 0
      },
      "text/plain": [
       "NGLWidget()"
      ]
     },
     "metadata": {},
     "output_type": "display_data"
    }
   ],
   "source": [
    "view = nglview.show_structure_file(pdb_no_ligand, default=False)\n",
    "view.add_representation(repr_type='cartoon', \n",
    "                        selection='not het',\n",
    "                       colorScheme = 'atomindex')\n",
    "view.center()\n",
    "view._remote_call('setSize', target='Widget', args=['','600px'])\n",
    "view"
   ]
  },
  {
   "cell_type": "code",
   "execution_count": 8,
   "metadata": {},
   "outputs": [],
   "source": [
    "from biobb_structure_utils.utils.extract_chain import extract_chain"
   ]
  },
  {
   "cell_type": "code",
   "execution_count": 9,
   "metadata": {
    "scrolled": true
   },
   "outputs": [
    {
     "name": "stderr",
     "output_type": "stream",
     "text": [
      "2021-01-26 10:59:15,689 [MainThread  ] [INFO ]  check_structure -i /home/gbayarri_local/projects/BioBB/biobb_vs/biobb_vs/tutorial/ebi_api/pdb_no_ligand.pdb -o extract_chain.pdb --force_save chains --select A\n",
      "\n",
      "2021-01-26 10:59:15,690 [MainThread  ] [INFO ]  Exit code 0\n",
      "\n",
      "2021-01-26 10:59:15,691 [MainThread  ] [INFO ]  ===============================================================================\n",
      "=                   BioBB structure checking utility v3.7.2                   =\n",
      "=                 A. Hospital, P. Andrio, J.L. Gelpi 2018-20                  =\n",
      "===============================================================================\n",
      "\n",
      "Warning: sequence features only available in mmCIF format or with external fasta input\n",
      "Structure /home/gbayarri_local/projects/BioBB/biobb_vs/biobb_vs/tutorial/ebi_api/pdb_no_ligand.pdb loaded\n",
      " Title: \n",
      " Experimental method: unknown\n",
      " Resolution: None A\n",
      "\n",
      " Num. models: 1\n",
      " Num. chains: 1 (A: Protein)\n",
      " Num. residues:  371\n",
      " Num. residues with ins. codes:  0\n",
      " Num. HETATM residues:  87\n",
      " Num. ligands or modified residues:  2\n",
      " Num. water mol.:  85\n",
      " Num. atoms:  2384\n",
      "Small mol ligands found\n",
      "PO4 A81\n",
      "PO4 A82\n",
      "\n",
      "Running chains. Options: --select A\n",
      "1 Chain(s) detected\n",
      " A: Protein\n",
      "Structure not modified, saving due to --force_save option\n",
      "Final Num. models: 1\n",
      "Final Num. chains: 1 (A: Protein)\n",
      "Final Num. residues:  371\n",
      "Final Num. residues with ins. codes:  0\n",
      "Final Num. HETATM residues:  87\n",
      "Final Num. ligands or modified residues:  2\n",
      "Final Num. water mol.:  85\n",
      "Final Num. atoms:  2384\n",
      "Small mol ligands found\n",
      "PO4 A81\n",
      "PO4 A82\n",
      "Structure saved on extract_chain.pdb\n",
      "\n"
     ]
    },
    {
     "data": {
      "text/plain": [
       "0"
      ]
     },
     "execution_count": 9,
     "metadata": {},
     "output_type": "execute_result"
    }
   ],
   "source": [
    "pdb_single_chain = \"extract_chain.pdb\"\n",
    "prop = {\n",
    "    \"chains\": [\"A\"]\n",
    "}\n",
    "\n",
    "extract_chain(input_structure_path=pdb_no_ligand,\n",
    "             output_structure_path = pdb_single_chain,\n",
    "            properties=prop)"
   ]
  },
  {
   "cell_type": "code",
   "execution_count": 10,
   "metadata": {},
   "outputs": [
    {
     "data": {
      "application/vnd.jupyter.widget-view+json": {
       "model_id": "e101aacf5c1b4ac89e9e7049375a49be",
       "version_major": 2,
       "version_minor": 0
      },
      "text/plain": [
       "NGLWidget()"
      ]
     },
     "metadata": {},
     "output_type": "display_data"
    }
   ],
   "source": [
    "view = nglview.show_structure_file(pdb_single_chain, default=False)\n",
    "view.add_representation(repr_type='cartoon', \n",
    "                        selection='not het',\n",
    "                        colorScheme = 'atomindex')\n",
    "view.center()\n",
    "view._remote_call('setSize', target='Widget', args=['','600px'])\n",
    "view"
   ]
  },
  {
   "cell_type": "code",
   "execution_count": 11,
   "metadata": {},
   "outputs": [],
   "source": [
    "from biobb_io.api.binding_site import binding_site"
   ]
  },
  {
   "cell_type": "code",
   "execution_count": 12,
   "metadata": {
    "scrolled": true
   },
   "outputs": [
    {
     "name": "stderr",
     "output_type": "stream",
     "text": [
      "2021-01-26 11:01:21,433 [MainThread  ] [INFO ]  Getting binding sites from: https://www.ebi.ac.uk/pdbe/api/pdb/entry/binding_sites/2rgp\n",
      "2021-01-26 11:01:21,608 [MainThread  ] [INFO ]  3 binding sites found\n",
      "2021-01-26 11:01:21,609 [MainThread  ] [INFO ]  Writting json to: residues.json\n"
     ]
    },
    {
     "data": {
      "text/plain": [
       "0"
      ]
     },
     "execution_count": 12,
     "metadata": {},
     "output_type": "execute_result"
    }
   ],
   "source": [
    "residues_json = \"residues.json\"\n",
    "prop = {\n",
    "  \"pdb_code\": pdb_code\n",
    "}\n",
    "\n",
    "binding_site(output_json_path=residues_json,\n",
    "    properties=prop)"
   ]
  },
  {
   "cell_type": "code",
   "execution_count": 19,
   "metadata": {},
   "outputs": [
    {
     "name": "stdout",
     "output_type": "stream",
     "text": [
      "{\n",
      "    \"2rgp\": [\n",
      "        {\n",
      "            \"details\": \"BINDING SITE FOR RESIDUE HYZ A 1\",\n",
      "            \"evidence_code\": \"Software\",\n",
      "            \"ligand_residues\": [\n",
      "                {\n",
      "                    \"author_insertion_code\": null,\n",
      "                    \"author_residue_number\": null,\n",
      "                    \"chain_id\": null,\n",
      "                    \"chem_comp_id\": null,\n",
      "                    \"entity_id\": null,\n",
      "                    \"residue_number\": null,\n",
      "                    \"struct_asym_id\": null\n",
      "                }\n",
      "            ],\n",
      "            \"site_id\": \"AC3\",\n",
      "            \"site_residues\": [\n",
      "                {\n",
      "                    \"author_insertion_code\": null,\n",
      "                    \"author_residue_number\": 856,\n",
      "                    \"chain_id\": \"A\",\n",
      "                    \"chem_comp_id\": \"PHE\",\n",
      "                    \"entity_id\": 1,\n",
      "                    \"residue_number\": 155,\n",
      "                    \"struct_asym_id\": \"A\",\n",
      "                    \"symmetry_symbol\": \"1_555\"\n",
      "                },\n",
      "                {\n",
      "                    \"author_insertion_code\": null,\n",
      "                    \"author_residue_number\": 855,\n",
      "                    \"chain_id\": \"A\",\n",
      "                    \"chem_comp_id\": \"ASP\",\n",
      "                    \"entity_id\": 1,\n",
      "                    \"residue_number\": 154,\n",
      "                    \"struct_asym_id\": \"A\",\n",
      "                    \"symmetry_symbol\": \"1_555\"\n",
      "                },\n",
      "                {\n",
      "                    \"author_insertion_code\": null,\n",
      "                    \"author_residue_number\": 854,\n",
      "                    \"chain_id\": \"A\",\n",
      "                    \"chem_comp_id\": \"THR\",\n",
      "                    \"entity_id\": 1,\n",
      "                    \"residue_number\": 153,\n",
      "                    \"struct_asym_id\": \"A\",\n",
      "                    \"symmetry_symbol\": \"1_555\"\n",
      "                },\n",
      "                {\n",
      "                    \"author_insertion_code\": null,\n",
      "                    \"author_residue_number\": 718,\n",
      "                    \"chain_id\": \"A\",\n",
      "                    \"chem_comp_id\": \"LEU\",\n",
      "                    \"entity_id\": 1,\n",
      "                    \"residue_number\": 17,\n",
      "                    \"struct_asym_id\": \"A\",\n",
      "                    \"symmetry_symbol\": \"1_555\"\n",
      "                },\n",
      "                {\n",
      "                    \"author_insertion_code\": null,\n",
      "                    \"author_residue_number\": 719,\n",
      "                    \"chain_id\": \"A\",\n",
      "                    \"chem_comp_id\": \"GLY\",\n",
      "                    \"entity_id\": 1,\n",
      "                    \"residue_number\": 18,\n",
      "                    \"struct_asym_id\": \"A\",\n",
      "                    \"symmetry_symbol\": \"1_555\"\n",
      "                },\n",
      "                {\n",
      "                    \"author_insertion_code\": null,\n",
      "                    \"author_residue_number\": 743,\n",
      "                    \"chain_id\": \"A\",\n",
      "                    \"chem_comp_id\": \"ALA\",\n",
      "                    \"entity_id\": 1,\n",
      "                    \"residue_number\": 42,\n",
      "                    \"struct_asym_id\": \"A\",\n",
      "                    \"symmetry_symbol\": \"1_555\"\n",
      "                },\n",
      "                {\n",
      "                    \"author_insertion_code\": null,\n",
      "                    \"author_residue_number\": 745,\n",
      "                    \"chain_id\": \"A\",\n",
      "                    \"chem_comp_id\": \"LYS\",\n",
      "                    \"entity_id\": 1,\n",
      "                    \"residue_number\": 44,\n",
      "                    \"struct_asym_id\": \"A\",\n",
      "                    \"symmetry_symbol\": \"1_555\"\n",
      "                },\n",
      "                {\n",
      "                    \"author_insertion_code\": null,\n",
      "                    \"author_residue_number\": 775,\n",
      "                    \"chain_id\": \"A\",\n",
      "                    \"chem_comp_id\": \"CYS\",\n",
      "                    \"entity_id\": 1,\n",
      "                    \"residue_number\": 74,\n",
      "                    \"struct_asym_id\": \"A\",\n",
      "                    \"symmetry_symbol\": \"1_555\"\n",
      "                },\n",
      "                {\n",
      "                    \"author_insertion_code\": null,\n",
      "                    \"author_residue_number\": 776,\n",
      "                    \"chain_id\": \"A\",\n",
      "                    \"chem_comp_id\": \"ARG\",\n",
      "                    \"entity_id\": 1,\n",
      "                    \"residue_number\": 75,\n",
      "                    \"struct_asym_id\": \"A\",\n",
      "                    \"symmetry_symbol\": \"1_555\"\n",
      "                },\n",
      "                {\n",
      "                    \"author_insertion_code\": null,\n",
      "                    \"author_residue_number\": 777,\n",
      "                    \"chain_id\": \"A\",\n",
      "                    \"chem_comp_id\": \"LEU\",\n",
      "                    \"entity_id\": 1,\n",
      "                    \"residue_number\": 76,\n",
      "                    \"struct_asym_id\": \"A\",\n",
      "                    \"symmetry_symbol\": \"1_555\"\n",
      "                },\n",
      "                {\n",
      "                    \"author_insertion_code\": null,\n",
      "                    \"author_residue_number\": 788,\n",
      "                    \"chain_id\": \"A\",\n",
      "                    \"chem_comp_id\": \"LEU\",\n",
      "                    \"entity_id\": 1,\n",
      "                    \"residue_number\": 87,\n",
      "                    \"struct_asym_id\": \"A\",\n",
      "                    \"symmetry_symbol\": \"1_555\"\n",
      "                },\n",
      "                {\n",
      "                    \"author_insertion_code\": null,\n",
      "                    \"author_residue_number\": 790,\n",
      "                    \"chain_id\": \"A\",\n",
      "                    \"chem_comp_id\": \"THR\",\n",
      "                    \"entity_id\": 1,\n",
      "                    \"residue_number\": 89,\n",
      "                    \"struct_asym_id\": \"A\",\n",
      "                    \"symmetry_symbol\": \"1_555\"\n",
      "                },\n",
      "                {\n",
      "                    \"author_insertion_code\": null,\n",
      "                    \"author_residue_number\": 791,\n",
      "                    \"chain_id\": \"A\",\n",
      "                    \"chem_comp_id\": \"GLN\",\n",
      "                    \"entity_id\": 1,\n",
      "                    \"residue_number\": 90,\n",
      "                    \"struct_asym_id\": \"A\",\n",
      "                    \"symmetry_symbol\": \"1_555\"\n",
      "                },\n",
      "                {\n",
      "                    \"author_insertion_code\": null,\n",
      "                    \"author_residue_number\": 793,\n",
      "                    \"chain_id\": \"A\",\n",
      "                    \"chem_comp_id\": \"MET\",\n",
      "                    \"entity_id\": 1,\n",
      "                    \"residue_number\": 92,\n",
      "                    \"struct_asym_id\": \"A\",\n",
      "                    \"symmetry_symbol\": \"1_555\"\n",
      "                },\n",
      "                {\n",
      "                    \"author_insertion_code\": null,\n",
      "                    \"author_residue_number\": 800,\n",
      "                    \"chain_id\": \"A\",\n",
      "                    \"chem_comp_id\": \"ASP\",\n",
      "                    \"entity_id\": 1,\n",
      "                    \"residue_number\": 99,\n",
      "                    \"struct_asym_id\": \"A\",\n",
      "                    \"symmetry_symbol\": \"1_555\"\n",
      "                },\n",
      "                {\n",
      "                    \"author_insertion_code\": null,\n",
      "                    \"author_residue_number\": 844,\n",
      "                    \"chain_id\": \"A\",\n",
      "                    \"chem_comp_id\": \"LEU\",\n",
      "                    \"entity_id\": 1,\n",
      "                    \"residue_number\": 143,\n",
      "                    \"struct_asym_id\": \"A\",\n",
      "                    \"symmetry_symbol\": \"1_555\"\n",
      "                }\n",
      "            ]\n",
      "        },\n",
      "        {\n",
      "            \"details\": \"BINDING SITE FOR RESIDUE PO4 A 82\",\n",
      "            \"evidence_code\": \"Software\",\n",
      "            \"ligand_residues\": [\n",
      "                {\n",
      "                    \"author_insertion_code\": null,\n",
      "                    \"author_residue_number\": null,\n",
      "                    \"chain_id\": null,\n",
      "                    \"chem_comp_id\": null,\n",
      "                    \"entity_id\": null,\n",
      "                    \"residue_number\": null,\n",
      "                    \"struct_asym_id\": null\n",
      "                }\n",
      "            ],\n",
      "            \"site_id\": \"AC2\",\n",
      "            \"site_residues\": [\n",
      "                {\n",
      "                    \"author_insertion_code\": null,\n",
      "                    \"author_residue_number\": 832,\n",
      "                    \"chain_id\": \"A\",\n",
      "                    \"chem_comp_id\": \"ARG\",\n",
      "                    \"entity_id\": 1,\n",
      "                    \"residue_number\": 131,\n",
      "                    \"struct_asym_id\": \"A\",\n",
      "                    \"symmetry_symbol\": \"1_555\"\n",
      "                },\n",
      "                {\n",
      "                    \"author_insertion_code\": null,\n",
      "                    \"author_residue_number\": 833,\n",
      "                    \"chain_id\": \"A\",\n",
      "                    \"chem_comp_id\": \"LEU\",\n",
      "                    \"entity_id\": 1,\n",
      "                    \"residue_number\": 132,\n",
      "                    \"struct_asym_id\": \"A\",\n",
      "                    \"symmetry_symbol\": \"1_555\"\n",
      "                },\n",
      "                {\n",
      "                    \"author_insertion_code\": null,\n",
      "                    \"author_residue_number\": 836,\n",
      "                    \"chain_id\": \"A\",\n",
      "                    \"chem_comp_id\": \"ARG\",\n",
      "                    \"entity_id\": 1,\n",
      "                    \"residue_number\": 135,\n",
      "                    \"struct_asym_id\": \"A\",\n",
      "                    \"symmetry_symbol\": \"1_555\"\n",
      "                },\n",
      "                {\n",
      "                    \"author_insertion_code\": null,\n",
      "                    \"author_residue_number\": 860,\n",
      "                    \"chain_id\": \"A\",\n",
      "                    \"chem_comp_id\": \"LYS\",\n",
      "                    \"entity_id\": 1,\n",
      "                    \"residue_number\": 159,\n",
      "                    \"struct_asym_id\": \"A\",\n",
      "                    \"symmetry_symbol\": \"1_555\"\n",
      "                },\n",
      "                {\n",
      "                    \"author_insertion_code\": null,\n",
      "                    \"author_residue_number\": 888,\n",
      "                    \"chain_id\": \"A\",\n",
      "                    \"chem_comp_id\": \"HIS\",\n",
      "                    \"entity_id\": 1,\n",
      "                    \"residue_number\": 187,\n",
      "                    \"struct_asym_id\": \"A\",\n",
      "                    \"symmetry_symbol\": \"4_467\"\n",
      "                }\n",
      "            ]\n",
      "        },\n",
      "        {\n",
      "            \"details\": \"BINDING SITE FOR RESIDUE PO4 A 81\",\n",
      "            \"evidence_code\": \"Software\",\n",
      "            \"ligand_residues\": [\n",
      "                {\n",
      "                    \"author_insertion_code\": null,\n",
      "                    \"author_residue_number\": null,\n",
      "                    \"chain_id\": null,\n",
      "                    \"chem_comp_id\": null,\n",
      "                    \"entity_id\": null,\n",
      "                    \"residue_number\": null,\n",
      "                    \"struct_asym_id\": null\n",
      "                }\n",
      "            ],\n",
      "            \"site_id\": \"AC1\",\n",
      "            \"site_residues\": [\n",
      "                {\n",
      "                    \"author_insertion_code\": null,\n",
      "                    \"author_residue_number\": 803,\n",
      "                    \"chain_id\": \"A\",\n",
      "                    \"chem_comp_id\": \"ARG\",\n",
      "                    \"entity_id\": 1,\n",
      "                    \"residue_number\": 102,\n",
      "                    \"struct_asym_id\": \"A\",\n",
      "                    \"symmetry_symbol\": \"1_555\"\n",
      "                },\n",
      "                {\n",
      "                    \"author_insertion_code\": null,\n",
      "                    \"author_residue_number\": 970,\n",
      "                    \"chain_id\": \"A\",\n",
      "                    \"chem_comp_id\": \"LYS\",\n",
      "                    \"entity_id\": 1,\n",
      "                    \"residue_number\": 269,\n",
      "                    \"struct_asym_id\": \"A\",\n",
      "                    \"symmetry_symbol\": \"3_646\"\n",
      "                },\n",
      "                {\n",
      "                    \"author_insertion_code\": null,\n",
      "                    \"author_residue_number\": 977,\n",
      "                    \"chain_id\": \"A\",\n",
      "                    \"chem_comp_id\": \"ARG\",\n",
      "                    \"entity_id\": 1,\n",
      "                    \"residue_number\": 276,\n",
      "                    \"struct_asym_id\": \"A\",\n",
      "                    \"symmetry_symbol\": \"3_646\"\n",
      "                },\n",
      "                {\n",
      "                    \"author_insertion_code\": null,\n",
      "                    \"author_residue_number\": 913,\n",
      "                    \"chain_id\": \"A\",\n",
      "                    \"chem_comp_id\": \"LYS\",\n",
      "                    \"entity_id\": 1,\n",
      "                    \"residue_number\": 212,\n",
      "                    \"struct_asym_id\": \"A\",\n",
      "                    \"symmetry_symbol\": \"1_555\"\n",
      "                },\n",
      "                {\n",
      "                    \"author_insertion_code\": null,\n",
      "                    \"author_residue_number\": 1093,\n",
      "                    \"chain_id\": \"A\",\n",
      "                    \"chem_comp_id\": \"HOH\",\n",
      "                    \"entity_id\": 4,\n",
      "                    \"residue_number\": 74,\n",
      "                    \"struct_asym_id\": \"E\",\n",
      "                    \"symmetry_symbol\": \"1_555\"\n",
      "                },\n",
      "                {\n",
      "                    \"author_insertion_code\": null,\n",
      "                    \"author_residue_number\": 1075,\n",
      "                    \"chain_id\": \"A\",\n",
      "                    \"chem_comp_id\": \"HOH\",\n",
      "                    \"entity_id\": 4,\n",
      "                    \"residue_number\": 59,\n",
      "                    \"struct_asym_id\": \"E\",\n",
      "                    \"symmetry_symbol\": \"1_555\"\n",
      "                },\n",
      "                {\n",
      "                    \"author_insertion_code\": null,\n",
      "                    \"author_residue_number\": 1074,\n",
      "                    \"chain_id\": \"A\",\n",
      "                    \"chem_comp_id\": \"HOH\",\n",
      "                    \"entity_id\": 4,\n",
      "                    \"residue_number\": 58,\n",
      "                    \"struct_asym_id\": \"E\",\n",
      "                    \"symmetry_symbol\": \"1_555\"\n",
      "                }\n",
      "            ]\n",
      "        }\n",
      "    ]\n",
      "}\n"
     ]
    }
   ],
   "source": [
    "import json\n",
    "\n",
    "with open(residues_json) as json_file: \n",
    "    data = json.load(json_file)\n",
    "    print(json.dumps(data, indent=4))"
   ]
  },
  {
   "cell_type": "code",
   "execution_count": 42,
   "metadata": {},
   "outputs": [
    {
     "name": "stdout",
     "output_type": "stream",
     "text": [
      "Residue id's for binding site 0: 856, 855, 854, 718, 719, 743, 745, 775, 776, 777, 788, 790, 791, 793, 800, 844\n",
      "Residue id's for binding site 1: 832, 833, 836, 860, 888\n",
      "Residue id's for binding site 2: 803, 970, 977, 913, 1093, 1075, 1074\n"
     ]
    },
    {
     "data": {
      "application/vnd.jupyter.widget-view+json": {
       "model_id": "858b9b4a0019433b80fe47029773f2ee",
       "version_major": 2,
       "version_minor": 0
      },
      "text/plain": [
       "Dropdown(description='Sel. BSite:', options=(('binding_site0', 0), ('binding_site1', 1), ('binding_site2', 2))…"
      ]
     },
     "metadata": {},
     "output_type": "display_data"
    }
   ],
   "source": [
    "bindingSites = {}\n",
    "bsites = []\n",
    "for i, item in enumerate(data[pdb_code]):\n",
    "    bindingSites[i] = []\n",
    "    bsites.append(('binding_site' + str(i), i))\n",
    "    for res in item['site_residues']:\n",
    "        bindingSites[i].append(res['author_residue_number'])\n",
    "    print('Residue id\\'s for binding site %d: %s' % (i, ', '.join(str(v) for v in bindingSites[i])))\n",
    "        \n",
    "mdsel = ipywidgets.Dropdown(\n",
    "    options=bsites,\n",
    "    description='Sel. BSite:',\n",
    "    disabled=False,\n",
    ")\n",
    "display(mdsel)"
   ]
  },
  {
   "cell_type": "code",
   "execution_count": 43,
   "metadata": {},
   "outputs": [],
   "source": [
    "from biobb_vs.utils.box_residues import box_residues"
   ]
  },
  {
   "cell_type": "code",
   "execution_count": 51,
   "metadata": {},
   "outputs": [
    {
     "name": "stderr",
     "output_type": "stream",
     "text": [
      "2021-01-26 11:23:30,992 [MainThread  ] [INFO ]  Loading input PDB structure extract_chain.pdb\n",
      "2021-01-26 11:23:31,045 [MainThread  ] [INFO ]  Mapping residue structure into input structure\n",
      "2021-01-26 11:23:31,046 [MainThread  ] [INFO ]  Selection of residues successfully matched\n",
      "2021-01-26 11:23:31,047 [MainThread  ] [INFO ]  Binding site center (Angstroms):     14.494    36.352    93.217\n",
      "2021-01-26 11:23:31,047 [MainThread  ] [INFO ]  Binding site size (Angstroms):       13.848    14.010    15.127\n",
      "2021-01-26 11:23:31,048 [MainThread  ] [INFO ]  Volume (cubic Angstroms): 23479\n",
      "2021-01-26 11:23:31,048 [MainThread  ] [INFO ]  Adding box coordinates\n",
      "2021-01-26 11:23:31,050 [MainThread  ] [INFO ]  Saving output PDB file (with box setting annotations): box.pdb\n"
     ]
    },
    {
     "data": {
      "text/plain": [
       "0"
      ]
     },
     "execution_count": 51,
     "metadata": {},
     "output_type": "execute_result"
    }
   ],
   "source": [
    "output_box = \"box.pdb\"\n",
    "prop = {\n",
    "    \"resid_list\": bindingSites[mdsel.value],\n",
    "    \"offset\": 6,\n",
    "    \"box_coordinates\": True\n",
    "}\n",
    "\n",
    "box_residues(input_pdb_path = pdb_single_chain,\n",
    "            output_pdb_path = output_box,\n",
    "            properties=prop)"
   ]
  },
  {
   "cell_type": "code",
   "execution_count": 52,
   "metadata": {},
   "outputs": [
    {
     "data": {
      "application/vnd.jupyter.widget-view+json": {
       "model_id": "abaf0323f7d9432090d4d24d36f03759",
       "version_major": 2,
       "version_minor": 0
      },
      "text/plain": [
       "NGLWidget()"
      ]
     },
     "metadata": {},
     "output_type": "display_data"
    }
   ],
   "source": [
    "#view = nglview.show_structure_file(box, default=False)\n",
    "view2 = nglview.NGLWidget()\n",
    "#s = view.add_component(pdb_single_chain)\n",
    "s = view2.add_component(download_pdb)\n",
    "b = view2.add_component(output_box)\n",
    "\n",
    "atomPair = [\n",
    "    [ \"9999:Z.ZN1\", \"9999:Z.ZN2\" ],\n",
    "    [ \"9999:Z.ZN2\", \"9999:Z.ZN4\" ],\n",
    "    [ \"9999:Z.ZN4\", \"9999:Z.ZN3\" ],\n",
    "    [ \"9999:Z.ZN3\", \"9999:Z.ZN1\" ],\n",
    "    \n",
    "    [ \"9999:Z.ZN5\", \"9999:Z.ZN6\" ],\n",
    "    [ \"9999:Z.ZN6\", \"9999:Z.ZN8\" ],\n",
    "    [ \"9999:Z.ZN8\", \"9999:Z.ZN7\" ],\n",
    "    [ \"9999:Z.ZN7\", \"9999:Z.ZN5\" ],\n",
    "    \n",
    "    [ \"9999:Z.ZN1\", \"9999:Z.ZN5\" ],\n",
    "    [ \"9999:Z.ZN2\", \"9999:Z.ZN6\" ],\n",
    "    [ \"9999:Z.ZN3\", \"9999:Z.ZN7\" ],\n",
    "    [ \"9999:Z.ZN4\", \"9999:Z.ZN8\" ]\n",
    "]\n",
    "\n",
    "# structure\n",
    "s.add_representation(repr_type='cartoon', \n",
    "                        selection='not het',\n",
    "                        color='#cccccc',\n",
    "                       opacity=.2)\n",
    "# ligands box\n",
    "b.add_representation(repr_type='ball+stick',\n",
    "                     selection='9999',\n",
    "                     color='pink', \n",
    "                     aspectRatio = 8)\n",
    "# lines box\n",
    "b.add_representation(repr_type='distance', \n",
    "                     atomPair= atomPair,\n",
    "                     labelVisible=False,\n",
    "                     color= 'black')\n",
    "\n",
    "\n",
    "view2.center()\n",
    "view2._remote_call('setSize', target='Widget', args=['','600px'])\n",
    "view2"
   ]
  },
  {
   "cell_type": "code",
   "execution_count": null,
   "metadata": {},
   "outputs": [],
   "source": [
    "from biobb_io.api.drugbank import drugbank"
   ]
  },
  {
   "cell_type": "code",
   "execution_count": null,
   "metadata": {},
   "outputs": [],
   "source": [
    "drug = \"drug.sdf\"\n",
    "prop = {\n",
    "  \"drugbank_id\": drugbank_code\n",
    "}\n",
    "\n",
    "drugbank(output_sdf_path=drug,\n",
    "    properties=prop)"
   ]
  },
  {
   "cell_type": "code",
   "execution_count": null,
   "metadata": {},
   "outputs": [],
   "source": [
    "from biobb_chemistry.babelm.babel_convert import babel_convert"
   ]
  },
  {
   "cell_type": "code",
   "execution_count": null,
   "metadata": {},
   "outputs": [],
   "source": [
    "ligand = \"ligand.pdb\"\n",
    "prop = {\n",
    "    \"input_format\": \"sdf\",\n",
    "    \"output_format\": \"pdb\",\n",
    "    \"obabel_path\": \"/anaconda3/bin/obabel\"\n",
    "}\n",
    "\n",
    "babel_convert(input_path = drug,\n",
    "            output_path = ligand,\n",
    "            properties=prop)"
   ]
  },
  {
   "cell_type": "code",
   "execution_count": 53,
   "metadata": {},
   "outputs": [],
   "source": [
    "from biobb_structure_utils.utils.extract_heteroatoms import extract_heteroatoms"
   ]
  },
  {
   "cell_type": "code",
   "execution_count": 54,
   "metadata": {},
   "outputs": [
    {
     "name": "stderr",
     "output_type": "stream",
     "text": [
      "2021-01-26 11:23:51,679 [MainThread  ] [INFO ]  File ligand.pdb created\n"
     ]
    },
    {
     "data": {
      "text/plain": [
       "0"
      ]
     },
     "execution_count": 54,
     "metadata": {},
     "output_type": "execute_result"
    }
   ],
   "source": [
    "ligand = \"ligand.pdb\"\n",
    "prop = {\n",
    "    \"heteroatoms\": [{ \"name\": ligand_remove }]\n",
    "}\n",
    "\n",
    "extract_heteroatoms(input_structure_path = download_pdb,\n",
    "            output_heteroatom_path = ligand,\n",
    "            properties=prop)"
   ]
  },
  {
   "cell_type": "code",
   "execution_count": 55,
   "metadata": {},
   "outputs": [],
   "source": [
    "from biobb_chemistry.ambertools.reduce_add_hydrogens import reduce_add_hydrogens"
   ]
  },
  {
   "cell_type": "code",
   "execution_count": 56,
   "metadata": {},
   "outputs": [
    {
     "name": "stderr",
     "output_type": "stream",
     "text": [
      "2021-01-26 11:23:53,389 [MainThread  ] [INFO ]  Not using any container\n",
      "2021-01-26 11:23:53,550 [MainThread  ] [INFO ]  reduce -OH -ROTNH3 -ALLALT ligand.pdb > ligand_H.pdb\n",
      "\n",
      "2021-01-26 11:23:53,553 [MainThread  ] [INFO ]  Exit code 0\n",
      "\n",
      "2021-01-26 11:23:53,555 [MainThread  ] [INFO ]  reduce: version 3.3 06/02/2016, Copyright 1997-2016, J. Michael Word\n",
      "Processing file: \"ligand.pdb\"\n",
      "Database of HETATM connections: \"/anaconda3/envs/biobb_dev_37//dat/reduce_wwPDB_het_dict.txt\"\n",
      "VDW dot density = 16/A^2\n",
      "Orientation penalty scale = 1 (100%)\n",
      "Eliminate contacts within 3 bonds.\n",
      "Ignore atoms with |occupancy| <= 0.01 during adjustments.\n",
      "Waters ignored if B-Factor >= 40 or |occupancy| < 0.66\n",
      "Aromatic rings in amino acids accept hydrogen bonds.\n",
      "Building or keeping OH & SH Hydrogens.\n",
      "Rotating NH3 Hydrogens.\n",
      "Not processing Met methyls.\n",
      "WARNING: atom H19A from HYZ will be treated as hydrogen\n",
      "WARNING: atom H20A from HYZ will be treated as hydrogen\n",
      "WARNING: atom H21A from HYZ will be treated as hydrogen\n",
      "WARNING: atom H22A from HYZ will be treated as hydrogen\n",
      "WARNING: atom H23A from HYZ will be treated as hydrogen\n",
      "WARNING: atom H24A from HYZ will be treated as hydrogen\n",
      "WARNING: atom HN6A from HYZ will be treated as hydrogen\n",
      "WARNING: atom H19A from HYZ will be treated as hydrogen\n",
      "WARNING: atom H19A from HYZ will be treated as hydrogen\n",
      "WARNING: atom H20A from HYZ will be treated as hydrogen\n",
      "WARNING: atom H20A from HYZ will be treated as hydrogen\n",
      "WARNING: atom H21A from HYZ will be treated as hydrogen\n",
      "WARNING: atom H21A from HYZ will be treated as hydrogen\n",
      "WARNING: atom H22A from HYZ will be treated as hydrogen\n",
      "WARNING: atom H22A from HYZ will be treated as hydrogen\n",
      "WARNING: atom H23A from HYZ will be treated as hydrogen\n",
      "WARNING: atom H23A from HYZ will be treated as hydrogen\n",
      "WARNING: atom H24A from HYZ will be treated as hydrogen\n",
      "WARNING: atom H24A from HYZ will be treated as hydrogen\n",
      "WARNING: atom HN6A from HYZ will be treated as hydrogen\n",
      "WARNING: atom HN6A from HYZ will be treated as hydrogen\n",
      "WARNING: atom HN6A from HYZ will be treated as hydrogen\n",
      "WARNING: atom H24A from HYZ will be treated as hydrogen\n",
      "WARNING: atom H24A from HYZ will be treated as hydrogen\n",
      "WARNING: atom H23A from HYZ will be treated as hydrogen\n",
      "WARNING: atom H23A from HYZ will be treated as hydrogen\n",
      "WARNING: atom H22A from HYZ will be treated as hydrogen\n",
      "WARNING: atom H22A from HYZ will be treated as hydrogen\n",
      "WARNING: atom H21A from HYZ will be treated as hydrogen\n",
      "WARNING: atom H21A from HYZ will be treated as hydrogen\n",
      "WARNING: atom H20A from HYZ will be treated as hydrogen\n",
      "WARNING: atom H20A from HYZ will be treated as hydrogen\n",
      "WARNING: atom H19A from HYZ will be treated as hydrogen\n",
      "WARNING: atom H19A from HYZ will be treated as hydrogen\n",
      "WARNING: atom H24A from HYZ will be treated as hydrogen\n",
      "WARNING: atom H23A from HYZ will be treated as hydrogen\n",
      "WARNING: atom H22A from HYZ will be treated as hydrogen\n",
      "WARNING: atom H21A from HYZ will be treated as hydrogen\n",
      "WARNING: atom H20A from HYZ will be treated as hydrogen\n",
      "WARNING: atom H19A from HYZ will be treated as hydrogen\n",
      "Found 0 hydrogens (0 hets)\n",
      "Standardized 0 hydrogens (0 hets)\n",
      "Added 27 hydrogens (27 hets)\n",
      "Removed 0 hydrogens (0 hets)\n",
      "If you publish work which uses reduce, please cite:\n",
      "Word, et. al. (1999) J. Mol. Biol. 285, 1735-1747.\n",
      "For more information see http://kinemage.biochem.duke.edu\n",
      "\n"
     ]
    },
    {
     "data": {
      "text/plain": [
       "0"
      ]
     },
     "execution_count": 56,
     "metadata": {},
     "output_type": "execute_result"
    }
   ],
   "source": [
    "ligand_H = \"ligand_H.pdb\"\n",
    "prop = {\n",
    "    \n",
    "}\n",
    "\n",
    "reduce_add_hydrogens(input_path=ligand,\n",
    "                    output_path=ligand_H,\n",
    "                    properties=prop)"
   ]
  },
  {
   "cell_type": "code",
   "execution_count": 57,
   "metadata": {},
   "outputs": [],
   "source": [
    "from ipywidgets import HBox"
   ]
  },
  {
   "cell_type": "code",
   "execution_count": 58,
   "metadata": {},
   "outputs": [
    {
     "data": {
      "application/vnd.jupyter.widget-view+json": {
       "model_id": "5dce0710c2014fefa8bc24eed2b0e303",
       "version_major": 2,
       "version_minor": 0
      },
      "text/plain": [
       "HBox(children=(NGLWidget(), NGLWidget()))"
      ]
     },
     "metadata": {},
     "output_type": "display_data"
    }
   ],
   "source": [
    "v0 = nglview.show_structure_file(ligand)\n",
    "v1 = nglview.show_structure_file(ligand_H)\n",
    "\n",
    "v0._set_size('500px', '')\n",
    "v1._set_size('500px', '')\n",
    "\n",
    "def on_change(change):\n",
    "    v1._set_camera_orientation(change['new'])\n",
    "    \n",
    "v0.observe(on_change, ['_camera_orientation'])\n",
    "\n",
    "HBox([v0, v1])"
   ]
  },
  {
   "cell_type": "code",
   "execution_count": 59,
   "metadata": {},
   "outputs": [],
   "source": [
    "from biobb_chemistry.babelm.babel_convert import babel_convert"
   ]
  },
  {
   "cell_type": "code",
   "execution_count": 60,
   "metadata": {},
   "outputs": [
    {
     "name": "stderr",
     "output_type": "stream",
     "text": [
      "2021-01-26 11:23:57,081 [MainThread  ] [INFO ]  Value  is not compatible as a coordinates value\n",
      "2021-01-26 11:23:57,083 [MainThread  ] [INFO ]  Not using any container\n",
      "2021-01-26 11:23:57,227 [MainThread  ] [INFO ]  /anaconda3/bin/obabel -ipdb ligand_H.pdb -opdbqt -Oprep_ligand.pdbqt  \n",
      "\n",
      "2021-01-26 11:23:57,229 [MainThread  ] [INFO ]  Exit code 0\n",
      "\n",
      "2021-01-26 11:23:57,229 [MainThread  ] [INFO ]  1 molecule converted\n",
      "\n"
     ]
    },
    {
     "data": {
      "text/plain": [
       "0"
      ]
     },
     "execution_count": 60,
     "metadata": {},
     "output_type": "execute_result"
    }
   ],
   "source": [
    "prep_ligand = \"prep_ligand.pdbqt\"\n",
    "prop = {\n",
    "    \"input_format\": \"pdb\",\n",
    "    \"output_format\": \"pdbqt\",\n",
    "    \"obabel_path\": \"/anaconda3/bin/obabel\"\n",
    "}\n",
    "\n",
    "babel_convert(input_path = ligand_H,\n",
    "            output_path = prep_ligand,\n",
    "            properties=prop)"
   ]
  },
  {
   "cell_type": "code",
   "execution_count": 61,
   "metadata": {},
   "outputs": [],
   "source": [
    "from biobb_structure_utils.utils.str_check_add_hydrogens import str_check_add_hydrogens"
   ]
  },
  {
   "cell_type": "code",
   "execution_count": 62,
   "metadata": {},
   "outputs": [
    {
     "name": "stderr",
     "output_type": "stream",
     "text": [
      "2021-01-26 11:23:59,507 [MainThread  ] [INFO ]  check_structure -i /home/gbayarri_local/projects/BioBB/biobb_vs/biobb_vs/tutorial/ebi_api/extract_chain.pdb -o prep_receptor.pdbqt --force_save add_hydrogen --add_charges --add_mode auto\n",
      "\n",
      "2021-01-26 11:23:59,508 [MainThread  ] [INFO ]  Exit code 0\n",
      "\n",
      "2021-01-26 11:23:59,509 [MainThread  ] [INFO ]  ===============================================================================\n",
      "=                   BioBB structure checking utility v3.7.2                   =\n",
      "=                 A. Hospital, P. Andrio, J.L. Gelpi 2018-20                  =\n",
      "===============================================================================\n",
      "\n",
      "Warning: sequence features only available in mmCIF format or with external fasta input\n",
      "Structure /home/gbayarri_local/projects/BioBB/biobb_vs/biobb_vs/tutorial/ebi_api/extract_chain.pdb loaded\n",
      " Title: \n",
      " Experimental method: unknown\n",
      " Resolution: None A\n",
      "\n",
      " Num. models: 1\n",
      " Num. chains: 1 (A: Protein)\n",
      " Num. residues:  371\n",
      " Num. residues with ins. codes:  0\n",
      " Num. HETATM residues:  87\n",
      " Num. ligands or modified residues:  2\n",
      " Num. water mol.:  85\n",
      " Num. atoms:  2384\n",
      "Small mol ligands found\n",
      "PO4 A81\n",
      "PO4 A82\n",
      "\n",
      "Running add_hydrogen. Options: --add_charges --add_mode auto\n",
      "96 Residues requiring selection on adding H atoms\n",
      " CYS A775,A781,A797,A818,A939,A950\n",
      " ASP A761,A770,A800,A807,A830,A837,A855,A896,A916,A942,A954,A956,A974,A984,A1003,A1012,A1014\n",
      " GLU A709,A711,A746,A758,A762,A804,A829,A865,A866,A884,A906,A922,A928,A931,A963,A967,A985,A1015\n",
      " HIS A773,A805,A835,A850,A888,A893\n",
      " LYS A708,A713,A714,A716,A728,A739,A745,A754,A757,A806,A823,A846,A852,A860,A867,A879,A913,A929,A949,A960,A970\n",
      " ARG A705,A748,A776,A803,A831,A832,A836,A841,A889,A932,A958,A962,A973,A977,A986,A999\n",
      " TYR A727,A764,A801,A813,A827,A891,A900,A915,A944,A978,A998,A1016\n",
      "WARNING: fixing side chains, override with --no_fix_side\n",
      "Running fixside. Options: --fix all\n",
      "1 Residues with missing side chain atoms found\n",
      " GLU A1015  CG,CD,OE1,OE2\n",
      "Fixing side chains\n",
      "GLU A1015\n",
      "  Adding new atom CG\n",
      "  Adding new atom CD\n",
      "  Adding new atom OE1\n",
      "  Adding new atom OE2\n",
      "Fixed 1 side chain(s)\n",
      "Checking for steric clashes\n",
      "No severe clashes detected\n",
      "No apolar clashes detected\n",
      "No polar_acceptor clashes detected\n",
      "No polar_donor clashes detected\n",
      "No positive clashes detected\n",
      "No negative clashes detected\n",
      "Selection: auto\n",
      "Replacing HIS A773 by HIE\n",
      "Replacing HIS A805 by HIE\n",
      "Replacing HIS A835 by HIE\n",
      "Replacing HIS A850 by HIE\n",
      "Replacing HIS A888 by HIE\n",
      "Replacing HIS A893 by HIE\n",
      "Updating partial charges and atom types\n",
      "Warning: OXT atom missing in CPRO A733. Run backbone --add_atoms first\n",
      "Warning: OXT atom missing in CARG A748. Run backbone --add_atoms first\n",
      "Warning: OXT atom missing in CLYS A867. Run backbone --add_atoms first\n",
      "Warning: OXT atom missing in CMET A987. Run backbone --add_atoms first\n",
      "Warning: OXT atom missing in CASP A1003. Run backbone --add_atoms first\n",
      "Warning: PO4 not found in residue library atom charges set to 0.\n",
      "Warning: PO4 not found in residue library atom charges set to 0.\n",
      "Warning: HOH not found in residue library atom charges set to 0.\n",
      "Warning: HOH not found in residue library atom charges set to 0.\n",
      "Warning: HOH not found in residue library atom charges set to 0.\n",
      "Warning: HOH not found in residue library atom charges set to 0.\n",
      "Warning: HOH not found in residue library atom charges set to 0.\n",
      "Warning: HOH not found in residue library atom charges set to 0.\n",
      "Warning: HOH not found in residue library atom charges set to 0.\n",
      "Warning: HOH not found in residue library atom charges set to 0.\n",
      "Warning: HOH not found in residue library atom charges set to 0.\n",
      "Warning: HOH not found in residue library atom charges set to 0.\n",
      "Warning: HOH not found in residue library atom charges set to 0.\n",
      "Warning: HOH not found in residue library atom charges set to 0.\n",
      "Warning: HOH not found in residue library atom charges set to 0.\n",
      "Warning: HOH not found in residue library atom charges set to 0.\n",
      "Warning: HOH not found in residue library atom charges set to 0.\n",
      "Warning: HOH not found in residue library atom charges set to 0.\n",
      "Warning: HOH not found in residue library atom charges set to 0.\n",
      "Warning: HOH not found in residue library atom charges set to 0.\n",
      "Warning: HOH not found in residue library atom charges set to 0.\n",
      "Warning: HOH not found in residue library atom charges set to 0.\n",
      "Warning: HOH not found in residue library atom charges set to 0.\n",
      "Warning: HOH not found in residue library atom charges set to 0.\n",
      "Warning: HOH not found in residue library atom charges set to 0.\n",
      "Warning: HOH not found in residue library atom charges set to 0.\n",
      "Warning: HOH not found in residue library atom charges set to 0.\n",
      "Warning: HOH not found in residue library atom charges set to 0.\n",
      "Warning: HOH not found in residue library atom charges set to 0.\n",
      "Warning: HOH not found in residue library atom charges set to 0.\n",
      "Warning: HOH not found in residue library atom charges set to 0.\n",
      "Warning: HOH not found in residue library atom charges set to 0.\n",
      "Warning: HOH not found in residue library atom charges set to 0.\n",
      "Warning: HOH not found in residue library atom charges set to 0.\n",
      "Warning: HOH not found in residue library atom charges set to 0.\n",
      "Warning: HOH not found in residue library atom charges set to 0.\n",
      "Warning: HOH not found in residue library atom charges set to 0.\n",
      "Warning: HOH not found in residue library atom charges set to 0.\n",
      "Warning: HOH not found in residue library atom charges set to 0.\n",
      "Warning: HOH not found in residue library atom charges set to 0.\n",
      "Warning: HOH not found in residue library atom charges set to 0.\n",
      "Warning: HOH not found in residue library atom charges set to 0.\n",
      "Warning: HOH not found in residue library atom charges set to 0.\n",
      "Warning: HOH not found in residue library atom charges set to 0.\n",
      "Warning: HOH not found in residue library atom charges set to 0.\n",
      "Warning: HOH not found in residue library atom charges set to 0.\n",
      "Warning: HOH not found in residue library atom charges set to 0.\n",
      "Warning: HOH not found in residue library atom charges set to 0.\n",
      "Warning: HOH not found in residue library atom charges set to 0.\n",
      "Warning: HOH not found in residue library atom charges set to 0.\n",
      "Warning: HOH not found in residue library atom charges set to 0.\n",
      "Warning: HOH not found in residue library atom charges set to 0.\n",
      "Warning: HOH not found in residue library atom charges set to 0.\n",
      "Warning: HOH not found in residue library atom charges set to 0.\n",
      "Warning: HOH not found in residue library atom charges set to 0.\n",
      "Warning: HOH not found in residue library atom charges set to 0.\n",
      "Warning: HOH not found in residue library atom charges set to 0.\n",
      "Warning: HOH not found in residue library atom charges set to 0.\n",
      "Warning: HOH not found in residue library atom charges set to 0.\n",
      "Warning: HOH not found in residue library atom charges set to 0.\n",
      "Warning: HOH not found in residue library atom charges set to 0.\n",
      "Warning: HOH not found in residue library atom charges set to 0.\n",
      "Warning: HOH not found in residue library atom charges set to 0.\n",
      "Warning: HOH not found in residue library atom charges set to 0.\n",
      "Warning: HOH not found in residue library atom charges set to 0.\n",
      "Warning: HOH not found in residue library atom charges set to 0.\n",
      "Warning: HOH not found in residue library atom charges set to 0.\n",
      "Warning: HOH not found in residue library atom charges set to 0.\n",
      "Warning: HOH not found in residue library atom charges set to 0.\n",
      "Warning: HOH not found in residue library atom charges set to 0.\n",
      "Warning: HOH not found in residue library atom charges set to 0.\n",
      "Warning: HOH not found in residue library atom charges set to 0.\n",
      "Warning: HOH not found in residue library atom charges set to 0.\n",
      "Warning: HOH not found in residue library atom charges set to 0.\n",
      "Warning: HOH not found in residue library atom charges set to 0.\n",
      "Warning: HOH not found in residue library atom charges set to 0.\n",
      "Warning: HOH not found in residue library atom charges set to 0.\n",
      "Warning: HOH not found in residue library atom charges set to 0.\n",
      "Warning: HOH not found in residue library atom charges set to 0.\n",
      "Warning: HOH not found in residue library atom charges set to 0.\n",
      "Warning: HOH not found in residue library atom charges set to 0.\n",
      "Warning: HOH not found in residue library atom charges set to 0.\n",
      "Warning: HOH not found in residue library atom charges set to 0.\n",
      "Warning: HOH not found in residue library atom charges set to 0.\n",
      "Warning: HOH not found in residue library atom charges set to 0.\n",
      "Warning: HOH not found in residue library atom charges set to 0.\n",
      "Warning: HOH not found in residue library atom charges set to 0.\n",
      "Total assigned charge:       5.69\n",
      "Final Num. models: 1\n",
      "Final Num. chains: 1 (A: Protein)\n",
      "Final Num. residues:  371\n",
      "Final Num. residues with ins. codes:  0\n",
      "Final Num. HETATM residues:  87\n",
      "Final Num. ligands or modified residues:  2\n",
      "Final Num. water mol.:  85\n",
      "Final Num. atoms:  4757\n",
      "Small mol ligands found\n",
      "PO4 A81\n",
      "PO4 A82\n",
      "Structure saved on prep_receptor.pdbqt\n",
      "\n"
     ]
    },
    {
     "data": {
      "text/plain": [
       "0"
      ]
     },
     "execution_count": 62,
     "metadata": {},
     "output_type": "execute_result"
    }
   ],
   "source": [
    "prep_receptor = \"prep_receptor.pdbqt\"\n",
    "prop = {\n",
    "    \"charges\": True,\n",
    "    \"mode\": \"auto\"\n",
    "}\n",
    "\n",
    "str_check_add_hydrogens(input_structure_path = pdb_single_chain,\n",
    "            output_structure_path = prep_receptor,\n",
    "            properties=prop)"
   ]
  },
  {
   "cell_type": "code",
   "execution_count": 64,
   "metadata": {},
   "outputs": [],
   "source": [
    "from biobb_vs.vina.autodock_vina import autodock_vina"
   ]
  },
  {
   "cell_type": "code",
   "execution_count": 65,
   "metadata": {},
   "outputs": [
    {
     "name": "stderr",
     "output_type": "stream",
     "text": [
      "2021-01-26 11:24:02,988 [MainThread  ] [INFO ]  prep_receptor.pdbqt file ends with END, cleaning\n",
      "2021-01-26 11:24:02,992 [MainThread  ] [INFO ]  Executing AutoDock Vina\n",
      "2021-01-26 11:24:02,992 [MainThread  ] [INFO ]  Not using any container\n",
      "2021-01-26 11:24:55,141 [MainThread  ] [INFO ]  vina --ligand prep_ligand.pdbqt --receptor prep_receptor.pdbqt --center_x=14.494 --center_y=36.352 --center_z=93.217 --size_x=13.848 --size_y=14.010 --size_z=15.127 --out output_vina.pdbqt --log output_vina.log\n",
      "\n",
      "2021-01-26 11:24:55,142 [MainThread  ] [INFO ]  Exit code 0\n",
      "\n",
      "2021-01-26 11:24:55,142 [MainThread  ] [INFO ]  #################################################################\n",
      "# If you used AutoDock Vina in your work, please cite:          #\n",
      "#                                                               #\n",
      "# O. Trott, A. J. Olson,                                        #\n",
      "# AutoDock Vina: improving the speed and accuracy of docking    #\n",
      "# with a new scoring function, efficient optimization and       #\n",
      "# multithreading, Journal of Computational Chemistry 31 (2010)  #\n",
      "# 455-461                                                       #\n",
      "#                                                               #\n",
      "# DOI 10.1002/jcc.21334                                         #\n",
      "#                                                               #\n",
      "# Please see http://vina.scripps.edu for more information.      #\n",
      "#################################################################\n",
      "\n",
      "Detected 8 CPUs\n",
      "Reading input ... done.\n",
      "Setting up the scoring function ... done.\n",
      "Analyzing the binding site ... done.\n",
      "Using random seed: 699491087\n",
      "Performing search ... \n",
      "0%   10   20   30   40   50   60   70   80   90   100%\n",
      "|----|----|----|----|----|----|----|----|----|----|\n",
      "***************************************************\n",
      "done.\n",
      "Refining results ... done.\n",
      "\n",
      "mode |   affinity | dist from best mode\n",
      "     | (kcal/mol) | rmsd l.b.| rmsd u.b.\n",
      "-----+------------+----------+----------\n",
      "   1        -11.9      0.000      0.000\n",
      "   2        -11.8      0.976      1.554\n",
      "   3        -10.3      2.991      9.392\n",
      "   4         -9.2      2.975      9.463\n",
      "Writing output ... done.\n",
      "\n"
     ]
    },
    {
     "data": {
      "text/plain": [
       "0"
      ]
     },
     "execution_count": 65,
     "metadata": {},
     "output_type": "execute_result"
    }
   ],
   "source": [
    "output_vina_pdbqt = \"output_vina.pdbqt\"\n",
    "output_vina_log = \"output_vina.log\"\n",
    "\n",
    "autodock_vina(input_ligand_pdbqt_path = prep_ligand,\n",
    "             input_receptor_pdbqt_path = prep_receptor,\n",
    "             input_box_path = output_box,\n",
    "            output_pdbqt_path = output_vina_pdbqt,\n",
    "             output_log_path = output_vina_log)"
   ]
  },
  {
   "cell_type": "code",
   "execution_count": 66,
   "metadata": {},
   "outputs": [
    {
     "data": {
      "application/vnd.jupyter.widget-view+json": {
       "model_id": "7fe1108f373b4d7999de74decdb3c573",
       "version_major": 2,
       "version_minor": 0
      },
      "text/plain": [
       "HBox(children=(NGLWidget(), NGLWidget()))"
      ]
     },
     "metadata": {},
     "output_type": "display_data"
    }
   ],
   "source": [
    "models = 'all'\n",
    "#models = '/0 or /1 or /4'\n",
    "\n",
    "v0 = nglview.show_structure_file(output_vina_pdbqt, default=False)\n",
    "v0.add_representation(repr_type='licorice', \n",
    "                        selection=models,\n",
    "                       colorScheme= 'partialCharge')\n",
    "v0.center()\n",
    "v1 = nglview.show_structure_file(output_vina_pdbqt, default=False)\n",
    "v1.add_representation(repr_type='ball+stick', \n",
    "                        selection=models)\n",
    "v1.center()\n",
    "\n",
    "v0._set_size('500px', '')\n",
    "v1._set_size('500px', '')\n",
    "\n",
    "def on_change(change):\n",
    "    v1._set_camera_orientation(change['new'])\n",
    "    \n",
    "v0.observe(on_change, ['_camera_orientation'])\n",
    "\n",
    "HBox([v0, v1])"
   ]
  },
  {
   "cell_type": "code",
   "execution_count": 67,
   "metadata": {},
   "outputs": [
    {
     "data": {
      "application/vnd.jupyter.widget-view+json": {
       "model_id": "847003c08b344fe7bc8b8f8e8def8fa3",
       "version_major": 2,
       "version_minor": 0
      },
      "text/plain": [
       "Dropdown(description='Sel. model:', options=(('model0', 0), ('model1', 1), ('model2', 2), ('model3', 3)), valu…"
      ]
     },
     "metadata": {},
     "output_type": "display_data"
    }
   ],
   "source": [
    "from Bio.PDB import PDBParser\n",
    "parser = PDBParser(QUIET = True)\n",
    "structure = parser.get_structure(\"protein\", output_vina_pdbqt)\n",
    "models = []\n",
    "for i, m in enumerate(structure):\n",
    "    models.append(('model' + str(i), i))\n",
    "    \n",
    "mdsel = ipywidgets.Dropdown(\n",
    "    options=models,\n",
    "    description='Sel. model:',\n",
    "    disabled=False,\n",
    ")\n",
    "display(mdsel)"
   ]
  },
  {
   "cell_type": "code",
   "execution_count": 77,
   "metadata": {},
   "outputs": [],
   "source": [
    "from biobb_vs.utils.extract_model_pdbqt import extract_model_pdbqt"
   ]
  },
  {
   "cell_type": "code",
   "execution_count": 78,
   "metadata": {},
   "outputs": [
    {
     "name": "stderr",
     "output_type": "stream",
     "text": [
      "2021-01-26 11:25:40,167 [MainThread  ] [INFO ]  Saving model 2 to output_model.pdbqt\n"
     ]
    },
    {
     "data": {
      "text/plain": [
       "0"
      ]
     },
     "execution_count": 78,
     "metadata": {},
     "output_type": "execute_result"
    }
   ],
   "source": [
    "output_pdbqt_model = \"output_model.pdbqt\"\n",
    "prop = {\n",
    "    \"model\": mdsel.value + 1\n",
    "}\n",
    "\n",
    "extract_model_pdbqt(input_pdbqt_path = output_vina_pdbqt,\n",
    "             output_pdbqt_path = output_pdbqt_model,\n",
    "            properties=prop)"
   ]
  },
  {
   "cell_type": "code",
   "execution_count": 79,
   "metadata": {},
   "outputs": [
    {
     "data": {
      "application/vnd.jupyter.widget-view+json": {
       "model_id": "b00eaa84dcbd436d8df710c56d736413",
       "version_major": 2,
       "version_minor": 0
      },
      "text/plain": [
       "HBox(children=(NGLWidget(), NGLWidget()))"
      ]
     },
     "metadata": {},
     "output_type": "display_data"
    }
   ],
   "source": [
    "v0 = nglview.show_structure_file(ligand)\n",
    "v1 = nglview.show_structure_file(output_pdbqt_model)\n",
    "\n",
    "v0._set_size('500px', '')\n",
    "v1._set_size('500px', '')\n",
    "\n",
    "#def on_change(change):\n",
    "#    v1._set_camera_orientation(change['new'])\n",
    "    \n",
    "#v0.observe(on_change, ['_camera_orientation'])\n",
    "\n",
    "HBox([v0, v1])"
   ]
  },
  {
   "cell_type": "code",
   "execution_count": 80,
   "metadata": {},
   "outputs": [],
   "source": [
    "from biobb_chemistry.babelm.babel_convert import babel_convert"
   ]
  },
  {
   "cell_type": "code",
   "execution_count": 81,
   "metadata": {},
   "outputs": [
    {
     "name": "stderr",
     "output_type": "stream",
     "text": [
      "2021-01-26 11:25:43,767 [MainThread  ] [INFO ]  Value  is not compatible as a coordinates value\n",
      "2021-01-26 11:25:43,769 [MainThread  ] [INFO ]  Not using any container\n",
      "2021-01-26 11:25:43,813 [MainThread  ] [INFO ]  /anaconda3/bin/obabel -ipdbqt output_model.pdbqt -opdb -Ooutput_model.pdb  \n",
      "\n",
      "2021-01-26 11:25:43,815 [MainThread  ] [INFO ]  Exit code 0\n",
      "\n",
      "2021-01-26 11:25:43,816 [MainThread  ] [INFO ]  1 molecule converted\n",
      "\n"
     ]
    },
    {
     "data": {
      "text/plain": [
       "0"
      ]
     },
     "execution_count": 81,
     "metadata": {},
     "output_type": "execute_result"
    }
   ],
   "source": [
    "output_pdb_model = \"output_model.pdb\"\n",
    "prop = {\n",
    "    \"input_format\": \"pdbqt\",\n",
    "    \"output_format\": \"pdb\",\n",
    "    \"obabel_path\": \"/anaconda3/bin/obabel\"\n",
    "}\n",
    "\n",
    "babel_convert(input_path = output_pdbqt_model,\n",
    "             output_path = output_pdb_model,\n",
    "            properties=prop)"
   ]
  },
  {
   "cell_type": "code",
   "execution_count": 82,
   "metadata": {},
   "outputs": [],
   "source": [
    "from biobb_structure_utils.utils.cat_pdb import cat_pdb"
   ]
  },
  {
   "cell_type": "code",
   "execution_count": 83,
   "metadata": {},
   "outputs": [
    {
     "name": "stderr",
     "output_type": "stream",
     "text": [
      "2021-01-26 11:25:44,935 [MainThread  ] [INFO ]  File output_structure.pdb created\n"
     ]
    },
    {
     "data": {
      "text/plain": [
       "0"
      ]
     },
     "execution_count": 83,
     "metadata": {},
     "output_type": "execute_result"
    }
   ],
   "source": [
    "output_structure = \"output_structure.pdb\"\n",
    "\n",
    "cat_pdb(input_structure1 = pdb_single_chain,\n",
    "             input_structure2 = output_pdb_model,\n",
    "             output_structure_path = output_structure)"
   ]
  },
  {
   "cell_type": "code",
   "execution_count": 84,
   "metadata": {},
   "outputs": [
    {
     "name": "stderr",
     "output_type": "stream",
     "text": [
      "2021-01-26 11:25:45,744 [MainThread  ] [INFO ]  Downloading: 4hjo from: http://www.ebi.ac.uk/pdbe/entry-files/download/pdb4hjo.ent\n",
      "/anaconda3/envs/biobb_dev_37/lib/python3.7/site-packages/urllib3/connectionpool.py:986: InsecureRequestWarning: Unverified HTTPS request is being made to host 'www.ebi.ac.uk'. Adding certificate verification is strongly advised. See: https://urllib3.readthedocs.io/en/latest/advanced-usage.html#ssl-warnings\n",
      "  InsecureRequestWarning,\n",
      "2021-01-26 11:25:46,081 [MainThread  ] [INFO ]  Writting pdb to: 4hjo.pdb\n",
      "2021-01-26 11:25:46,083 [MainThread  ] [INFO ]  Filtering lines NOT starting with one of these words: ['ATOM', 'HETATM']\n"
     ]
    },
    {
     "data": {
      "text/plain": [
       "0"
      ]
     },
     "execution_count": 84,
     "metadata": {},
     "output_type": "execute_result"
    }
   ],
   "source": [
    "# download 4hjo for comparing purposes\n",
    "compare_structure = compare_id + \".pdb\"\n",
    "prop = {\n",
    "  \"pdb_code\": compare_id,\n",
    "  \"filter\": [\"ATOM\", \"HETATM\"],\n",
    "  \"api_id\": api_id\n",
    "}\n",
    "compare_structure\n",
    "pdb(output_pdb_path=compare_structure,\n",
    "    properties=prop)"
   ]
  },
  {
   "cell_type": "code",
   "execution_count": 85,
   "metadata": {
    "scrolled": false
   },
   "outputs": [
    {
     "data": {
      "application/vnd.jupyter.widget-view+json": {
       "model_id": "3e044bb50ecd458cb98b17053902ab51",
       "version_major": 2,
       "version_minor": 0
      },
      "text/plain": [
       "NGLWidget()"
      ]
     },
     "metadata": {},
     "output_type": "display_data"
    }
   ],
   "source": [
    "# load reference and output\n",
    "view = nglview.NGLWidget()\n",
    "#v1 = view.add_component(compare_structure)\n",
    "v1 = view.add_component(download_pdb)\n",
    "v2 = view.add_component(output_structure)\n",
    "v1.clear()\n",
    "v1.add_representation(repr_type='licorice', \n",
    "                        selection='HYZ',\n",
    "                      #selection='AQ4',\n",
    "                     radius=0.5)\n",
    "\n",
    "view._remote_call('setSize', target='Widget', args=['','600px'])\n",
    "view\n",
    "\n",
    "something = 'kk'\n",
    "\n",
    "# align reference and output\n",
    "code = \"\"\"\n",
    "console.log(%s)\n",
    "var stage = this.stage;\n",
    "var clist_len = stage.compList.length;\n",
    "var i = 0;\n",
    "var s = [];\n",
    "//console.log(clist_len)\n",
    "//console.log(stage.compList[0])\n",
    "//console.log(stage.compList)\n",
    "for(i = 0; i <= clist_len; i++){\n",
    "    //console.log(stage.compList[i])\n",
    "    if(stage.compList[i] != undefined && stage.compList[i].structure != undefined) {        \n",
    "       s.push(stage.compList[i])\n",
    "    }\n",
    "}\n",
    "\n",
    "NGL.superpose(s[0].structure, s[1].structure, true)\n",
    "s[ 0 ].updateRepresentations({ position: true })\n",
    "s[ 0 ].autoView()\n",
    "\"\"\" % something\n",
    "\n",
    "view._execute_js_code(code)\n",
    "view"
   ]
  },
  {
   "cell_type": "code",
   "execution_count": null,
   "metadata": {},
   "outputs": [],
   "source": [
    "#v0 = nglview.show_structure_file(compare_structure)\n",
    "v0 = nglview.show_structure_file(download_pdb)\n",
    "\n",
    "v1 = nglview.show_structure_file(output_structure)\n",
    "\n",
    "v0._set_size('500px', '500px')\n",
    "v1._set_size('500px', '500px')\n",
    "\n",
    "def on_change(change):\n",
    "    v1._set_camera_orientation(change['new'])\n",
    "    \n",
    "v0.observe(on_change, ['_camera_orientation'])\n",
    "\n",
    "HBox([v0, v1])"
   ]
  },
  {
   "cell_type": "code",
   "execution_count": null,
   "metadata": {},
   "outputs": [],
   "source": []
  }
 ],
 "metadata": {
  "kernelspec": {
   "display_name": "Python 3",
   "language": "python",
   "name": "python3"
  },
  "language_info": {
   "codemirror_mode": {
    "name": "ipython",
    "version": 3
   },
   "file_extension": ".py",
   "mimetype": "text/x-python",
   "name": "python",
   "nbconvert_exporter": "python",
   "pygments_lexer": "ipython3",
   "version": "3.7.6"
  }
 },
 "nbformat": 4,
 "nbformat_minor": 4
}
