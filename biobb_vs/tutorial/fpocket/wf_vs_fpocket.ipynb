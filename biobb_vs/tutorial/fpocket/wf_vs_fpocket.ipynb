{
 "cells": [
  {
   "cell_type": "code",
   "execution_count": 102,
   "metadata": {},
   "outputs": [],
   "source": [
    "import nglview\n",
    "import ipywidgets\n",
    "\n",
    "#pdb_code = \"4i23\"\n",
    "pdb_code = \"2rgp\"\n",
    "drugbank_code = \"DB11963\"\n",
    "ligand_remove = \"HYZ\"\n",
    "compare_id = \"4hjo\"\n",
    "api_id = \"pdbe\"\n",
    "pockets_dir = \"pockets\""
   ]
  },
  {
   "cell_type": "code",
   "execution_count": 103,
   "metadata": {},
   "outputs": [],
   "source": [
    "from biobb_io.api.pdb import pdb"
   ]
  },
  {
   "cell_type": "code",
   "execution_count": 104,
   "metadata": {
    "scrolled": true
   },
   "outputs": [
    {
     "name": "stderr",
     "output_type": "stream",
     "text": [
      "2021-01-25 18:50:38,512 [MainThread  ] [INFO ]  Downloading: 2rgp from: http://www.ebi.ac.uk/pdbe/entry-files/download/pdb2rgp.ent\n",
      "INFO:/home/gbayarri_local/projects/BioBB/biobb_vs/biobb_vs/tutorial/fpocket/log351.out:Downloading: 2rgp from: http://www.ebi.ac.uk/pdbe/entry-files/download/pdb2rgp.ent\n",
      "/anaconda3/envs/biobb_dev_37/lib/python3.7/site-packages/urllib3/connectionpool.py:986: InsecureRequestWarning: Unverified HTTPS request is being made to host 'www.ebi.ac.uk'. Adding certificate verification is strongly advised. See: https://urllib3.readthedocs.io/en/latest/advanced-usage.html#ssl-warnings\n",
      "  InsecureRequestWarning,\n",
      "2021-01-25 18:50:39,024 [MainThread  ] [INFO ]  Writting pdb to: download.pdb\n",
      "INFO:/home/gbayarri_local/projects/BioBB/biobb_vs/biobb_vs/tutorial/fpocket/log351.out:Writting pdb to: download.pdb\n",
      "2021-01-25 18:50:39,026 [MainThread  ] [INFO ]  Filtering lines NOT starting with one of these words: ['ATOM', 'HETATM']\n",
      "INFO:/home/gbayarri_local/projects/BioBB/biobb_vs/biobb_vs/tutorial/fpocket/log351.out:Filtering lines NOT starting with one of these words: ['ATOM', 'HETATM']\n"
     ]
    },
    {
     "data": {
      "text/plain": [
       "0"
      ]
     },
     "execution_count": 104,
     "metadata": {},
     "output_type": "execute_result"
    }
   ],
   "source": [
    "download_pdb = \"download.pdb\"\n",
    "prop = {\n",
    "  \"pdb_code\": pdb_code,\n",
    "  \"filter\": [\"ATOM\", \"HETATM\"],\n",
    "  \"api_id\": api_id\n",
    "}\n",
    "\n",
    "pdb(output_pdb_path=download_pdb,\n",
    "    properties=prop)"
   ]
  },
  {
   "cell_type": "code",
   "execution_count": 105,
   "metadata": {},
   "outputs": [
    {
     "data": {
      "application/vnd.jupyter.widget-view+json": {
       "model_id": "70c224c5b9684e58b739c9b7320130ca",
       "version_major": 2,
       "version_minor": 0
      },
      "text/plain": [
       "NGLWidget()"
      ]
     },
     "metadata": {},
     "output_type": "display_data"
    }
   ],
   "source": [
    "view = nglview.show_structure_file(download_pdb, default=True)\n",
    "view.center()\n",
    "view._remote_call('setSize', target='Widget', args=['','600px'])\n",
    "view"
   ]
  },
  {
   "cell_type": "code",
   "execution_count": 106,
   "metadata": {},
   "outputs": [],
   "source": [
    "from biobb_structure_utils.utils.remove_ligand import remove_ligand"
   ]
  },
  {
   "cell_type": "code",
   "execution_count": 107,
   "metadata": {
    "scrolled": false
   },
   "outputs": [
    {
     "name": "stderr",
     "output_type": "stream",
     "text": [
      "2021-01-25 18:50:49,630 [MainThread  ] [INFO ]  PDB format detected, removing all atoms from residues named HYZ\n",
      "INFO:/home/gbayarri_local/projects/BioBB/biobb_vs/biobb_vs/tutorial/fpocket/log352.out:PDB format detected, removing all atoms from residues named HYZ\n"
     ]
    },
    {
     "data": {
      "text/plain": [
       "0"
      ]
     },
     "execution_count": 107,
     "metadata": {},
     "output_type": "execute_result"
    }
   ],
   "source": [
    "pdb_no_ligand = \"pdb_no_ligand.pdb\"\n",
    "prop = {\n",
    "    \"ligand\": ligand_remove\n",
    "}\n",
    "\n",
    "remove_ligand(input_structure_path=download_pdb,\n",
    "             output_structure_path = pdb_no_ligand,\n",
    "            properties=prop)"
   ]
  },
  {
   "cell_type": "code",
   "execution_count": 108,
   "metadata": {
    "scrolled": false
   },
   "outputs": [
    {
     "data": {
      "application/vnd.jupyter.widget-view+json": {
       "model_id": "e68d0fe6d9cb4b6a94be9d50c09fbb13",
       "version_major": 2,
       "version_minor": 0
      },
      "text/plain": [
       "NGLWidget()"
      ]
     },
     "metadata": {},
     "output_type": "display_data"
    }
   ],
   "source": [
    "view = nglview.show_structure_file(pdb_no_ligand, default=False)\n",
    "view.add_representation(repr_type='cartoon', \n",
    "                        selection='not het',\n",
    "                       colorScheme = 'atomindex')\n",
    "view.center()\n",
    "view._remote_call('setSize', target='Widget', args=['','600px'])\n",
    "view"
   ]
  },
  {
   "cell_type": "code",
   "execution_count": 109,
   "metadata": {},
   "outputs": [],
   "source": [
    "from biobb_structure_utils.utils.extract_chain import extract_chain"
   ]
  },
  {
   "cell_type": "code",
   "execution_count": 110,
   "metadata": {
    "scrolled": true
   },
   "outputs": [
    {
     "name": "stderr",
     "output_type": "stream",
     "text": [
      "2021-01-25 18:50:55,694 [MainThread  ] [INFO ]  check_structure -i /home/gbayarri_local/projects/BioBB/biobb_vs/biobb_vs/tutorial/fpocket/pdb_no_ligand.pdb -o extract_chain.pdb --force_save chains --select A\n",
      "\n",
      "INFO:/home/gbayarri_local/projects/BioBB/biobb_vs/biobb_vs/tutorial/fpocket/log353.out:check_structure -i /home/gbayarri_local/projects/BioBB/biobb_vs/biobb_vs/tutorial/fpocket/pdb_no_ligand.pdb -o extract_chain.pdb --force_save chains --select A\n",
      "\n",
      "2021-01-25 18:50:55,696 [MainThread  ] [INFO ]  Exit code 0\n",
      "\n",
      "INFO:/home/gbayarri_local/projects/BioBB/biobb_vs/biobb_vs/tutorial/fpocket/log353.out:Exit code 0\n",
      "\n",
      "2021-01-25 18:50:55,698 [MainThread  ] [INFO ]  ===============================================================================\n",
      "=                   BioBB structure checking utility v3.7.2                   =\n",
      "=                 A. Hospital, P. Andrio, J.L. Gelpi 2018-20                  =\n",
      "===============================================================================\n",
      "\n",
      "Warning: sequence features only available in mmCIF format or with external fasta input\n",
      "Structure /home/gbayarri_local/projects/BioBB/biobb_vs/biobb_vs/tutorial/fpocket/pdb_no_ligand.pdb loaded\n",
      " Title: \n",
      " Experimental method: unknown\n",
      " Resolution: None A\n",
      "\n",
      " Num. models: 1\n",
      " Num. chains: 1 (A: Protein)\n",
      " Num. residues:  371\n",
      " Num. residues with ins. codes:  0\n",
      " Num. HETATM residues:  87\n",
      " Num. ligands or modified residues:  2\n",
      " Num. water mol.:  85\n",
      " Num. atoms:  2384\n",
      "Small mol ligands found\n",
      "PO4 A81\n",
      "PO4 A82\n",
      "\n",
      "Running chains. Options: --select A\n",
      "1 Chain(s) detected\n",
      " A: Protein\n",
      "Structure not modified, saving due to --force_save option\n",
      "Final Num. models: 1\n",
      "Final Num. chains: 1 (A: Protein)\n",
      "Final Num. residues:  371\n",
      "Final Num. residues with ins. codes:  0\n",
      "Final Num. HETATM residues:  87\n",
      "Final Num. ligands or modified residues:  2\n",
      "Final Num. water mol.:  85\n",
      "Final Num. atoms:  2384\n",
      "Small mol ligands found\n",
      "PO4 A81\n",
      "PO4 A82\n",
      "Structure saved on extract_chain.pdb\n",
      "\n",
      "INFO:/home/gbayarri_local/projects/BioBB/biobb_vs/biobb_vs/tutorial/fpocket/log353.out:===============================================================================\n",
      "=                   BioBB structure checking utility v3.7.2                   =\n",
      "=                 A. Hospital, P. Andrio, J.L. Gelpi 2018-20                  =\n",
      "===============================================================================\n",
      "\n",
      "Warning: sequence features only available in mmCIF format or with external fasta input\n",
      "Structure /home/gbayarri_local/projects/BioBB/biobb_vs/biobb_vs/tutorial/fpocket/pdb_no_ligand.pdb loaded\n",
      " Title: \n",
      " Experimental method: unknown\n",
      " Resolution: None A\n",
      "\n",
      " Num. models: 1\n",
      " Num. chains: 1 (A: Protein)\n",
      " Num. residues:  371\n",
      " Num. residues with ins. codes:  0\n",
      " Num. HETATM residues:  87\n",
      " Num. ligands or modified residues:  2\n",
      " Num. water mol.:  85\n",
      " Num. atoms:  2384\n",
      "Small mol ligands found\n",
      "PO4 A81\n",
      "PO4 A82\n",
      "\n",
      "Running chains. Options: --select A\n",
      "1 Chain(s) detected\n",
      " A: Protein\n",
      "Structure not modified, saving due to --force_save option\n",
      "Final Num. models: 1\n",
      "Final Num. chains: 1 (A: Protein)\n",
      "Final Num. residues:  371\n",
      "Final Num. residues with ins. codes:  0\n",
      "Final Num. HETATM residues:  87\n",
      "Final Num. ligands or modified residues:  2\n",
      "Final Num. water mol.:  85\n",
      "Final Num. atoms:  2384\n",
      "Small mol ligands found\n",
      "PO4 A81\n",
      "PO4 A82\n",
      "Structure saved on extract_chain.pdb\n",
      "\n"
     ]
    },
    {
     "data": {
      "text/plain": [
       "0"
      ]
     },
     "execution_count": 110,
     "metadata": {},
     "output_type": "execute_result"
    }
   ],
   "source": [
    "pdb_single_chain = \"extract_chain.pdb\"\n",
    "prop = {\n",
    "    \"chains\": [\"A\"]\n",
    "}\n",
    "\n",
    "extract_chain(input_structure_path=pdb_no_ligand,\n",
    "             output_structure_path = pdb_single_chain,\n",
    "            properties=prop)"
   ]
  },
  {
   "cell_type": "code",
   "execution_count": 111,
   "metadata": {},
   "outputs": [
    {
     "data": {
      "application/vnd.jupyter.widget-view+json": {
       "model_id": "4d325bcb52224cbca67c65474737731d",
       "version_major": 2,
       "version_minor": 0
      },
      "text/plain": [
       "NGLWidget()"
      ]
     },
     "metadata": {},
     "output_type": "display_data"
    }
   ],
   "source": [
    "view = nglview.show_structure_file(pdb_single_chain, default=False)\n",
    "view.add_representation(repr_type='cartoon', \n",
    "                        selection='not het',\n",
    "                        colorScheme = 'atomindex')\n",
    "view.center()\n",
    "view._remote_call('setSize', target='Widget', args=['','600px'])\n",
    "view"
   ]
  },
  {
   "cell_type": "code",
   "execution_count": 112,
   "metadata": {},
   "outputs": [],
   "source": [
    "from biobb_vs.fpocket.fpocket import fpocket"
   ]
  },
  {
   "cell_type": "code",
   "execution_count": 113,
   "metadata": {
    "scrolled": true
   },
   "outputs": [
    {
     "name": "stderr",
     "output_type": "stream",
     "text": [
      "2021-01-25 18:51:00,303 [MainThread  ] [INFO ]  Creating 0928887e-85e7-45c2-a8d1-f7209f3e11ee temporary folder\n",
      "INFO:/home/gbayarri_local/projects/BioBB/biobb_vs/biobb_vs/tutorial/fpocket/log354.out:Creating 0928887e-85e7-45c2-a8d1-f7209f3e11ee temporary folder\n",
      "2021-01-25 18:51:00,305 [MainThread  ] [INFO ]  Executing fpocket\n",
      "INFO:/home/gbayarri_local/projects/BioBB/biobb_vs/biobb_vs/tutorial/fpocket/log354.out:Executing fpocket\n",
      "2021-01-25 18:51:00,307 [MainThread  ] [INFO ]  Not using any container\n",
      "INFO:/home/gbayarri_local/projects/BioBB/biobb_vs/biobb_vs/tutorial/fpocket/log354.out:Not using any container\n",
      "2021-01-25 18:51:01,610 [MainThread  ] [INFO ]  fpocket -f 0928887e-85e7-45c2-a8d1-f7209f3e11ee/input.pdb -m 3 -M 6 -i 35\n",
      "\n",
      "INFO:/home/gbayarri_local/projects/BioBB/biobb_vs/biobb_vs/tutorial/fpocket/log354.out:fpocket -f 0928887e-85e7-45c2-a8d1-f7209f3e11ee/input.pdb -m 3 -M 6 -i 35\n",
      "\n",
      "2021-01-25 18:51:01,614 [MainThread  ] [INFO ]  Exit code 0\n",
      "\n",
      "INFO:/home/gbayarri_local/projects/BioBB/biobb_vs/biobb_vs/tutorial/fpocket/log354.out:Exit code 0\n",
      "\n",
      "2021-01-25 18:51:01,615 [MainThread  ] [INFO ]  ***** POCKET HUNTING BEGINS ***** \n",
      "***** POCKET HUNTING ENDS ***** \n",
      "\n",
      "INFO:/home/gbayarri_local/projects/BioBB/biobb_vs/biobb_vs/tutorial/fpocket/log354.out:***** POCKET HUNTING BEGINS ***** \n",
      "***** POCKET HUNTING ENDS ***** \n",
      "\n",
      "2021-01-25 18:51:01,624 [MainThread  ] [INFO ]  10 pockets found\n",
      "INFO:/home/gbayarri_local/projects/BioBB/biobb_vs/biobb_vs/tutorial/fpocket/log354.out:10 pockets found\n",
      "2021-01-25 18:51:01,641 [MainThread  ] [INFO ]  Adding:\n",
      "INFO:/home/gbayarri_local/projects/BioBB/biobb_vs/biobb_vs/tutorial/fpocket/log354.out:Adding:\n",
      "2021-01-25 18:51:01,645 [MainThread  ] [INFO ]  ['0928887e-85e7-45c2-a8d1-f7209f3e11ee/input_out/pockets/pocket10_atm.pdb', '0928887e-85e7-45c2-a8d1-f7209f3e11ee/input_out/pockets/pocket10_vert.pqr', '0928887e-85e7-45c2-a8d1-f7209f3e11ee/input_out/pockets/pocket1_atm.pdb', '0928887e-85e7-45c2-a8d1-f7209f3e11ee/input_out/pockets/pocket1_vert.pqr', '0928887e-85e7-45c2-a8d1-f7209f3e11ee/input_out/pockets/pocket2_atm.pdb', '0928887e-85e7-45c2-a8d1-f7209f3e11ee/input_out/pockets/pocket2_vert.pqr', '0928887e-85e7-45c2-a8d1-f7209f3e11ee/input_out/pockets/pocket3_atm.pdb', '0928887e-85e7-45c2-a8d1-f7209f3e11ee/input_out/pockets/pocket3_vert.pqr', '0928887e-85e7-45c2-a8d1-f7209f3e11ee/input_out/pockets/pocket4_atm.pdb', '0928887e-85e7-45c2-a8d1-f7209f3e11ee/input_out/pockets/pocket4_vert.pqr', '0928887e-85e7-45c2-a8d1-f7209f3e11ee/input_out/pockets/pocket5_atm.pdb', '0928887e-85e7-45c2-a8d1-f7209f3e11ee/input_out/pockets/pocket5_vert.pqr', '0928887e-85e7-45c2-a8d1-f7209f3e11ee/input_out/pockets/pocket6_atm.pdb', '0928887e-85e7-45c2-a8d1-f7209f3e11ee/input_out/pockets/pocket6_vert.pqr', '0928887e-85e7-45c2-a8d1-f7209f3e11ee/input_out/pockets/pocket7_atm.pdb', '0928887e-85e7-45c2-a8d1-f7209f3e11ee/input_out/pockets/pocket7_vert.pqr', '0928887e-85e7-45c2-a8d1-f7209f3e11ee/input_out/pockets/pocket8_atm.pdb', '0928887e-85e7-45c2-a8d1-f7209f3e11ee/input_out/pockets/pocket8_vert.pqr', '0928887e-85e7-45c2-a8d1-f7209f3e11ee/input_out/pockets/pocket9_atm.pdb', '0928887e-85e7-45c2-a8d1-f7209f3e11ee/input_out/pockets/pocket9_vert.pqr']\n",
      "INFO:/home/gbayarri_local/projects/BioBB/biobb_vs/biobb_vs/tutorial/fpocket/log354.out:['0928887e-85e7-45c2-a8d1-f7209f3e11ee/input_out/pockets/pocket10_atm.pdb', '0928887e-85e7-45c2-a8d1-f7209f3e11ee/input_out/pockets/pocket10_vert.pqr', '0928887e-85e7-45c2-a8d1-f7209f3e11ee/input_out/pockets/pocket1_atm.pdb', '0928887e-85e7-45c2-a8d1-f7209f3e11ee/input_out/pockets/pocket1_vert.pqr', '0928887e-85e7-45c2-a8d1-f7209f3e11ee/input_out/pockets/pocket2_atm.pdb', '0928887e-85e7-45c2-a8d1-f7209f3e11ee/input_out/pockets/pocket2_vert.pqr', '0928887e-85e7-45c2-a8d1-f7209f3e11ee/input_out/pockets/pocket3_atm.pdb', '0928887e-85e7-45c2-a8d1-f7209f3e11ee/input_out/pockets/pocket3_vert.pqr', '0928887e-85e7-45c2-a8d1-f7209f3e11ee/input_out/pockets/pocket4_atm.pdb', '0928887e-85e7-45c2-a8d1-f7209f3e11ee/input_out/pockets/pocket4_vert.pqr', '0928887e-85e7-45c2-a8d1-f7209f3e11ee/input_out/pockets/pocket5_atm.pdb', '0928887e-85e7-45c2-a8d1-f7209f3e11ee/input_out/pockets/pocket5_vert.pqr', '0928887e-85e7-45c2-a8d1-f7209f3e11ee/input_out/pockets/pocket6_atm.pdb', '0928887e-85e7-45c2-a8d1-f7209f3e11ee/input_out/pockets/pocket6_vert.pqr', '0928887e-85e7-45c2-a8d1-f7209f3e11ee/input_out/pockets/pocket7_atm.pdb', '0928887e-85e7-45c2-a8d1-f7209f3e11ee/input_out/pockets/pocket7_vert.pqr', '0928887e-85e7-45c2-a8d1-f7209f3e11ee/input_out/pockets/pocket8_atm.pdb', '0928887e-85e7-45c2-a8d1-f7209f3e11ee/input_out/pockets/pocket8_vert.pqr', '0928887e-85e7-45c2-a8d1-f7209f3e11ee/input_out/pockets/pocket9_atm.pdb', '0928887e-85e7-45c2-a8d1-f7209f3e11ee/input_out/pockets/pocket9_vert.pqr']\n",
      "2021-01-25 18:51:01,648 [MainThread  ] [INFO ]  to: /home/gbayarri_local/projects/BioBB/biobb_vs/biobb_vs/tutorial/fpocket/fpocket_all_pockets.zip\n",
      "INFO:/home/gbayarri_local/projects/BioBB/biobb_vs/biobb_vs/tutorial/fpocket/log354.out:to: /home/gbayarri_local/projects/BioBB/biobb_vs/biobb_vs/tutorial/fpocket/fpocket_all_pockets.zip\n",
      "2021-01-25 18:51:01,650 [MainThread  ] [INFO ]  Saving summary to fpocket_summary.json file\n",
      "INFO:/home/gbayarri_local/projects/BioBB/biobb_vs/biobb_vs/tutorial/fpocket/log354.out:Saving summary to fpocket_summary.json file\n",
      "2021-01-25 18:51:01,660 [MainThread  ] [INFO ]  Removed temporary folder: 0928887e-85e7-45c2-a8d1-f7209f3e11ee\n",
      "INFO:/home/gbayarri_local/projects/BioBB/biobb_vs/biobb_vs/tutorial/fpocket/log354.out:Removed temporary folder: 0928887e-85e7-45c2-a8d1-f7209f3e11ee\n"
     ]
    },
    {
     "data": {
      "text/plain": [
       "0"
      ]
     },
     "execution_count": 113,
     "metadata": {},
     "output_type": "execute_result"
    }
   ],
   "source": [
    "fpocket_all_pockets = \"fpocket_all_pockets.zip\"\n",
    "fpocket_summary = \"fpocket_summary.json\"\n",
    "prop = {\n",
    "    \"min_radius\": 3,\n",
    "    \"max_radius\": 6,\n",
    "    \"num_spheres\": 35\n",
    "}\n",
    "\n",
    "fpocket(input_pdb_path=pdb_single_chain,\n",
    "        output_pockets_zip = fpocket_all_pockets,\n",
    "        output_summary=fpocket_summary,\n",
    "        properties=prop)"
   ]
  },
  {
   "cell_type": "code",
   "execution_count": 114,
   "metadata": {
    "scrolled": true
   },
   "outputs": [
    {
     "name": "stdout",
     "output_type": "stream",
     "text": [
      "{\n",
      "    \"pocket1\": {\n",
      "        \"score\": 0.296,\n",
      "        \"druggability_score\": 0.041,\n",
      "        \"number_of_alpha_spheres\": 49,\n",
      "        \"total_sasa\": 53.189,\n",
      "        \"polar_sasa\": 30.244,\n",
      "        \"apolar_sasa\": 22.945,\n",
      "        \"volume\": 320.757,\n",
      "        \"mean_local_hydrophobic_density\": 21.652,\n",
      "        \"mean_alpha_sphere_radius\": 3.465,\n",
      "        \"mean_alp_sph_solvent_access\": 0.408,\n",
      "        \"apolar_alpha_sphere_proportion\": 0.469,\n",
      "        \"hydrophobicity_score\": 37.167,\n",
      "        \"volume_score\": 4.833,\n",
      "        \"polarity_score\": 5,\n",
      "        \"charge_score\": 3,\n",
      "        \"proportion_of_polar_atoms\": 43.75,\n",
      "        \"alpha_sphere_density\": 4.122,\n",
      "        \"cent_of_mass_alpha_sphere_max_dist\": 10.532,\n",
      "        \"flexibility\": 0.438\n",
      "    },\n",
      "    \"pocket2\": {\n",
      "        \"score\": 0.189,\n",
      "        \"druggability_score\": 0.034,\n",
      "        \"number_of_alpha_spheres\": 37,\n",
      "        \"total_sasa\": 56.314,\n",
      "        \"polar_sasa\": 22.501,\n",
      "        \"apolar_sasa\": 33.814,\n",
      "        \"volume\": 219.456,\n",
      "        \"mean_local_hydrophobic_density\": 22.538,\n",
      "        \"mean_alpha_sphere_radius\": 3.4,\n",
      "        \"mean_alp_sph_solvent_access\": 0.482,\n",
      "        \"apolar_alpha_sphere_proportion\": 0.703,\n",
      "        \"hydrophobicity_score\": 16.222,\n",
      "        \"volume_score\": 4.667,\n",
      "        \"polarity_score\": 5,\n",
      "        \"charge_score\": 0,\n",
      "        \"proportion_of_polar_atoms\": 33.333,\n",
      "        \"alpha_sphere_density\": 3.702,\n",
      "        \"cent_of_mass_alpha_sphere_max_dist\": 9.418,\n",
      "        \"flexibility\": 0.296\n",
      "    },\n",
      "    \"pocket3\": {\n",
      "        \"score\": 0.141,\n",
      "        \"druggability_score\": 0.002,\n",
      "        \"number_of_alpha_spheres\": 44,\n",
      "        \"total_sasa\": 106.255,\n",
      "        \"polar_sasa\": 62.543,\n",
      "        \"apolar_sasa\": 43.712,\n",
      "        \"volume\": 393.218,\n",
      "        \"mean_local_hydrophobic_density\": 2.0,\n",
      "        \"mean_alpha_sphere_radius\": 3.624,\n",
      "        \"mean_alp_sph_solvent_access\": 0.492,\n",
      "        \"apolar_alpha_sphere_proportion\": 0.068,\n",
      "        \"hydrophobicity_score\": 11.846,\n",
      "        \"volume_score\": 4.077,\n",
      "        \"polarity_score\": 7,\n",
      "        \"charge_score\": 0,\n",
      "        \"proportion_of_polar_atoms\": 54.839,\n",
      "        \"alpha_sphere_density\": 5.0,\n",
      "        \"cent_of_mass_alpha_sphere_max_dist\": 13.166,\n",
      "        \"flexibility\": 0.39\n",
      "    },\n",
      "    \"pocket4\": {\n",
      "        \"score\": 0.099,\n",
      "        \"druggability_score\": 0.001,\n",
      "        \"number_of_alpha_spheres\": 35,\n",
      "        \"total_sasa\": 99.309,\n",
      "        \"polar_sasa\": 55.043,\n",
      "        \"apolar_sasa\": 44.266,\n",
      "        \"volume\": 313.439,\n",
      "        \"mean_local_hydrophobic_density\": 5.273,\n",
      "        \"mean_alpha_sphere_radius\": 3.508,\n",
      "        \"mean_alp_sph_solvent_access\": 0.484,\n",
      "        \"apolar_alpha_sphere_proportion\": 0.314,\n",
      "        \"hydrophobicity_score\": 26.3,\n",
      "        \"volume_score\": 5.3,\n",
      "        \"polarity_score\": 6,\n",
      "        \"charge_score\": 1,\n",
      "        \"proportion_of_polar_atoms\": 44.0,\n",
      "        \"alpha_sphere_density\": 4.465,\n",
      "        \"cent_of_mass_alpha_sphere_max_dist\": 10.856,\n",
      "        \"flexibility\": 0.585\n",
      "    },\n",
      "    \"pocket5\": {\n",
      "        \"score\": 0.086,\n",
      "        \"druggability_score\": 0.012,\n",
      "        \"number_of_alpha_spheres\": 38,\n",
      "        \"total_sasa\": 94.793,\n",
      "        \"polar_sasa\": 27.008,\n",
      "        \"apolar_sasa\": 67.786,\n",
      "        \"volume\": 280.512,\n",
      "        \"mean_local_hydrophobic_density\": 13.333,\n",
      "        \"mean_alpha_sphere_radius\": 3.532,\n",
      "        \"mean_alp_sph_solvent_access\": 0.46,\n",
      "        \"apolar_alpha_sphere_proportion\": 0.395,\n",
      "        \"hydrophobicity_score\": 39.571,\n",
      "        \"volume_score\": 4.429,\n",
      "        \"polarity_score\": 5,\n",
      "        \"charge_score\": -2,\n",
      "        \"proportion_of_polar_atoms\": 46.429,\n",
      "        \"alpha_sphere_density\": 4.211,\n",
      "        \"cent_of_mass_alpha_sphere_max_dist\": 11.092,\n",
      "        \"flexibility\": 0.529\n",
      "    },\n",
      "    \"pocket6\": {\n",
      "        \"score\": 0.082,\n",
      "        \"druggability_score\": 0.144,\n",
      "        \"number_of_alpha_spheres\": 55,\n",
      "        \"total_sasa\": 143.741,\n",
      "        \"polar_sasa\": 51.961,\n",
      "        \"apolar_sasa\": 91.78,\n",
      "        \"volume\": 495.831,\n",
      "        \"mean_local_hydrophobic_density\": 30.611,\n",
      "        \"mean_alpha_sphere_radius\": 3.557,\n",
      "        \"mean_alp_sph_solvent_access\": 0.458,\n",
      "        \"apolar_alpha_sphere_proportion\": 0.655,\n",
      "        \"hydrophobicity_score\": 35.429,\n",
      "        \"volume_score\": 4.5,\n",
      "        \"polarity_score\": 6,\n",
      "        \"charge_score\": 1,\n",
      "        \"proportion_of_polar_atoms\": 35.897,\n",
      "        \"alpha_sphere_density\": 5.28,\n",
      "        \"cent_of_mass_alpha_sphere_max_dist\": 11.129,\n",
      "        \"flexibility\": 0.503\n",
      "    },\n",
      "    \"pocket7\": {\n",
      "        \"score\": 0.08,\n",
      "        \"druggability_score\": 0.013,\n",
      "        \"number_of_alpha_spheres\": 50,\n",
      "        \"total_sasa\": 105.892,\n",
      "        \"polar_sasa\": 56.38,\n",
      "        \"apolar_sasa\": 49.513,\n",
      "        \"volume\": 369.469,\n",
      "        \"mean_local_hydrophobic_density\": 25.071,\n",
      "        \"mean_alpha_sphere_radius\": 3.55,\n",
      "        \"mean_alp_sph_solvent_access\": 0.526,\n",
      "        \"apolar_alpha_sphere_proportion\": 0.56,\n",
      "        \"hydrophobicity_score\": 11.7,\n",
      "        \"volume_score\": 4.7,\n",
      "        \"polarity_score\": 8,\n",
      "        \"charge_score\": 2,\n",
      "        \"proportion_of_polar_atoms\": 38.235,\n",
      "        \"alpha_sphere_density\": 4.086,\n",
      "        \"cent_of_mass_alpha_sphere_max_dist\": 11.409,\n",
      "        \"flexibility\": 0.408\n",
      "    },\n",
      "    \"pocket8\": {\n",
      "        \"score\": 0.002,\n",
      "        \"druggability_score\": 0.905,\n",
      "        \"number_of_alpha_spheres\": 162,\n",
      "        \"total_sasa\": 331.266,\n",
      "        \"polar_sasa\": 94.908,\n",
      "        \"apolar_sasa\": 236.358,\n",
      "        \"volume\": 1228.43,\n",
      "        \"mean_local_hydrophobic_density\": 50.962,\n",
      "        \"mean_alpha_sphere_radius\": 3.816,\n",
      "        \"mean_alp_sph_solvent_access\": 0.48,\n",
      "        \"apolar_alpha_sphere_proportion\": 0.488,\n",
      "        \"hydrophobicity_score\": 35.067,\n",
      "        \"volume_score\": 3.933,\n",
      "        \"polarity_score\": 11,\n",
      "        \"charge_score\": 0,\n",
      "        \"proportion_of_polar_atoms\": 36.364,\n",
      "        \"alpha_sphere_density\": 7.296,\n",
      "        \"cent_of_mass_alpha_sphere_max_dist\": 17.251,\n",
      "        \"flexibility\": 0.351\n",
      "    },\n",
      "    \"pocket9\": {\n",
      "        \"score\": -0.016,\n",
      "        \"druggability_score\": 0.005,\n",
      "        \"number_of_alpha_spheres\": 35,\n",
      "        \"total_sasa\": 76.281,\n",
      "        \"polar_sasa\": 36.43,\n",
      "        \"apolar_sasa\": 39.852,\n",
      "        \"volume\": 234.301,\n",
      "        \"mean_local_hydrophobic_density\": 23.0,\n",
      "        \"mean_alpha_sphere_radius\": 3.665,\n",
      "        \"mean_alp_sph_solvent_access\": 0.481,\n",
      "        \"apolar_alpha_sphere_proportion\": 0.686,\n",
      "        \"hydrophobicity_score\": 36.667,\n",
      "        \"volume_score\": 4.778,\n",
      "        \"polarity_score\": 5,\n",
      "        \"charge_score\": 1,\n",
      "        \"proportion_of_polar_atoms\": 26.087,\n",
      "        \"alpha_sphere_density\": 2.387,\n",
      "        \"cent_of_mass_alpha_sphere_max_dist\": 5.186,\n",
      "        \"flexibility\": 0.543\n",
      "    },\n",
      "    \"pocket10\": {\n",
      "        \"score\": -0.062,\n",
      "        \"druggability_score\": 0.048,\n",
      "        \"number_of_alpha_spheres\": 39,\n",
      "        \"total_sasa\": 123.213,\n",
      "        \"polar_sasa\": 29.018,\n",
      "        \"apolar_sasa\": 94.195,\n",
      "        \"volume\": 345.841,\n",
      "        \"mean_local_hydrophobic_density\": 28.387,\n",
      "        \"mean_alpha_sphere_radius\": 3.721,\n",
      "        \"mean_alp_sph_solvent_access\": 0.486,\n",
      "        \"apolar_alpha_sphere_proportion\": 0.795,\n",
      "        \"hydrophobicity_score\": 29.6,\n",
      "        \"volume_score\": 4.3,\n",
      "        \"polarity_score\": 3,\n",
      "        \"charge_score\": 1,\n",
      "        \"proportion_of_polar_atoms\": 26.667,\n",
      "        \"alpha_sphere_density\": 3.764,\n",
      "        \"cent_of_mass_alpha_sphere_max_dist\": 10.498,\n",
      "        \"flexibility\": 0.8\n",
      "    }\n",
      "}\n"
     ]
    }
   ],
   "source": [
    "import json\n",
    "\n",
    "with open(fpocket_summary, 'r') as json_file:\n",
    "    data = json.load(json_file)\n",
    "    print(json.dumps(data, indent=4))"
   ]
  },
  {
   "cell_type": "code",
   "execution_count": 115,
   "metadata": {},
   "outputs": [],
   "source": [
    "from biobb_vs.fpocket.fpocket_filter import fpocket_filter"
   ]
  },
  {
   "cell_type": "code",
   "execution_count": 116,
   "metadata": {
    "scrolled": false
   },
   "outputs": [
    {
     "name": "stderr",
     "output_type": "stream",
     "text": [
      "2021-01-25 18:51:07,441 [MainThread  ] [INFO ]  Performing a search under the next parameters: score: [0.2, 1], druggability_score: [0.2, 0.8], volume: [100, 600.2]\n",
      "INFO:/home/gbayarri_local/projects/BioBB/biobb_vs/biobb_vs/tutorial/fpocket/log355.out:Performing a search under the next parameters: score: [0.2, 1], druggability_score: [0.2, 0.8], volume: [100, 600.2]\n",
      "2021-01-25 18:51:07,442 [MainThread  ] [INFO ]  No matches found\n",
      "INFO:/home/gbayarri_local/projects/BioBB/biobb_vs/biobb_vs/tutorial/fpocket/log355.out:No matches found\n"
     ]
    },
    {
     "data": {
      "text/plain": [
       "0"
      ]
     },
     "execution_count": 116,
     "metadata": {},
     "output_type": "execute_result"
    }
   ],
   "source": [
    "fpocket_filter_pockets = \"fpocket_filter_pockets.zip\"\n",
    "prop = {\n",
    "    \"score\": [0.2, 1],\n",
    "    \"druggability_score\": [0.2, 0.8],\n",
    "    \"volume\": [100, 600.2]\n",
    "}\n",
    "\n",
    "fpocket_filter(input_pockets_zip=fpocket_all_pockets,\n",
    "                input_summary = fpocket_summary,\n",
    "                output_filter_pockets_zip=fpocket_filter_pockets,\n",
    "                properties=prop)"
   ]
  },
  {
   "cell_type": "code",
   "execution_count": 117,
   "metadata": {},
   "outputs": [],
   "source": [
    "import os\n",
    "from pathlib import Path, PurePath\n",
    "import zipfile\n",
    "\n",
    "if not Path(pockets_dir).exists(): os.mkdir(pockets_dir)\n",
    "#fpocket_filter_pockets\n",
    "with zipfile.ZipFile(fpocket_all_pockets, 'r') as zip_ref:\n",
    "    zip_ref.extractall(pockets_dir)\n",
    "\n",
    "path_pockets = [str(i) for i in Path(pockets_dir).iterdir()]\n",
    "path_pockets_pdb = [str(i) for i in Path(pockets_dir).iterdir() if PurePath(i).suffix == '.pdb']\n",
    "path_pockets_pqr = [str(i) for i in Path(pockets_dir).iterdir() if PurePath(i).suffix == '.pqr']"
   ]
  },
  {
   "cell_type": "code",
   "execution_count": 118,
   "metadata": {
    "scrolled": false
   },
   "outputs": [
    {
     "data": {
      "application/vnd.jupyter.widget-view+json": {
       "model_id": "3faac0af927f4978ac9d822818dc2a86",
       "version_major": 2,
       "version_minor": 0
      },
      "text/plain": [
       "NGLWidget()"
      ]
     },
     "metadata": {},
     "output_type": "display_data"
    }
   ],
   "source": [
    "import re\n",
    "import random\n",
    "\n",
    "# random colors for cavities\n",
    "r = lambda: random.randint(0,255)\n",
    "\n",
    "# load structure\n",
    "view = nglview.NGLWidget()\n",
    "c = view.add_component(pdb_single_chain)\n",
    "\n",
    "# load cavities (d) and pockets (p) and create pocketNames list\n",
    "c = {}\n",
    "p = {}\n",
    "pocketNames = []\n",
    "for pock in path_pockets:\n",
    "    g = re.findall('(?:pocket)(\\d+)(?:_\\w+)\\.(\\w+)', pock)\n",
    "    i = g[0][0]\n",
    "    suff = g[0][1]\n",
    "    if not [item for item in pocketNames if ('pocket' + i) in item]: pocketNames.append(('pocket' + i, i))\n",
    "\n",
    "    if suff == 'pdb':\n",
    "        c[i] = view.add_component(pock)\n",
    "        c[i].clear()\n",
    "    else:\n",
    "        p[i] = view.add_component(pock)\n",
    "        p[i].clear()\n",
    "\n",
    "# sort pocket names\n",
    "pocketNames.sort()\n",
    "        \n",
    "# representation for cavities\n",
    "for pock in path_pockets_pdb:\n",
    "    g = re.findall('(?:pocket)(\\d+)(?:_\\w+)\\.(\\w+)', pock)\n",
    "    i = g[0][0]\n",
    "    c[i].add_surface( color='#%02X%02X%02X' % (r(),r(),r()), surfaceType= 'av', radius='1.5')\n",
    "\n",
    "# representation for pockets\n",
    "for pock in path_pockets_pqr:\n",
    "    g = re.findall('(?:pocket)(\\d+)(?:_\\w+)\\.(\\w+)', pock)\n",
    "    i = g[0][0]\n",
    "    p[i].add_surface( component=i, color='skyblue', surfaceType= 'av', contour=True )\n",
    "\n",
    "view.center()\n",
    "view._remote_call('setSize', target='Widget', args=['','600px'])\n",
    "view\n",
    "\n",
    "# show pocket labels\n",
    "code = \"\"\"\n",
    "var stage = this.stage;\n",
    "var view = this.stage.viewer;\n",
    "var clist_len = stage.compList.length;\n",
    "var i = 0;\n",
    "for(i = 0; i <= clist_len; i++){\n",
    "    if(stage.compList[i] != undefined && stage.compList[i].structure != undefined && stage.compList[i].object.name.indexOf('pqr') != -1) {        \n",
    "\n",
    "        var elm = document.createElement(\"div\");\n",
    "        elm.innerText = 'pocket' + stage.compList[i].object.name.match(/\\d+/g)\n",
    "        elm.style.color = \"black\";\n",
    "        elm.style.background = \"rgba(201, 149, 6, .8)\";\n",
    "        elm.style.padding = \"8px\";\n",
    "        \n",
    "        stage.compList[i].addAnnotation(stage.compList[i].structure.center, elm)\n",
    "    }\n",
    "}\n",
    "\"\"\"\n",
    "\n",
    "view._execute_js_code(code)\n",
    "\n",
    "view"
   ]
  },
  {
   "cell_type": "code",
   "execution_count": 119,
   "metadata": {},
   "outputs": [
    {
     "data": {
      "application/vnd.jupyter.widget-view+json": {
       "model_id": "9ce827944e0a48e2b1351b9c8a02a246",
       "version_major": 2,
       "version_minor": 0
      },
      "text/plain": [
       "Dropdown(description='Sel. pocket:', options=(('pocket1', '1'), ('pocket10', '10'), ('pocket2', '2'), ('pocket…"
      ]
     },
     "metadata": {},
     "output_type": "display_data"
    }
   ],
   "source": [
    "mdsel = ipywidgets.Dropdown(\n",
    "    options=pocketNames,\n",
    "    description='Sel. pocket:',\n",
    "    disabled=False,\n",
    ")\n",
    "display(mdsel)"
   ]
  },
  {
   "cell_type": "code",
   "execution_count": 120,
   "metadata": {},
   "outputs": [],
   "source": [
    "from biobb_vs.fpocket.fpocket_select import fpocket_select"
   ]
  },
  {
   "cell_type": "code",
   "execution_count": 121,
   "metadata": {},
   "outputs": [
    {
     "name": "stderr",
     "output_type": "stream",
     "text": [
      "2021-01-25 18:51:21,687 [MainThread  ] [INFO ]  Creating 3c17ed52-a6fb-47d3-a3cf-d8df9c01dda2 temporary folder\n",
      "INFO:/home/gbayarri_local/projects/BioBB/biobb_vs/biobb_vs/tutorial/fpocket/log356.out:Creating 3c17ed52-a6fb-47d3-a3cf-d8df9c01dda2 temporary folder\n",
      "2021-01-25 18:51:21,691 [MainThread  ] [INFO ]  Extracting: /home/gbayarri_local/projects/BioBB/biobb_vs/biobb_vs/tutorial/fpocket/fpocket_all_pockets.zip\n",
      "INFO:/home/gbayarri_local/projects/BioBB/biobb_vs/biobb_vs/tutorial/fpocket/log356.out:Extracting: /home/gbayarri_local/projects/BioBB/biobb_vs/biobb_vs/tutorial/fpocket/fpocket_all_pockets.zip\n",
      "2021-01-25 18:51:21,692 [MainThread  ] [INFO ]  to:\n",
      "INFO:/home/gbayarri_local/projects/BioBB/biobb_vs/biobb_vs/tutorial/fpocket/log356.out:to:\n",
      "2021-01-25 18:51:21,693 [MainThread  ] [INFO ]  ['3c17ed52-a6fb-47d3-a3cf-d8df9c01dda2/pocket10_atm.pdb', '3c17ed52-a6fb-47d3-a3cf-d8df9c01dda2/pocket10_vert.pqr', '3c17ed52-a6fb-47d3-a3cf-d8df9c01dda2/pocket1_atm.pdb', '3c17ed52-a6fb-47d3-a3cf-d8df9c01dda2/pocket1_vert.pqr', '3c17ed52-a6fb-47d3-a3cf-d8df9c01dda2/pocket2_atm.pdb', '3c17ed52-a6fb-47d3-a3cf-d8df9c01dda2/pocket2_vert.pqr', '3c17ed52-a6fb-47d3-a3cf-d8df9c01dda2/pocket3_atm.pdb', '3c17ed52-a6fb-47d3-a3cf-d8df9c01dda2/pocket3_vert.pqr', '3c17ed52-a6fb-47d3-a3cf-d8df9c01dda2/pocket4_atm.pdb', '3c17ed52-a6fb-47d3-a3cf-d8df9c01dda2/pocket4_vert.pqr', '3c17ed52-a6fb-47d3-a3cf-d8df9c01dda2/pocket5_atm.pdb', '3c17ed52-a6fb-47d3-a3cf-d8df9c01dda2/pocket5_vert.pqr', '3c17ed52-a6fb-47d3-a3cf-d8df9c01dda2/pocket6_atm.pdb', '3c17ed52-a6fb-47d3-a3cf-d8df9c01dda2/pocket6_vert.pqr', '3c17ed52-a6fb-47d3-a3cf-d8df9c01dda2/pocket7_atm.pdb', '3c17ed52-a6fb-47d3-a3cf-d8df9c01dda2/pocket7_vert.pqr', '3c17ed52-a6fb-47d3-a3cf-d8df9c01dda2/pocket8_atm.pdb', '3c17ed52-a6fb-47d3-a3cf-d8df9c01dda2/pocket8_vert.pqr', '3c17ed52-a6fb-47d3-a3cf-d8df9c01dda2/pocket9_atm.pdb', '3c17ed52-a6fb-47d3-a3cf-d8df9c01dda2/pocket9_vert.pqr']\n",
      "INFO:/home/gbayarri_local/projects/BioBB/biobb_vs/biobb_vs/tutorial/fpocket/log356.out:['3c17ed52-a6fb-47d3-a3cf-d8df9c01dda2/pocket10_atm.pdb', '3c17ed52-a6fb-47d3-a3cf-d8df9c01dda2/pocket10_vert.pqr', '3c17ed52-a6fb-47d3-a3cf-d8df9c01dda2/pocket1_atm.pdb', '3c17ed52-a6fb-47d3-a3cf-d8df9c01dda2/pocket1_vert.pqr', '3c17ed52-a6fb-47d3-a3cf-d8df9c01dda2/pocket2_atm.pdb', '3c17ed52-a6fb-47d3-a3cf-d8df9c01dda2/pocket2_vert.pqr', '3c17ed52-a6fb-47d3-a3cf-d8df9c01dda2/pocket3_atm.pdb', '3c17ed52-a6fb-47d3-a3cf-d8df9c01dda2/pocket3_vert.pqr', '3c17ed52-a6fb-47d3-a3cf-d8df9c01dda2/pocket4_atm.pdb', '3c17ed52-a6fb-47d3-a3cf-d8df9c01dda2/pocket4_vert.pqr', '3c17ed52-a6fb-47d3-a3cf-d8df9c01dda2/pocket5_atm.pdb', '3c17ed52-a6fb-47d3-a3cf-d8df9c01dda2/pocket5_vert.pqr', '3c17ed52-a6fb-47d3-a3cf-d8df9c01dda2/pocket6_atm.pdb', '3c17ed52-a6fb-47d3-a3cf-d8df9c01dda2/pocket6_vert.pqr', '3c17ed52-a6fb-47d3-a3cf-d8df9c01dda2/pocket7_atm.pdb', '3c17ed52-a6fb-47d3-a3cf-d8df9c01dda2/pocket7_vert.pqr', '3c17ed52-a6fb-47d3-a3cf-d8df9c01dda2/pocket8_atm.pdb', '3c17ed52-a6fb-47d3-a3cf-d8df9c01dda2/pocket8_vert.pqr', '3c17ed52-a6fb-47d3-a3cf-d8df9c01dda2/pocket9_atm.pdb', '3c17ed52-a6fb-47d3-a3cf-d8df9c01dda2/pocket9_vert.pqr']\n",
      "2021-01-25 18:51:21,695 [MainThread  ] [INFO ]  Saving fpocket_cavity.pdb file\n",
      "INFO:/home/gbayarri_local/projects/BioBB/biobb_vs/biobb_vs/tutorial/fpocket/log356.out:Saving fpocket_cavity.pdb file\n",
      "2021-01-25 18:51:21,698 [MainThread  ] [INFO ]  Saving fpocket_pocket.pqr file\n",
      "INFO:/home/gbayarri_local/projects/BioBB/biobb_vs/biobb_vs/tutorial/fpocket/log356.out:Saving fpocket_pocket.pqr file\n",
      "2021-01-25 18:51:21,702 [MainThread  ] [INFO ]  Removed temporary folder: 3c17ed52-a6fb-47d3-a3cf-d8df9c01dda2\n",
      "INFO:/home/gbayarri_local/projects/BioBB/biobb_vs/biobb_vs/tutorial/fpocket/log356.out:Removed temporary folder: 3c17ed52-a6fb-47d3-a3cf-d8df9c01dda2\n"
     ]
    },
    {
     "data": {
      "text/plain": [
       "0"
      ]
     },
     "execution_count": 121,
     "metadata": {},
     "output_type": "execute_result"
    }
   ],
   "source": [
    "fpocket_cavity = \"fpocket_cavity.pdb\"\n",
    "fpocket_pocket = \"fpocket_pocket.pqr\"\n",
    "prop = {\n",
    "    \"pocket\": mdsel.value\n",
    "}\n",
    "\n",
    "fpocket_select(input_pockets_zip=fpocket_all_pockets,\n",
    "#fpocket_select(input_pockets_zip=fpocket_filter_pockets,\n",
    "                output_pocket_pdb = fpocket_cavity,\n",
    "                output_pocket_pqr=fpocket_pocket,\n",
    "                properties=prop)"
   ]
  },
  {
   "cell_type": "code",
   "execution_count": 122,
   "metadata": {},
   "outputs": [],
   "source": [
    "from biobb_vs.utils.box import box"
   ]
  },
  {
   "cell_type": "code",
   "execution_count": 123,
   "metadata": {},
   "outputs": [
    {
     "name": "stderr",
     "output_type": "stream",
     "text": [
      "2021-01-25 18:51:25,527 [MainThread  ] [INFO ]  Loading pocket PQR selection from fpocket_pocket.pqr\n",
      "INFO:/home/gbayarri_local/projects/BioBB/biobb_vs/biobb_vs/tutorial/fpocket/log357.out:Loading pocket PQR selection from fpocket_pocket.pqr\n",
      "2021-01-25 18:51:25,529 [MainThread  ] [INFO ]  Binding site center (Angstroms):     17.361    35.823    93.249\n",
      "INFO:/home/gbayarri_local/projects/BioBB/biobb_vs/biobb_vs/tutorial/fpocket/log357.out:Binding site center (Angstroms):     17.361    35.823    93.249\n",
      "2021-01-25 18:51:25,531 [MainThread  ] [INFO ]  Adding 10.0 Angstroms offset\n",
      "INFO:/home/gbayarri_local/projects/BioBB/biobb_vs/biobb_vs/tutorial/fpocket/log357.out:Adding 10.0 Angstroms offset\n",
      "2021-01-25 18:51:25,531 [MainThread  ] [INFO ]  Binding site size (Angstroms):       20.502    15.242    15.393\n",
      "INFO:/home/gbayarri_local/projects/BioBB/biobb_vs/biobb_vs/tutorial/fpocket/log357.out:Binding site size (Angstroms):       20.502    15.242    15.393\n",
      "2021-01-25 18:51:25,533 [MainThread  ] [INFO ]  Volume (cubic Angstroms): 38482\n",
      "INFO:/home/gbayarri_local/projects/BioBB/biobb_vs/biobb_vs/tutorial/fpocket/log357.out:Volume (cubic Angstroms): 38482\n",
      "2021-01-25 18:51:25,534 [MainThread  ] [INFO ]  Adding box coordinates\n",
      "INFO:/home/gbayarri_local/projects/BioBB/biobb_vs/biobb_vs/tutorial/fpocket/log357.out:Adding box coordinates\n",
      "2021-01-25 18:51:25,537 [MainThread  ] [INFO ]  Saving output PDB file (with box setting annotations): box.pdb\n",
      "INFO:/home/gbayarri_local/projects/BioBB/biobb_vs/biobb_vs/tutorial/fpocket/log357.out:Saving output PDB file (with box setting annotations): box.pdb\n"
     ]
    },
    {
     "data": {
      "text/plain": [
       "0"
      ]
     },
     "execution_count": 123,
     "metadata": {},
     "output_type": "execute_result"
    }
   ],
   "source": [
    "output_box = \"box.pdb\"\n",
    "prop = {\n",
    "    \"offset\": 10,\n",
    "    \"box_coordinates\": True\n",
    "}\n",
    "\n",
    "box(input_pdb_path = fpocket_pocket,\n",
    "            output_pdb_path = output_box,\n",
    "            properties=prop)"
   ]
  },
  {
   "cell_type": "code",
   "execution_count": 124,
   "metadata": {},
   "outputs": [
    {
     "data": {
      "application/vnd.jupyter.widget-view+json": {
       "model_id": "efd1f32833fe4c768dd5bbda8777ad69",
       "version_major": 2,
       "version_minor": 0
      },
      "text/plain": [
       "NGLWidget()"
      ]
     },
     "metadata": {},
     "output_type": "display_data"
    }
   ],
   "source": [
    "#view = nglview.show_structure_file(box, default=False)\n",
    "view2 = nglview.NGLWidget()\n",
    "#s = view.add_component(pdb_single_chain)\n",
    "s = view2.add_component(download_pdb)\n",
    "b = view2.add_component(output_box)\n",
    "p = view2.add_component(fpocket_pocket)\n",
    "p.clear()\n",
    "\n",
    "atomPair = [\n",
    "    [ \"9999:Z.ZN1\", \"9999:Z.ZN2\" ],\n",
    "    [ \"9999:Z.ZN2\", \"9999:Z.ZN4\" ],\n",
    "    [ \"9999:Z.ZN4\", \"9999:Z.ZN3\" ],\n",
    "    [ \"9999:Z.ZN3\", \"9999:Z.ZN1\" ],\n",
    "    \n",
    "    [ \"9999:Z.ZN5\", \"9999:Z.ZN6\" ],\n",
    "    [ \"9999:Z.ZN6\", \"9999:Z.ZN8\" ],\n",
    "    [ \"9999:Z.ZN8\", \"9999:Z.ZN7\" ],\n",
    "    [ \"9999:Z.ZN7\", \"9999:Z.ZN5\" ],\n",
    "    \n",
    "    [ \"9999:Z.ZN1\", \"9999:Z.ZN5\" ],\n",
    "    [ \"9999:Z.ZN2\", \"9999:Z.ZN6\" ],\n",
    "    [ \"9999:Z.ZN3\", \"9999:Z.ZN7\" ],\n",
    "    [ \"9999:Z.ZN4\", \"9999:Z.ZN8\" ]\n",
    "]\n",
    "\n",
    "# structure\n",
    "s.add_representation(repr_type='cartoon', \n",
    "                        selection='not het',\n",
    "                        color='#cccccc',\n",
    "                       opacity=.2)\n",
    "# ligands box\n",
    "b.add_representation(repr_type='ball+stick',\n",
    "                     selection='9999',\n",
    "                     color='pink', \n",
    "                     aspectRatio = 8)\n",
    "# lines box\n",
    "b.add_representation(repr_type='distance', \n",
    "                     atomPair= atomPair,\n",
    "                     labelVisible=False,\n",
    "                     color= 'black')\n",
    "\n",
    "# lines box\n",
    "p.add_surface(component=mdsel.value, \n",
    "              color='skyblue', \n",
    "              surfaceType= 'av', \n",
    "              contour=True )\n",
    "\n",
    "\n",
    "view2.center()\n",
    "view2._remote_call('setSize', target='Widget', args=['','600px'])\n",
    "view2"
   ]
  },
  {
   "cell_type": "code",
   "execution_count": 125,
   "metadata": {},
   "outputs": [],
   "source": [
    "from biobb_io.api.drugbank import drugbank"
   ]
  },
  {
   "cell_type": "code",
   "execution_count": 126,
   "metadata": {},
   "outputs": [
    {
     "name": "stderr",
     "output_type": "stream",
     "text": [
      "2021-01-25 18:51:32,604 [MainThread  ] [INFO ]  Downloading: db11963 from: https://www.drugbank.ca/structures/small_molecule_drugs/db11963.sdf?type=3d\n",
      "INFO:/home/gbayarri_local/projects/BioBB/biobb_vs/biobb_vs/tutorial/fpocket/log358.out:Downloading: db11963 from: https://www.drugbank.ca/structures/small_molecule_drugs/db11963.sdf?type=3d\n",
      "/anaconda3/envs/biobb_dev_37/lib/python3.7/site-packages/urllib3/connectionpool.py:986: InsecureRequestWarning: Unverified HTTPS request is being made to host 'www.drugbank.ca'. Adding certificate verification is strongly advised. See: https://urllib3.readthedocs.io/en/latest/advanced-usage.html#ssl-warnings\n",
      "  InsecureRequestWarning,\n",
      "/anaconda3/envs/biobb_dev_37/lib/python3.7/site-packages/urllib3/connectionpool.py:986: InsecureRequestWarning: Unverified HTTPS request is being made to host 'go.drugbank.com'. Adding certificate verification is strongly advised. See: https://urllib3.readthedocs.io/en/latest/advanced-usage.html#ssl-warnings\n",
      "  InsecureRequestWarning,\n",
      "2021-01-25 18:51:33,680 [MainThread  ] [INFO ]  Writting sdf to: drug.sdf\n",
      "INFO:/home/gbayarri_local/projects/BioBB/biobb_vs/biobb_vs/tutorial/fpocket/log358.out:Writting sdf to: drug.sdf\n"
     ]
    },
    {
     "data": {
      "text/plain": [
       "0"
      ]
     },
     "execution_count": 126,
     "metadata": {},
     "output_type": "execute_result"
    }
   ],
   "source": [
    "drug = \"drug.sdf\"\n",
    "prop = {\n",
    "  \"drugbank_id\": drugbank_code\n",
    "}\n",
    "\n",
    "drugbank(output_sdf_path=drug,\n",
    "    properties=prop)"
   ]
  },
  {
   "cell_type": "code",
   "execution_count": 127,
   "metadata": {},
   "outputs": [],
   "source": [
    "from biobb_chemistry.babelm.babel_convert import babel_convert"
   ]
  },
  {
   "cell_type": "code",
   "execution_count": null,
   "metadata": {},
   "outputs": [],
   "source": [
    "ligand = \"ligand.pdb\"\n",
    "prop = {\n",
    "    \"input_format\": \"sdf\",\n",
    "    \"output_format\": \"pdb\",\n",
    "    \"obabel_path\": \"/anaconda3/bin/obabel\"\n",
    "}\n",
    "\n",
    "babel_convert(input_path = drug,\n",
    "            output_path = ligand,\n",
    "            properties=prop)"
   ]
  },
  {
   "cell_type": "code",
   "execution_count": 128,
   "metadata": {},
   "outputs": [],
   "source": [
    "from biobb_structure_utils.utils.extract_heteroatoms import extract_heteroatoms"
   ]
  },
  {
   "cell_type": "code",
   "execution_count": 129,
   "metadata": {},
   "outputs": [
    {
     "name": "stderr",
     "output_type": "stream",
     "text": [
      "2021-01-25 18:51:38,753 [MainThread  ] [INFO ]  File ligand.pdb created\n",
      "INFO:/home/gbayarri_local/projects/BioBB/biobb_vs/biobb_vs/tutorial/fpocket/log359.out:File ligand.pdb created\n"
     ]
    },
    {
     "data": {
      "text/plain": [
       "0"
      ]
     },
     "execution_count": 129,
     "metadata": {},
     "output_type": "execute_result"
    }
   ],
   "source": [
    "ligand = \"ligand.pdb\"\n",
    "prop = {\n",
    "    \"heteroatoms\": [{ \"name\": ligand_remove }]\n",
    "}\n",
    "\n",
    "extract_heteroatoms(input_structure_path = download_pdb,\n",
    "            output_heteroatom_path = ligand,\n",
    "            properties=prop)"
   ]
  },
  {
   "cell_type": "code",
   "execution_count": 130,
   "metadata": {},
   "outputs": [],
   "source": [
    "from biobb_chemistry.ambertools.reduce_add_hydrogens import reduce_add_hydrogens"
   ]
  },
  {
   "cell_type": "code",
   "execution_count": 131,
   "metadata": {},
   "outputs": [
    {
     "name": "stderr",
     "output_type": "stream",
     "text": [
      "2021-01-25 18:51:42,309 [MainThread  ] [INFO ]  Not using any container\n",
      "INFO:/home/gbayarri_local/projects/BioBB/biobb_vs/biobb_vs/tutorial/fpocket/log360.out:Not using any container\n",
      "2021-01-25 18:51:42,486 [MainThread  ] [INFO ]  reduce -OH -ROTNH3 -ALLALT ligand.pdb > ligand_H.pdb\n",
      "\n",
      "INFO:/home/gbayarri_local/projects/BioBB/biobb_vs/biobb_vs/tutorial/fpocket/log360.out:reduce -OH -ROTNH3 -ALLALT ligand.pdb > ligand_H.pdb\n",
      "\n",
      "2021-01-25 18:51:42,489 [MainThread  ] [INFO ]  Exit code 0\n",
      "\n",
      "INFO:/home/gbayarri_local/projects/BioBB/biobb_vs/biobb_vs/tutorial/fpocket/log360.out:Exit code 0\n",
      "\n",
      "2021-01-25 18:51:42,491 [MainThread  ] [INFO ]  reduce: version 3.3 06/02/2016, Copyright 1997-2016, J. Michael Word\n",
      "Processing file: \"ligand.pdb\"\n",
      "Database of HETATM connections: \"/anaconda3/envs/biobb_dev_37//dat/reduce_wwPDB_het_dict.txt\"\n",
      "VDW dot density = 16/A^2\n",
      "Orientation penalty scale = 1 (100%)\n",
      "Eliminate contacts within 3 bonds.\n",
      "Ignore atoms with |occupancy| <= 0.01 during adjustments.\n",
      "Waters ignored if B-Factor >= 40 or |occupancy| < 0.66\n",
      "Aromatic rings in amino acids accept hydrogen bonds.\n",
      "Building or keeping OH & SH Hydrogens.\n",
      "Rotating NH3 Hydrogens.\n",
      "Not processing Met methyls.\n",
      "WARNING: atom H19A from HYZ will be treated as hydrogen\n",
      "WARNING: atom H20A from HYZ will be treated as hydrogen\n",
      "WARNING: atom H21A from HYZ will be treated as hydrogen\n",
      "WARNING: atom H22A from HYZ will be treated as hydrogen\n",
      "WARNING: atom H23A from HYZ will be treated as hydrogen\n",
      "WARNING: atom H24A from HYZ will be treated as hydrogen\n",
      "WARNING: atom HN6A from HYZ will be treated as hydrogen\n",
      "WARNING: atom H19A from HYZ will be treated as hydrogen\n",
      "WARNING: atom H19A from HYZ will be treated as hydrogen\n",
      "WARNING: atom H20A from HYZ will be treated as hydrogen\n",
      "WARNING: atom H20A from HYZ will be treated as hydrogen\n",
      "WARNING: atom H21A from HYZ will be treated as hydrogen\n",
      "WARNING: atom H21A from HYZ will be treated as hydrogen\n",
      "WARNING: atom H22A from HYZ will be treated as hydrogen\n",
      "WARNING: atom H22A from HYZ will be treated as hydrogen\n",
      "WARNING: atom H23A from HYZ will be treated as hydrogen\n",
      "WARNING: atom H23A from HYZ will be treated as hydrogen\n",
      "WARNING: atom H24A from HYZ will be treated as hydrogen\n",
      "WARNING: atom H24A from HYZ will be treated as hydrogen\n",
      "WARNING: atom HN6A from HYZ will be treated as hydrogen\n",
      "WARNING: atom HN6A from HYZ will be treated as hydrogen\n",
      "WARNING: atom HN6A from HYZ will be treated as hydrogen\n",
      "WARNING: atom H24A from HYZ will be treated as hydrogen\n",
      "WARNING: atom H24A from HYZ will be treated as hydrogen\n",
      "WARNING: atom H23A from HYZ will be treated as hydrogen\n",
      "WARNING: atom H23A from HYZ will be treated as hydrogen\n",
      "WARNING: atom H22A from HYZ will be treated as hydrogen\n",
      "WARNING: atom H22A from HYZ will be treated as hydrogen\n",
      "WARNING: atom H21A from HYZ will be treated as hydrogen\n",
      "WARNING: atom H21A from HYZ will be treated as hydrogen\n",
      "WARNING: atom H20A from HYZ will be treated as hydrogen\n",
      "WARNING: atom H20A from HYZ will be treated as hydrogen\n",
      "WARNING: atom H19A from HYZ will be treated as hydrogen\n",
      "WARNING: atom H19A from HYZ will be treated as hydrogen\n",
      "WARNING: atom H24A from HYZ will be treated as hydrogen\n",
      "WARNING: atom H23A from HYZ will be treated as hydrogen\n",
      "WARNING: atom H22A from HYZ will be treated as hydrogen\n",
      "WARNING: atom H21A from HYZ will be treated as hydrogen\n",
      "WARNING: atom H20A from HYZ will be treated as hydrogen\n",
      "WARNING: atom H19A from HYZ will be treated as hydrogen\n",
      "Found 0 hydrogens (0 hets)\n",
      "Standardized 0 hydrogens (0 hets)\n",
      "Added 27 hydrogens (27 hets)\n",
      "Removed 0 hydrogens (0 hets)\n",
      "If you publish work which uses reduce, please cite:\n",
      "Word, et. al. (1999) J. Mol. Biol. 285, 1735-1747.\n",
      "For more information see http://kinemage.biochem.duke.edu\n",
      "\n",
      "INFO:/home/gbayarri_local/projects/BioBB/biobb_vs/biobb_vs/tutorial/fpocket/log360.err:reduce: version 3.3 06/02/2016, Copyright 1997-2016, J. Michael Word\n",
      "Processing file: \"ligand.pdb\"\n",
      "Database of HETATM connections: \"/anaconda3/envs/biobb_dev_37//dat/reduce_wwPDB_het_dict.txt\"\n",
      "VDW dot density = 16/A^2\n",
      "Orientation penalty scale = 1 (100%)\n",
      "Eliminate contacts within 3 bonds.\n",
      "Ignore atoms with |occupancy| <= 0.01 during adjustments.\n",
      "Waters ignored if B-Factor >= 40 or |occupancy| < 0.66\n",
      "Aromatic rings in amino acids accept hydrogen bonds.\n",
      "Building or keeping OH & SH Hydrogens.\n",
      "Rotating NH3 Hydrogens.\n",
      "Not processing Met methyls.\n",
      "WARNING: atom H19A from HYZ will be treated as hydrogen\n",
      "WARNING: atom H20A from HYZ will be treated as hydrogen\n",
      "WARNING: atom H21A from HYZ will be treated as hydrogen\n",
      "WARNING: atom H22A from HYZ will be treated as hydrogen\n",
      "WARNING: atom H23A from HYZ will be treated as hydrogen\n",
      "WARNING: atom H24A from HYZ will be treated as hydrogen\n",
      "WARNING: atom HN6A from HYZ will be treated as hydrogen\n",
      "WARNING: atom H19A from HYZ will be treated as hydrogen\n",
      "WARNING: atom H19A from HYZ will be treated as hydrogen\n",
      "WARNING: atom H20A from HYZ will be treated as hydrogen\n",
      "WARNING: atom H20A from HYZ will be treated as hydrogen\n",
      "WARNING: atom H21A from HYZ will be treated as hydrogen\n",
      "WARNING: atom H21A from HYZ will be treated as hydrogen\n",
      "WARNING: atom H22A from HYZ will be treated as hydrogen\n",
      "WARNING: atom H22A from HYZ will be treated as hydrogen\n",
      "WARNING: atom H23A from HYZ will be treated as hydrogen\n",
      "WARNING: atom H23A from HYZ will be treated as hydrogen\n",
      "WARNING: atom H24A from HYZ will be treated as hydrogen\n",
      "WARNING: atom H24A from HYZ will be treated as hydrogen\n",
      "WARNING: atom HN6A from HYZ will be treated as hydrogen\n",
      "WARNING: atom HN6A from HYZ will be treated as hydrogen\n",
      "WARNING: atom HN6A from HYZ will be treated as hydrogen\n",
      "WARNING: atom H24A from HYZ will be treated as hydrogen\n",
      "WARNING: atom H24A from HYZ will be treated as hydrogen\n",
      "WARNING: atom H23A from HYZ will be treated as hydrogen\n",
      "WARNING: atom H23A from HYZ will be treated as hydrogen\n",
      "WARNING: atom H22A from HYZ will be treated as hydrogen\n",
      "WARNING: atom H22A from HYZ will be treated as hydrogen\n",
      "WARNING: atom H21A from HYZ will be treated as hydrogen\n",
      "WARNING: atom H21A from HYZ will be treated as hydrogen\n",
      "WARNING: atom H20A from HYZ will be treated as hydrogen\n",
      "WARNING: atom H20A from HYZ will be treated as hydrogen\n",
      "WARNING: atom H19A from HYZ will be treated as hydrogen\n",
      "WARNING: atom H19A from HYZ will be treated as hydrogen\n",
      "WARNING: atom H24A from HYZ will be treated as hydrogen\n",
      "WARNING: atom H23A from HYZ will be treated as hydrogen\n",
      "WARNING: atom H22A from HYZ will be treated as hydrogen\n",
      "WARNING: atom H21A from HYZ will be treated as hydrogen\n",
      "WARNING: atom H20A from HYZ will be treated as hydrogen\n",
      "WARNING: atom H19A from HYZ will be treated as hydrogen\n",
      "Found 0 hydrogens (0 hets)\n",
      "Standardized 0 hydrogens (0 hets)\n",
      "Added 27 hydrogens (27 hets)\n",
      "Removed 0 hydrogens (0 hets)\n",
      "If you publish work which uses reduce, please cite:\n",
      "Word, et. al. (1999) J. Mol. Biol. 285, 1735-1747.\n",
      "For more information see http://kinemage.biochem.duke.edu\n",
      "\n"
     ]
    },
    {
     "data": {
      "text/plain": [
       "0"
      ]
     },
     "execution_count": 131,
     "metadata": {},
     "output_type": "execute_result"
    }
   ],
   "source": [
    "ligand_H = \"ligand_H.pdb\"\n",
    "prop = {\n",
    "    \n",
    "}\n",
    "\n",
    "reduce_add_hydrogens(input_path=ligand,\n",
    "                    output_path=ligand_H,\n",
    "                    properties=prop)"
   ]
  },
  {
   "cell_type": "code",
   "execution_count": 132,
   "metadata": {},
   "outputs": [],
   "source": [
    "from ipywidgets import HBox"
   ]
  },
  {
   "cell_type": "code",
   "execution_count": 133,
   "metadata": {},
   "outputs": [
    {
     "data": {
      "application/vnd.jupyter.widget-view+json": {
       "model_id": "264ec7340a284cfc9399d1250d0af6d0",
       "version_major": 2,
       "version_minor": 0
      },
      "text/plain": [
       "HBox(children=(NGLWidget(), NGLWidget()))"
      ]
     },
     "metadata": {},
     "output_type": "display_data"
    }
   ],
   "source": [
    "v0 = nglview.show_structure_file(ligand)\n",
    "v1 = nglview.show_structure_file(ligand_H)\n",
    "\n",
    "v0._set_size('500px', '')\n",
    "v1._set_size('500px', '')\n",
    "\n",
    "def on_change(change):\n",
    "    v1._set_camera_orientation(change['new'])\n",
    "    \n",
    "v0.observe(on_change, ['_camera_orientation'])\n",
    "\n",
    "HBox([v0, v1])"
   ]
  },
  {
   "cell_type": "code",
   "execution_count": 134,
   "metadata": {},
   "outputs": [],
   "source": [
    "from biobb_chemistry.babelm.babel_convert import babel_convert"
   ]
  },
  {
   "cell_type": "code",
   "execution_count": 135,
   "metadata": {},
   "outputs": [
    {
     "name": "stderr",
     "output_type": "stream",
     "text": [
      "2021-01-25 18:51:46,793 [MainThread  ] [INFO ]  Value  is not compatible as a coordinates value\n",
      "INFO:/home/gbayarri_local/projects/BioBB/biobb_vs/biobb_vs/tutorial/fpocket/log361.out:Value  is not compatible as a coordinates value\n",
      "2021-01-25 18:51:46,794 [MainThread  ] [INFO ]  Not using any container\n",
      "INFO:/home/gbayarri_local/projects/BioBB/biobb_vs/biobb_vs/tutorial/fpocket/log361.out:Not using any container\n",
      "2021-01-25 18:51:46,979 [MainThread  ] [INFO ]  /anaconda3/bin/obabel -ipdb ligand_H.pdb -opdbqt -Oprep_ligand.pdbqt  \n",
      "\n",
      "INFO:/home/gbayarri_local/projects/BioBB/biobb_vs/biobb_vs/tutorial/fpocket/log361.out:/anaconda3/bin/obabel -ipdb ligand_H.pdb -opdbqt -Oprep_ligand.pdbqt  \n",
      "\n",
      "2021-01-25 18:51:46,981 [MainThread  ] [INFO ]  Exit code 0\n",
      "\n",
      "INFO:/home/gbayarri_local/projects/BioBB/biobb_vs/biobb_vs/tutorial/fpocket/log361.out:Exit code 0\n",
      "\n",
      "2021-01-25 18:51:46,982 [MainThread  ] [INFO ]  1 molecule converted\n",
      "\n",
      "INFO:/home/gbayarri_local/projects/BioBB/biobb_vs/biobb_vs/tutorial/fpocket/log361.err:1 molecule converted\n",
      "\n"
     ]
    },
    {
     "data": {
      "text/plain": [
       "0"
      ]
     },
     "execution_count": 135,
     "metadata": {},
     "output_type": "execute_result"
    }
   ],
   "source": [
    "prep_ligand = \"prep_ligand.pdbqt\"\n",
    "prop = {\n",
    "    \"input_format\": \"pdb\",\n",
    "    \"output_format\": \"pdbqt\",\n",
    "    \"obabel_path\": \"/anaconda3/bin/obabel\"\n",
    "}\n",
    "\n",
    "babel_convert(input_path = ligand_H,\n",
    "            output_path = prep_ligand,\n",
    "            properties=prop)"
   ]
  },
  {
   "cell_type": "code",
   "execution_count": 136,
   "metadata": {},
   "outputs": [],
   "source": [
    "from biobb_structure_utils.utils.str_check_add_hydrogens import str_check_add_hydrogens"
   ]
  },
  {
   "cell_type": "code",
   "execution_count": 137,
   "metadata": {},
   "outputs": [
    {
     "name": "stderr",
     "output_type": "stream",
     "text": [
      "2021-01-25 18:51:49,859 [MainThread  ] [INFO ]  check_structure -i /home/gbayarri_local/projects/BioBB/biobb_vs/biobb_vs/tutorial/fpocket/extract_chain.pdb -o prep_receptor.pdbqt --force_save add_hydrogen --add_charges --add_mode auto\n",
      "\n",
      "INFO:/home/gbayarri_local/projects/BioBB/biobb_vs/biobb_vs/tutorial/fpocket/log362.out:check_structure -i /home/gbayarri_local/projects/BioBB/biobb_vs/biobb_vs/tutorial/fpocket/extract_chain.pdb -o prep_receptor.pdbqt --force_save add_hydrogen --add_charges --add_mode auto\n",
      "\n",
      "2021-01-25 18:51:49,861 [MainThread  ] [INFO ]  Exit code 0\n",
      "\n",
      "INFO:/home/gbayarri_local/projects/BioBB/biobb_vs/biobb_vs/tutorial/fpocket/log362.out:Exit code 0\n",
      "\n",
      "2021-01-25 18:51:49,862 [MainThread  ] [INFO ]  ===============================================================================\n",
      "=                   BioBB structure checking utility v3.7.2                   =\n",
      "=                 A. Hospital, P. Andrio, J.L. Gelpi 2018-20                  =\n",
      "===============================================================================\n",
      "\n",
      "Warning: sequence features only available in mmCIF format or with external fasta input\n",
      "Structure /home/gbayarri_local/projects/BioBB/biobb_vs/biobb_vs/tutorial/fpocket/extract_chain.pdb loaded\n",
      " Title: \n",
      " Experimental method: unknown\n",
      " Resolution: None A\n",
      "\n",
      " Num. models: 1\n",
      " Num. chains: 1 (A: Protein)\n",
      " Num. residues:  371\n",
      " Num. residues with ins. codes:  0\n",
      " Num. HETATM residues:  87\n",
      " Num. ligands or modified residues:  2\n",
      " Num. water mol.:  85\n",
      " Num. atoms:  2384\n",
      "Small mol ligands found\n",
      "PO4 A81\n",
      "PO4 A82\n",
      "\n",
      "Running add_hydrogen. Options: --add_charges --add_mode auto\n",
      "96 Residues requiring selection on adding H atoms\n",
      " CYS A775,A781,A797,A818,A939,A950\n",
      " ASP A761,A770,A800,A807,A830,A837,A855,A896,A916,A942,A954,A956,A974,A984,A1003,A1012,A1014\n",
      " GLU A709,A711,A746,A758,A762,A804,A829,A865,A866,A884,A906,A922,A928,A931,A963,A967,A985,A1015\n",
      " HIS A773,A805,A835,A850,A888,A893\n",
      " LYS A708,A713,A714,A716,A728,A739,A745,A754,A757,A806,A823,A846,A852,A860,A867,A879,A913,A929,A949,A960,A970\n",
      " ARG A705,A748,A776,A803,A831,A832,A836,A841,A889,A932,A958,A962,A973,A977,A986,A999\n",
      " TYR A727,A764,A801,A813,A827,A891,A900,A915,A944,A978,A998,A1016\n",
      "WARNING: fixing side chains, override with --no_fix_side\n",
      "Running fixside. Options: --fix all\n",
      "1 Residues with missing side chain atoms found\n",
      " GLU A1015  CG,CD,OE1,OE2\n",
      "Fixing side chains\n",
      "GLU A1015\n",
      "  Adding new atom CG\n",
      "  Adding new atom CD\n",
      "  Adding new atom OE1\n",
      "  Adding new atom OE2\n",
      "Fixed 1 side chain(s)\n",
      "Checking for steric clashes\n",
      "No severe clashes detected\n",
      "No apolar clashes detected\n",
      "No polar_acceptor clashes detected\n",
      "No polar_donor clashes detected\n",
      "No positive clashes detected\n",
      "No negative clashes detected\n",
      "Selection: auto\n",
      "Replacing HIS A773 by HIE\n",
      "Replacing HIS A805 by HIE\n",
      "Replacing HIS A835 by HIE\n",
      "Replacing HIS A850 by HIE\n",
      "Replacing HIS A888 by HIE\n",
      "Replacing HIS A893 by HIE\n",
      "Updating partial charges and atom types\n",
      "Warning: OXT atom missing in CPRO A733. Run backbone --add_atoms first\n",
      "Warning: OXT atom missing in CARG A748. Run backbone --add_atoms first\n",
      "Warning: OXT atom missing in CLYS A867. Run backbone --add_atoms first\n",
      "Warning: OXT atom missing in CMET A987. Run backbone --add_atoms first\n",
      "Warning: OXT atom missing in CASP A1003. Run backbone --add_atoms first\n",
      "Warning: PO4 not found in residue library atom charges set to 0.\n",
      "Warning: PO4 not found in residue library atom charges set to 0.\n",
      "Warning: HOH not found in residue library atom charges set to 0.\n",
      "Warning: HOH not found in residue library atom charges set to 0.\n",
      "Warning: HOH not found in residue library atom charges set to 0.\n",
      "Warning: HOH not found in residue library atom charges set to 0.\n",
      "Warning: HOH not found in residue library atom charges set to 0.\n",
      "Warning: HOH not found in residue library atom charges set to 0.\n",
      "Warning: HOH not found in residue library atom charges set to 0.\n",
      "Warning: HOH not found in residue library atom charges set to 0.\n",
      "Warning: HOH not found in residue library atom charges set to 0.\n",
      "Warning: HOH not found in residue library atom charges set to 0.\n",
      "Warning: HOH not found in residue library atom charges set to 0.\n",
      "Warning: HOH not found in residue library atom charges set to 0.\n",
      "Warning: HOH not found in residue library atom charges set to 0.\n",
      "Warning: HOH not found in residue library atom charges set to 0.\n",
      "Warning: HOH not found in residue library atom charges set to 0.\n",
      "Warning: HOH not found in residue library atom charges set to 0.\n",
      "Warning: HOH not found in residue library atom charges set to 0.\n",
      "Warning: HOH not found in residue library atom charges set to 0.\n",
      "Warning: HOH not found in residue library atom charges set to 0.\n",
      "Warning: HOH not found in residue library atom charges set to 0.\n",
      "Warning: HOH not found in residue library atom charges set to 0.\n",
      "Warning: HOH not found in residue library atom charges set to 0.\n",
      "Warning: HOH not found in residue library atom charges set to 0.\n",
      "Warning: HOH not found in residue library atom charges set to 0.\n",
      "Warning: HOH not found in residue library atom charges set to 0.\n",
      "Warning: HOH not found in residue library atom charges set to 0.\n",
      "Warning: HOH not found in residue library atom charges set to 0.\n",
      "Warning: HOH not found in residue library atom charges set to 0.\n",
      "Warning: HOH not found in residue library atom charges set to 0.\n",
      "Warning: HOH not found in residue library atom charges set to 0.\n",
      "Warning: HOH not found in residue library atom charges set to 0.\n",
      "Warning: HOH not found in residue library atom charges set to 0.\n",
      "Warning: HOH not found in residue library atom charges set to 0.\n",
      "Warning: HOH not found in residue library atom charges set to 0.\n",
      "Warning: HOH not found in residue library atom charges set to 0.\n",
      "Warning: HOH not found in residue library atom charges set to 0.\n",
      "Warning: HOH not found in residue library atom charges set to 0.\n",
      "Warning: HOH not found in residue library atom charges set to 0.\n",
      "Warning: HOH not found in residue library atom charges set to 0.\n",
      "Warning: HOH not found in residue library atom charges set to 0.\n",
      "Warning: HOH not found in residue library atom charges set to 0.\n",
      "Warning: HOH not found in residue library atom charges set to 0.\n",
      "Warning: HOH not found in residue library atom charges set to 0.\n",
      "Warning: HOH not found in residue library atom charges set to 0.\n",
      "Warning: HOH not found in residue library atom charges set to 0.\n",
      "Warning: HOH not found in residue library atom charges set to 0.\n",
      "Warning: HOH not found in residue library atom charges set to 0.\n",
      "Warning: HOH not found in residue library atom charges set to 0.\n",
      "Warning: HOH not found in residue library atom charges set to 0.\n",
      "Warning: HOH not found in residue library atom charges set to 0.\n",
      "Warning: HOH not found in residue library atom charges set to 0.\n",
      "Warning: HOH not found in residue library atom charges set to 0.\n",
      "Warning: HOH not found in residue library atom charges set to 0.\n",
      "Warning: HOH not found in residue library atom charges set to 0.\n",
      "Warning: HOH not found in residue library atom charges set to 0.\n",
      "Warning: HOH not found in residue library atom charges set to 0.\n",
      "Warning: HOH not found in residue library atom charges set to 0.\n",
      "Warning: HOH not found in residue library atom charges set to 0.\n",
      "Warning: HOH not found in residue library atom charges set to 0.\n",
      "Warning: HOH not found in residue library atom charges set to 0.\n",
      "Warning: HOH not found in residue library atom charges set to 0.\n",
      "Warning: HOH not found in residue library atom charges set to 0.\n",
      "Warning: HOH not found in residue library atom charges set to 0.\n",
      "Warning: HOH not found in residue library atom charges set to 0.\n",
      "Warning: HOH not found in residue library atom charges set to 0.\n",
      "Warning: HOH not found in residue library atom charges set to 0.\n",
      "Warning: HOH not found in residue library atom charges set to 0.\n",
      "Warning: HOH not found in residue library atom charges set to 0.\n",
      "Warning: HOH not found in residue library atom charges set to 0.\n",
      "Warning: HOH not found in residue library atom charges set to 0.\n",
      "Warning: HOH not found in residue library atom charges set to 0.\n",
      "Warning: HOH not found in residue library atom charges set to 0.\n",
      "Warning: HOH not found in residue library atom charges set to 0.\n",
      "Warning: HOH not found in residue library atom charges set to 0.\n",
      "Warning: HOH not found in residue library atom charges set to 0.\n",
      "Warning: HOH not found in residue library atom charges set to 0.\n",
      "Warning: HOH not found in residue library atom charges set to 0.\n",
      "Warning: HOH not found in residue library atom charges set to 0.\n",
      "Warning: HOH not found in residue library atom charges set to 0.\n",
      "Warning: HOH not found in residue library atom charges set to 0.\n",
      "Warning: HOH not found in residue library atom charges set to 0.\n",
      "Warning: HOH not found in residue library atom charges set to 0.\n",
      "Warning: HOH not found in residue library atom charges set to 0.\n",
      "Warning: HOH not found in residue library atom charges set to 0.\n",
      "Warning: HOH not found in residue library atom charges set to 0.\n",
      "Total assigned charge:       5.69\n",
      "Final Num. models: 1\n",
      "Final Num. chains: 1 (A: Protein)\n",
      "Final Num. residues:  371\n",
      "Final Num. residues with ins. codes:  0\n",
      "Final Num. HETATM residues:  87\n",
      "Final Num. ligands or modified residues:  2\n",
      "Final Num. water mol.:  85\n",
      "Final Num. atoms:  4757\n",
      "Small mol ligands found\n",
      "PO4 A81\n",
      "PO4 A82\n",
      "Structure saved on prep_receptor.pdbqt\n",
      "\n"
     ]
    },
    {
     "name": "stderr",
     "output_type": "stream",
     "text": [
      "INFO:/home/gbayarri_local/projects/BioBB/biobb_vs/biobb_vs/tutorial/fpocket/log362.out:===============================================================================\n",
      "=                   BioBB structure checking utility v3.7.2                   =\n",
      "=                 A. Hospital, P. Andrio, J.L. Gelpi 2018-20                  =\n",
      "===============================================================================\n",
      "\n",
      "Warning: sequence features only available in mmCIF format or with external fasta input\n",
      "Structure /home/gbayarri_local/projects/BioBB/biobb_vs/biobb_vs/tutorial/fpocket/extract_chain.pdb loaded\n",
      " Title: \n",
      " Experimental method: unknown\n",
      " Resolution: None A\n",
      "\n",
      " Num. models: 1\n",
      " Num. chains: 1 (A: Protein)\n",
      " Num. residues:  371\n",
      " Num. residues with ins. codes:  0\n",
      " Num. HETATM residues:  87\n",
      " Num. ligands or modified residues:  2\n",
      " Num. water mol.:  85\n",
      " Num. atoms:  2384\n",
      "Small mol ligands found\n",
      "PO4 A81\n",
      "PO4 A82\n",
      "\n",
      "Running add_hydrogen. Options: --add_charges --add_mode auto\n",
      "96 Residues requiring selection on adding H atoms\n",
      " CYS A775,A781,A797,A818,A939,A950\n",
      " ASP A761,A770,A800,A807,A830,A837,A855,A896,A916,A942,A954,A956,A974,A984,A1003,A1012,A1014\n",
      " GLU A709,A711,A746,A758,A762,A804,A829,A865,A866,A884,A906,A922,A928,A931,A963,A967,A985,A1015\n",
      " HIS A773,A805,A835,A850,A888,A893\n",
      " LYS A708,A713,A714,A716,A728,A739,A745,A754,A757,A806,A823,A846,A852,A860,A867,A879,A913,A929,A949,A960,A970\n",
      " ARG A705,A748,A776,A803,A831,A832,A836,A841,A889,A932,A958,A962,A973,A977,A986,A999\n",
      " TYR A727,A764,A801,A813,A827,A891,A900,A915,A944,A978,A998,A1016\n",
      "WARNING: fixing side chains, override with --no_fix_side\n",
      "Running fixside. Options: --fix all\n",
      "1 Residues with missing side chain atoms found\n",
      " GLU A1015  CG,CD,OE1,OE2\n",
      "Fixing side chains\n",
      "GLU A1015\n",
      "  Adding new atom CG\n",
      "  Adding new atom CD\n",
      "  Adding new atom OE1\n",
      "  Adding new atom OE2\n",
      "Fixed 1 side chain(s)\n",
      "Checking for steric clashes\n",
      "No severe clashes detected\n",
      "No apolar clashes detected\n",
      "No polar_acceptor clashes detected\n",
      "No polar_donor clashes detected\n",
      "No positive clashes detected\n",
      "No negative clashes detected\n",
      "Selection: auto\n",
      "Replacing HIS A773 by HIE\n",
      "Replacing HIS A805 by HIE\n",
      "Replacing HIS A835 by HIE\n",
      "Replacing HIS A850 by HIE\n",
      "Replacing HIS A888 by HIE\n",
      "Replacing HIS A893 by HIE\n",
      "Updating partial charges and atom types\n",
      "Warning: OXT atom missing in CPRO A733. Run backbone --add_atoms first\n",
      "Warning: OXT atom missing in CARG A748. Run backbone --add_atoms first\n",
      "Warning: OXT atom missing in CLYS A867. Run backbone --add_atoms first\n",
      "Warning: OXT atom missing in CMET A987. Run backbone --add_atoms first\n",
      "Warning: OXT atom missing in CASP A1003. Run backbone --add_atoms first\n",
      "Warning: PO4 not found in residue library atom charges set to 0.\n",
      "Warning: PO4 not found in residue library atom charges set to 0.\n",
      "Warning: HOH not found in residue library atom charges set to 0.\n",
      "Warning: HOH not found in residue library atom charges set to 0.\n",
      "Warning: HOH not found in residue library atom charges set to 0.\n",
      "Warning: HOH not found in residue library atom charges set to 0.\n",
      "Warning: HOH not found in residue library atom charges set to 0.\n",
      "Warning: HOH not found in residue library atom charges set to 0.\n",
      "Warning: HOH not found in residue library atom charges set to 0.\n",
      "Warning: HOH not found in residue library atom charges set to 0.\n",
      "Warning: HOH not found in residue library atom charges set to 0.\n",
      "Warning: HOH not found in residue library atom charges set to 0.\n",
      "Warning: HOH not found in residue library atom charges set to 0.\n",
      "Warning: HOH not found in residue library atom charges set to 0.\n",
      "Warning: HOH not found in residue library atom charges set to 0.\n",
      "Warning: HOH not found in residue library atom charges set to 0.\n",
      "Warning: HOH not found in residue library atom charges set to 0.\n",
      "Warning: HOH not found in residue library atom charges set to 0.\n",
      "Warning: HOH not found in residue library atom charges set to 0.\n",
      "Warning: HOH not found in residue library atom charges set to 0.\n",
      "Warning: HOH not found in residue library atom charges set to 0.\n",
      "Warning: HOH not found in residue library atom charges set to 0.\n",
      "Warning: HOH not found in residue library atom charges set to 0.\n",
      "Warning: HOH not found in residue library atom charges set to 0.\n",
      "Warning: HOH not found in residue library atom charges set to 0.\n",
      "Warning: HOH not found in residue library atom charges set to 0.\n",
      "Warning: HOH not found in residue library atom charges set to 0.\n",
      "Warning: HOH not found in residue library atom charges set to 0.\n",
      "Warning: HOH not found in residue library atom charges set to 0.\n",
      "Warning: HOH not found in residue library atom charges set to 0.\n",
      "Warning: HOH not found in residue library atom charges set to 0.\n",
      "Warning: HOH not found in residue library atom charges set to 0.\n",
      "Warning: HOH not found in residue library atom charges set to 0.\n",
      "Warning: HOH not found in residue library atom charges set to 0.\n",
      "Warning: HOH not found in residue library atom charges set to 0.\n",
      "Warning: HOH not found in residue library atom charges set to 0.\n",
      "Warning: HOH not found in residue library atom charges set to 0.\n",
      "Warning: HOH not found in residue library atom charges set to 0.\n",
      "Warning: HOH not found in residue library atom charges set to 0.\n",
      "Warning: HOH not found in residue library atom charges set to 0.\n",
      "Warning: HOH not found in residue library atom charges set to 0.\n",
      "Warning: HOH not found in residue library atom charges set to 0.\n",
      "Warning: HOH not found in residue library atom charges set to 0.\n",
      "Warning: HOH not found in residue library atom charges set to 0.\n",
      "Warning: HOH not found in residue library atom charges set to 0.\n",
      "Warning: HOH not found in residue library atom charges set to 0.\n",
      "Warning: HOH not found in residue library atom charges set to 0.\n",
      "Warning: HOH not found in residue library atom charges set to 0.\n",
      "Warning: HOH not found in residue library atom charges set to 0.\n",
      "Warning: HOH not found in residue library atom charges set to 0.\n",
      "Warning: HOH not found in residue library atom charges set to 0.\n",
      "Warning: HOH not found in residue library atom charges set to 0.\n",
      "Warning: HOH not found in residue library atom charges set to 0.\n",
      "Warning: HOH not found in residue library atom charges set to 0.\n",
      "Warning: HOH not found in residue library atom charges set to 0.\n",
      "Warning: HOH not found in residue library atom charges set to 0.\n",
      "Warning: HOH not found in residue library atom charges set to 0.\n",
      "Warning: HOH not found in residue library atom charges set to 0.\n",
      "Warning: HOH not found in residue library atom charges set to 0.\n",
      "Warning: HOH not found in residue library atom charges set to 0.\n",
      "Warning: HOH not found in residue library atom charges set to 0.\n",
      "Warning: HOH not found in residue library atom charges set to 0.\n",
      "Warning: HOH not found in residue library atom charges set to 0.\n",
      "Warning: HOH not found in residue library atom charges set to 0.\n",
      "Warning: HOH not found in residue library atom charges set to 0.\n",
      "Warning: HOH not found in residue library atom charges set to 0.\n",
      "Warning: HOH not found in residue library atom charges set to 0.\n",
      "Warning: HOH not found in residue library atom charges set to 0.\n",
      "Warning: HOH not found in residue library atom charges set to 0.\n",
      "Warning: HOH not found in residue library atom charges set to 0.\n",
      "Warning: HOH not found in residue library atom charges set to 0.\n",
      "Warning: HOH not found in residue library atom charges set to 0.\n",
      "Warning: HOH not found in residue library atom charges set to 0.\n",
      "Warning: HOH not found in residue library atom charges set to 0.\n",
      "Warning: HOH not found in residue library atom charges set to 0.\n",
      "Warning: HOH not found in residue library atom charges set to 0.\n",
      "Warning: HOH not found in residue library atom charges set to 0.\n",
      "Warning: HOH not found in residue library atom charges set to 0.\n",
      "Warning: HOH not found in residue library atom charges set to 0.\n",
      "Warning: HOH not found in residue library atom charges set to 0.\n",
      "Warning: HOH not found in residue library atom charges set to 0.\n",
      "Warning: HOH not found in residue library atom charges set to 0.\n",
      "Warning: HOH not found in residue library atom charges set to 0.\n",
      "Warning: HOH not found in residue library atom charges set to 0.\n",
      "Warning: HOH not found in residue library atom charges set to 0.\n",
      "Warning: HOH not found in residue library atom charges set to 0.\n",
      "Warning: HOH not found in residue library atom charges set to 0.\n",
      "Total assigned charge:       5.69\n",
      "Final Num. models: 1\n",
      "Final Num. chains: 1 (A: Protein)\n",
      "Final Num. residues:  371\n",
      "Final Num. residues with ins. codes:  0\n",
      "Final Num. HETATM residues:  87\n",
      "Final Num. ligands or modified residues:  2\n",
      "Final Num. water mol.:  85\n",
      "Final Num. atoms:  4757\n",
      "Small mol ligands found\n",
      "PO4 A81\n",
      "PO4 A82\n",
      "Structure saved on prep_receptor.pdbqt\n",
      "\n"
     ]
    },
    {
     "data": {
      "text/plain": [
       "0"
      ]
     },
     "execution_count": 137,
     "metadata": {},
     "output_type": "execute_result"
    }
   ],
   "source": [
    "prep_receptor = \"prep_receptor.pdbqt\"\n",
    "prop = {\n",
    "    \"charges\": True,\n",
    "    \"mode\": \"auto\"\n",
    "}\n",
    "\n",
    "str_check_add_hydrogens(input_structure_path = pdb_single_chain,\n",
    "            output_structure_path = prep_receptor,\n",
    "            properties=prop)"
   ]
  },
  {
   "cell_type": "code",
   "execution_count": 139,
   "metadata": {},
   "outputs": [],
   "source": [
    "from biobb_vs.vina.autodock_vina import autodock_vina"
   ]
  },
  {
   "cell_type": "code",
   "execution_count": 140,
   "metadata": {},
   "outputs": [
    {
     "name": "stderr",
     "output_type": "stream",
     "text": [
      "2021-01-25 18:51:52,746 [MainThread  ] [INFO ]  prep_receptor.pdbqt file ends with END, cleaning\n",
      "INFO:/home/gbayarri_local/projects/BioBB/biobb_vs/biobb_vs/tutorial/fpocket/log363.out:prep_receptor.pdbqt file ends with END, cleaning\n",
      "2021-01-25 18:51:52,750 [MainThread  ] [INFO ]  Executing AutoDock Vina\n",
      "INFO:/home/gbayarri_local/projects/BioBB/biobb_vs/biobb_vs/tutorial/fpocket/log363.out:Executing AutoDock Vina\n",
      "2021-01-25 18:51:52,752 [MainThread  ] [INFO ]  Not using any container\n",
      "INFO:/home/gbayarri_local/projects/BioBB/biobb_vs/biobb_vs/tutorial/fpocket/log363.out:Not using any container\n",
      "2021-01-25 18:52:41,067 [MainThread  ] [INFO ]  vina --ligand prep_ligand.pdbqt --receptor prep_receptor.pdbqt --center_x=17.361 --center_y=35.823 --center_z=93.249 --size_x=20.502 --size_y=15.242 --size_z=15.393 --out output_vina.pdbqt --log output_vina.log\n",
      "\n",
      "INFO:/home/gbayarri_local/projects/BioBB/biobb_vs/biobb_vs/tutorial/fpocket/log363.out:vina --ligand prep_ligand.pdbqt --receptor prep_receptor.pdbqt --center_x=17.361 --center_y=35.823 --center_z=93.249 --size_x=20.502 --size_y=15.242 --size_z=15.393 --out output_vina.pdbqt --log output_vina.log\n",
      "\n",
      "2021-01-25 18:52:41,068 [MainThread  ] [INFO ]  Exit code 0\n",
      "\n",
      "INFO:/home/gbayarri_local/projects/BioBB/biobb_vs/biobb_vs/tutorial/fpocket/log363.out:Exit code 0\n",
      "\n",
      "2021-01-25 18:52:41,069 [MainThread  ] [INFO ]  #################################################################\n",
      "# If you used AutoDock Vina in your work, please cite:          #\n",
      "#                                                               #\n",
      "# O. Trott, A. J. Olson,                                        #\n",
      "# AutoDock Vina: improving the speed and accuracy of docking    #\n",
      "# with a new scoring function, efficient optimization and       #\n",
      "# multithreading, Journal of Computational Chemistry 31 (2010)  #\n",
      "# 455-461                                                       #\n",
      "#                                                               #\n",
      "# DOI 10.1002/jcc.21334                                         #\n",
      "#                                                               #\n",
      "# Please see http://vina.scripps.edu for more information.      #\n",
      "#################################################################\n",
      "\n",
      "Detected 8 CPUs\n",
      "Reading input ... done.\n",
      "Setting up the scoring function ... done.\n",
      "Analyzing the binding site ... done.\n",
      "Using random seed: 1853253168\n",
      "Performing search ... \n",
      "0%   10   20   30   40   50   60   70   80   90   100%\n",
      "|----|----|----|----|----|----|----|----|----|----|\n",
      "***************************************************\n",
      "done.\n",
      "Refining results ... done.\n",
      "\n",
      "mode |   affinity | dist from best mode\n",
      "     | (kcal/mol) | rmsd l.b.| rmsd u.b.\n",
      "-----+------------+----------+----------\n",
      "   1        -11.6      0.000      0.000\n",
      "   2        -10.2      2.624      9.315\n",
      "   3        -10.1      3.057      9.556\n",
      "   4         -9.6      1.867      4.499\n",
      "   5         -9.4      1.614      2.417\n",
      "   6         -9.2      1.736      4.046\n",
      "   7         -9.0      1.337      4.096\n",
      "Writing output ... done.\n",
      "\n",
      "INFO:/home/gbayarri_local/projects/BioBB/biobb_vs/biobb_vs/tutorial/fpocket/log363.out:#################################################################\n",
      "# If you used AutoDock Vina in your work, please cite:          #\n",
      "#                                                               #\n",
      "# O. Trott, A. J. Olson,                                        #\n",
      "# AutoDock Vina: improving the speed and accuracy of docking    #\n",
      "# with a new scoring function, efficient optimization and       #\n",
      "# multithreading, Journal of Computational Chemistry 31 (2010)  #\n",
      "# 455-461                                                       #\n",
      "#                                                               #\n",
      "# DOI 10.1002/jcc.21334                                         #\n",
      "#                                                               #\n",
      "# Please see http://vina.scripps.edu for more information.      #\n",
      "#################################################################\n",
      "\n",
      "Detected 8 CPUs\n",
      "Reading input ... done.\n",
      "Setting up the scoring function ... done.\n",
      "Analyzing the binding site ... done.\n",
      "Using random seed: 1853253168\n",
      "Performing search ... \n",
      "0%   10   20   30   40   50   60   70   80   90   100%\n",
      "|----|----|----|----|----|----|----|----|----|----|\n",
      "***************************************************\n",
      "done.\n",
      "Refining results ... done.\n",
      "\n",
      "mode |   affinity | dist from best mode\n",
      "     | (kcal/mol) | rmsd l.b.| rmsd u.b.\n",
      "-----+------------+----------+----------\n",
      "   1        -11.6      0.000      0.000\n",
      "   2        -10.2      2.624      9.315\n",
      "   3        -10.1      3.057      9.556\n",
      "   4         -9.6      1.867      4.499\n",
      "   5         -9.4      1.614      2.417\n",
      "   6         -9.2      1.736      4.046\n",
      "   7         -9.0      1.337      4.096\n",
      "Writing output ... done.\n",
      "\n"
     ]
    },
    {
     "data": {
      "text/plain": [
       "0"
      ]
     },
     "execution_count": 140,
     "metadata": {},
     "output_type": "execute_result"
    }
   ],
   "source": [
    "output_vina_pdbqt = \"output_vina.pdbqt\"\n",
    "output_vina_log = \"output_vina.log\"\n",
    "\n",
    "autodock_vina(input_ligand_pdbqt_path = prep_ligand,\n",
    "             input_receptor_pdbqt_path = prep_receptor,\n",
    "             input_box_path = output_box,\n",
    "            output_pdbqt_path = output_vina_pdbqt,\n",
    "             output_log_path = output_vina_log)"
   ]
  },
  {
   "cell_type": "code",
   "execution_count": 141,
   "metadata": {},
   "outputs": [
    {
     "data": {
      "application/vnd.jupyter.widget-view+json": {
       "model_id": "ac07d77cd8c843e4bdb5e63d8a84b3e6",
       "version_major": 2,
       "version_minor": 0
      },
      "text/plain": [
       "HBox(children=(NGLWidget(), NGLWidget()))"
      ]
     },
     "metadata": {},
     "output_type": "display_data"
    }
   ],
   "source": [
    "models = 'all'\n",
    "#models = '/0 or /1 or /4'\n",
    "\n",
    "v0 = nglview.show_structure_file(output_vina_pdbqt, default=False)\n",
    "v0.add_representation(repr_type='licorice', \n",
    "                        selection=models,\n",
    "                       colorScheme= 'partialCharge')\n",
    "v0.center()\n",
    "v1 = nglview.show_structure_file(output_vina_pdbqt, default=False)\n",
    "v1.add_representation(repr_type='ball+stick', \n",
    "                        selection=models)\n",
    "v1.center()\n",
    "\n",
    "v0._set_size('500px', '')\n",
    "v1._set_size('500px', '')\n",
    "\n",
    "def on_change(change):\n",
    "    v1._set_camera_orientation(change['new'])\n",
    "    \n",
    "v0.observe(on_change, ['_camera_orientation'])\n",
    "\n",
    "HBox([v0, v1])"
   ]
  },
  {
   "cell_type": "code",
   "execution_count": 142,
   "metadata": {},
   "outputs": [
    {
     "data": {
      "application/vnd.jupyter.widget-view+json": {
       "model_id": "4beac96b58d84577b5ccb8ccc7b27532",
       "version_major": 2,
       "version_minor": 0
      },
      "text/plain": [
       "Dropdown(description='Sel. model:', options=(('model0', 0), ('model1', 1), ('model2', 2), ('model3', 3), ('mod…"
      ]
     },
     "metadata": {},
     "output_type": "display_data"
    }
   ],
   "source": [
    "from Bio.PDB import PDBParser\n",
    "parser = PDBParser(QUIET = True)\n",
    "structure = parser.get_structure(\"protein\", output_vina_pdbqt)\n",
    "models = []\n",
    "for i, m in enumerate(structure):\n",
    "    models.append(('model' + str(i), i))\n",
    "    \n",
    "mdsel = ipywidgets.Dropdown(\n",
    "    options=models,\n",
    "    description='Sel. model:',\n",
    "    disabled=False,\n",
    ")\n",
    "display(mdsel)"
   ]
  },
  {
   "cell_type": "code",
   "execution_count": 143,
   "metadata": {},
   "outputs": [],
   "source": [
    "from biobb_vs.utils.extract_model_pdbqt import extract_model_pdbqt"
   ]
  },
  {
   "cell_type": "code",
   "execution_count": 144,
   "metadata": {},
   "outputs": [
    {
     "name": "stderr",
     "output_type": "stream",
     "text": [
      "2021-01-25 18:52:52,940 [MainThread  ] [INFO ]  Saving model 1 to output_model.pdbqt\n",
      "INFO:/home/gbayarri_local/projects/BioBB/biobb_vs/biobb_vs/tutorial/fpocket/log364.out:Saving model 1 to output_model.pdbqt\n"
     ]
    },
    {
     "data": {
      "text/plain": [
       "0"
      ]
     },
     "execution_count": 144,
     "metadata": {},
     "output_type": "execute_result"
    }
   ],
   "source": [
    "output_pdbqt_model = \"output_model.pdbqt\"\n",
    "prop = {\n",
    "    \"model\": mdsel.value + 1\n",
    "}\n",
    "\n",
    "extract_model_pdbqt(input_pdbqt_path = output_vina_pdbqt,\n",
    "             output_pdbqt_path = output_pdbqt_model,\n",
    "            properties=prop)"
   ]
  },
  {
   "cell_type": "code",
   "execution_count": 145,
   "metadata": {},
   "outputs": [
    {
     "data": {
      "application/vnd.jupyter.widget-view+json": {
       "model_id": "e57591ba74dc4e15b411dfc7e94c9881",
       "version_major": 2,
       "version_minor": 0
      },
      "text/plain": [
       "HBox(children=(NGLWidget(), NGLWidget()))"
      ]
     },
     "metadata": {},
     "output_type": "display_data"
    }
   ],
   "source": [
    "v0 = nglview.show_structure_file(ligand)\n",
    "v1 = nglview.show_structure_file(output_pdbqt_model)\n",
    "\n",
    "v0._set_size('500px', '')\n",
    "v1._set_size('500px', '')\n",
    "\n",
    "#def on_change(change):\n",
    "#    v1._set_camera_orientation(change['new'])\n",
    "    \n",
    "#v0.observe(on_change, ['_camera_orientation'])\n",
    "\n",
    "HBox([v0, v1])"
   ]
  },
  {
   "cell_type": "code",
   "execution_count": 146,
   "metadata": {},
   "outputs": [],
   "source": [
    "from biobb_chemistry.babelm.babel_convert import babel_convert"
   ]
  },
  {
   "cell_type": "code",
   "execution_count": 147,
   "metadata": {},
   "outputs": [
    {
     "name": "stderr",
     "output_type": "stream",
     "text": [
      "2021-01-25 18:52:57,198 [MainThread  ] [INFO ]  Value  is not compatible as a coordinates value\n",
      "INFO:/home/gbayarri_local/projects/BioBB/biobb_vs/biobb_vs/tutorial/fpocket/log365.out:Value  is not compatible as a coordinates value\n",
      "2021-01-25 18:52:57,202 [MainThread  ] [INFO ]  Not using any container\n",
      "INFO:/home/gbayarri_local/projects/BioBB/biobb_vs/biobb_vs/tutorial/fpocket/log365.out:Not using any container\n",
      "2021-01-25 18:52:57,353 [MainThread  ] [INFO ]  /anaconda3/bin/obabel -ipdbqt output_model.pdbqt -opdb -Ooutput_model.pdb  \n",
      "\n",
      "INFO:/home/gbayarri_local/projects/BioBB/biobb_vs/biobb_vs/tutorial/fpocket/log365.out:/anaconda3/bin/obabel -ipdbqt output_model.pdbqt -opdb -Ooutput_model.pdb  \n",
      "\n",
      "2021-01-25 18:52:57,356 [MainThread  ] [INFO ]  Exit code 0\n",
      "\n",
      "INFO:/home/gbayarri_local/projects/BioBB/biobb_vs/biobb_vs/tutorial/fpocket/log365.out:Exit code 0\n",
      "\n",
      "2021-01-25 18:52:57,357 [MainThread  ] [INFO ]  1 molecule converted\n",
      "\n",
      "INFO:/home/gbayarri_local/projects/BioBB/biobb_vs/biobb_vs/tutorial/fpocket/log365.err:1 molecule converted\n",
      "\n"
     ]
    },
    {
     "data": {
      "text/plain": [
       "0"
      ]
     },
     "execution_count": 147,
     "metadata": {},
     "output_type": "execute_result"
    }
   ],
   "source": [
    "output_pdb_model = \"output_model.pdb\"\n",
    "prop = {\n",
    "    \"input_format\": \"pdbqt\",\n",
    "    \"output_format\": \"pdb\",\n",
    "    \"obabel_path\": \"/anaconda3/bin/obabel\"\n",
    "}\n",
    "\n",
    "babel_convert(input_path = output_pdbqt_model,\n",
    "             output_path = output_pdb_model,\n",
    "            properties=prop)"
   ]
  },
  {
   "cell_type": "code",
   "execution_count": 148,
   "metadata": {},
   "outputs": [],
   "source": [
    "from biobb_structure_utils.utils.cat_pdb import cat_pdb"
   ]
  },
  {
   "cell_type": "code",
   "execution_count": 149,
   "metadata": {},
   "outputs": [
    {
     "name": "stderr",
     "output_type": "stream",
     "text": [
      "2021-01-25 18:52:59,239 [MainThread  ] [INFO ]  File output_structure.pdb created\n",
      "INFO:/home/gbayarri_local/projects/BioBB/biobb_vs/biobb_vs/tutorial/fpocket/log366.out:File output_structure.pdb created\n"
     ]
    },
    {
     "data": {
      "text/plain": [
       "0"
      ]
     },
     "execution_count": 149,
     "metadata": {},
     "output_type": "execute_result"
    }
   ],
   "source": [
    "output_structure = \"output_structure.pdb\"\n",
    "\n",
    "cat_pdb(input_structure1 = pdb_single_chain,\n",
    "             input_structure2 = output_pdb_model,\n",
    "             output_structure_path = output_structure)"
   ]
  },
  {
   "cell_type": "code",
   "execution_count": 150,
   "metadata": {},
   "outputs": [
    {
     "name": "stderr",
     "output_type": "stream",
     "text": [
      "2021-01-25 18:53:01,294 [MainThread  ] [INFO ]  Downloading: 4hjo from: http://www.ebi.ac.uk/pdbe/entry-files/download/pdb4hjo.ent\n",
      "INFO:/home/gbayarri_local/projects/BioBB/biobb_vs/biobb_vs/tutorial/fpocket/log367.out:Downloading: 4hjo from: http://www.ebi.ac.uk/pdbe/entry-files/download/pdb4hjo.ent\n",
      "/anaconda3/envs/biobb_dev_37/lib/python3.7/site-packages/urllib3/connectionpool.py:986: InsecureRequestWarning: Unverified HTTPS request is being made to host 'www.ebi.ac.uk'. Adding certificate verification is strongly advised. See: https://urllib3.readthedocs.io/en/latest/advanced-usage.html#ssl-warnings\n",
      "  InsecureRequestWarning,\n",
      "2021-01-25 18:53:01,837 [MainThread  ] [INFO ]  Writting pdb to: 4hjo.pdb\n",
      "INFO:/home/gbayarri_local/projects/BioBB/biobb_vs/biobb_vs/tutorial/fpocket/log367.out:Writting pdb to: 4hjo.pdb\n",
      "2021-01-25 18:53:01,842 [MainThread  ] [INFO ]  Filtering lines NOT starting with one of these words: ['ATOM', 'HETATM']\n",
      "INFO:/home/gbayarri_local/projects/BioBB/biobb_vs/biobb_vs/tutorial/fpocket/log367.out:Filtering lines NOT starting with one of these words: ['ATOM', 'HETATM']\n"
     ]
    },
    {
     "data": {
      "text/plain": [
       "0"
      ]
     },
     "execution_count": 150,
     "metadata": {},
     "output_type": "execute_result"
    }
   ],
   "source": [
    "# download 4hjo for comparing purposes\n",
    "compare_structure = compare_id + \".pdb\"\n",
    "prop = {\n",
    "  \"pdb_code\": compare_id,\n",
    "  \"filter\": [\"ATOM\", \"HETATM\"],\n",
    "  \"api_id\": api_id\n",
    "}\n",
    "compare_structure\n",
    "pdb(output_pdb_path=compare_structure,\n",
    "    properties=prop)"
   ]
  },
  {
   "cell_type": "code",
   "execution_count": 158,
   "metadata": {
    "scrolled": false
   },
   "outputs": [
    {
     "data": {
      "application/vnd.jupyter.widget-view+json": {
       "model_id": "e1a4ba516c814ab6b1399b62b6a9bf1b",
       "version_major": 2,
       "version_minor": 0
      },
      "text/plain": [
       "NGLWidget()"
      ]
     },
     "metadata": {},
     "output_type": "display_data"
    }
   ],
   "source": [
    "# load reference and output\n",
    "view = nglview.NGLWidget()\n",
    "#v1 = view.add_component(compare_structure)\n",
    "v1 = view.add_component(download_pdb)\n",
    "v2 = view.add_component(output_structure)\n",
    "v1.clear()\n",
    "v1.add_representation(repr_type='licorice', \n",
    "                        selection='HYZ',\n",
    "                      #selection='AQ4',\n",
    "                     radius=0.5)\n",
    "\n",
    "view._remote_call('setSize', target='Widget', args=['','600px'])\n",
    "view\n",
    "\n",
    "something = 'kk'\n",
    "\n",
    "# align reference and output\n",
    "code = \"\"\"\n",
    "console.log(%s)\n",
    "var stage = this.stage;\n",
    "var clist_len = stage.compList.length;\n",
    "var i = 0;\n",
    "var s = [];\n",
    "//console.log(clist_len)\n",
    "//console.log(stage.compList[0])\n",
    "//console.log(stage.compList)\n",
    "for(i = 0; i <= clist_len; i++){\n",
    "    //console.log(stage.compList[i])\n",
    "    if(stage.compList[i] != undefined && stage.compList[i].structure != undefined) {        \n",
    "       s.push(stage.compList[i])\n",
    "    }\n",
    "}\n",
    "\n",
    "NGL.superpose(s[0].structure, s[1].structure, true)\n",
    "s[ 0 ].updateRepresentations({ position: true })\n",
    "s[ 0 ].autoView()\n",
    "\"\"\" % something\n",
    "\n",
    "view._execute_js_code(code)\n",
    "view"
   ]
  },
  {
   "cell_type": "code",
   "execution_count": null,
   "metadata": {},
   "outputs": [],
   "source": [
    "#v0 = nglview.show_structure_file(compare_structure)\n",
    "v0 = nglview.show_structure_file(download_pdb)\n",
    "\n",
    "v1 = nglview.show_structure_file(output_structure)\n",
    "\n",
    "v0._set_size('500px', '500px')\n",
    "v1._set_size('500px', '500px')\n",
    "\n",
    "def on_change(change):\n",
    "    v1._set_camera_orientation(change['new'])\n",
    "    \n",
    "v0.observe(on_change, ['_camera_orientation'])\n",
    "\n",
    "HBox([v0, v1])"
   ]
  },
  {
   "cell_type": "code",
   "execution_count": null,
   "metadata": {},
   "outputs": [],
   "source": []
  }
 ],
 "metadata": {
  "kernelspec": {
   "display_name": "Python 3",
   "language": "python",
   "name": "python3"
  },
  "language_info": {
   "codemirror_mode": {
    "name": "ipython",
    "version": 3
   },
   "file_extension": ".py",
   "mimetype": "text/x-python",
   "name": "python",
   "nbconvert_exporter": "python",
   "pygments_lexer": "ipython3",
   "version": "3.7.6"
  }
 },
 "nbformat": 4,
 "nbformat_minor": 4
}
