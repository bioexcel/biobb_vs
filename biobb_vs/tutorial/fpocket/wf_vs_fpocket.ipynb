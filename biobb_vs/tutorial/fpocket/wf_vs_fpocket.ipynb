{
 "cells": [
  {
   "cell_type": "code",
   "execution_count": 1,
   "metadata": {},
   "outputs": [
    {
     "data": {
      "application/vnd.jupyter.widget-view+json": {
       "model_id": "944abf69a55843e59d98f586d20a7136",
       "version_major": 2,
       "version_minor": 0
      },
      "text/plain": [
       "_ColormakerRegistry()"
      ]
     },
     "metadata": {},
     "output_type": "display_data"
    }
   ],
   "source": [
    "import nglview\n",
    "import ipywidgets\n",
    "\n",
    "pdb_code = \"4i23\"\n",
    "ligand_remove = \"1C9\"\n",
    "compare_id = \"4hjo\"\n",
    "api_id = \"pdbe\"\n",
    "pockets_dir = \"pockets\""
   ]
  },
  {
   "cell_type": "code",
   "execution_count": 2,
   "metadata": {},
   "outputs": [],
   "source": [
    "from biobb_io.api.pdb import pdb"
   ]
  },
  {
   "cell_type": "code",
   "execution_count": 3,
   "metadata": {
    "scrolled": true
   },
   "outputs": [
    {
     "name": "stderr",
     "output_type": "stream",
     "text": [
      "2021-01-22 16:34:26,987 [MainThread  ] [INFO ]  Downloading: 4i23 from: http://www.ebi.ac.uk/pdbe/entry-files/download/pdb4i23.ent\n",
      "/anaconda3/envs/biobb_dev_37/lib/python3.7/site-packages/urllib3/connectionpool.py:986: InsecureRequestWarning: Unverified HTTPS request is being made to host 'www.ebi.ac.uk'. Adding certificate verification is strongly advised. See: https://urllib3.readthedocs.io/en/latest/advanced-usage.html#ssl-warnings\n",
      "  InsecureRequestWarning,\n",
      "2021-01-22 16:34:27,451 [MainThread  ] [INFO ]  Writting pdb to: download.pdb\n",
      "2021-01-22 16:34:27,454 [MainThread  ] [INFO ]  Filtering lines NOT starting with one of these words: ['ATOM', 'HETATM']\n"
     ]
    },
    {
     "data": {
      "text/plain": [
       "0"
      ]
     },
     "execution_count": 3,
     "metadata": {},
     "output_type": "execute_result"
    }
   ],
   "source": [
    "download_pdb = \"download.pdb\"\n",
    "prop = {\n",
    "  \"pdb_code\": pdb_code,\n",
    "  \"filter\": [\"ATOM\", \"HETATM\"],\n",
    "  \"api_id\": api_id\n",
    "}\n",
    "\n",
    "pdb(output_pdb_path=download_pdb,\n",
    "    properties=prop)"
   ]
  },
  {
   "cell_type": "code",
   "execution_count": 4,
   "metadata": {},
   "outputs": [
    {
     "data": {
      "application/vnd.jupyter.widget-view+json": {
       "model_id": "5d37c51437c4415a87ba8387e69d21e1",
       "version_major": 2,
       "version_minor": 0
      },
      "text/plain": [
       "NGLWidget()"
      ]
     },
     "metadata": {},
     "output_type": "display_data"
    }
   ],
   "source": [
    "view = nglview.show_structure_file(download_pdb, default=True)\n",
    "view.center()\n",
    "view._remote_call('setSize', target='Widget', args=['','600px'])\n",
    "view"
   ]
  },
  {
   "cell_type": "code",
   "execution_count": 5,
   "metadata": {},
   "outputs": [],
   "source": [
    "from biobb_structure_utils.utils.remove_ligand import remove_ligand"
   ]
  },
  {
   "cell_type": "code",
   "execution_count": 6,
   "metadata": {
    "scrolled": false
   },
   "outputs": [
    {
     "name": "stderr",
     "output_type": "stream",
     "text": [
      "2021-01-22 16:34:30,678 [MainThread  ] [INFO ]  PDB format detected, removing all atoms from residues named 1C9\n"
     ]
    },
    {
     "data": {
      "text/plain": [
       "0"
      ]
     },
     "execution_count": 6,
     "metadata": {},
     "output_type": "execute_result"
    }
   ],
   "source": [
    "pdb_no_ligand = \"pdb_no_ligand.pdb\"\n",
    "prop = {\n",
    "    \"ligand\": ligand_remove\n",
    "}\n",
    "\n",
    "remove_ligand(input_structure_path=download_pdb,\n",
    "             output_structure_path = pdb_no_ligand,\n",
    "            properties=prop)"
   ]
  },
  {
   "cell_type": "code",
   "execution_count": 7,
   "metadata": {
    "scrolled": false
   },
   "outputs": [
    {
     "data": {
      "application/vnd.jupyter.widget-view+json": {
       "model_id": "259d6cc67ef642ccb77a90401f9f45cf",
       "version_major": 2,
       "version_minor": 0
      },
      "text/plain": [
       "NGLWidget()"
      ]
     },
     "metadata": {},
     "output_type": "display_data"
    }
   ],
   "source": [
    "view = nglview.show_structure_file(pdb_no_ligand, default=False)\n",
    "view.add_representation(repr_type='cartoon', \n",
    "                        selection='not het',\n",
    "                       colorScheme = 'atomindex')\n",
    "view.center()\n",
    "view._remote_call('setSize', target='Widget', args=['','600px'])\n",
    "view"
   ]
  },
  {
   "cell_type": "code",
   "execution_count": 8,
   "metadata": {},
   "outputs": [],
   "source": [
    "from biobb_structure_utils.utils.extract_chain import extract_chain"
   ]
  },
  {
   "cell_type": "code",
   "execution_count": 9,
   "metadata": {
    "scrolled": true
   },
   "outputs": [
    {
     "name": "stderr",
     "output_type": "stream",
     "text": [
      "2021-01-22 16:34:33,530 [MainThread  ] [INFO ]  check_structure -i /home/gbayarri_local/projects/BioBB/biobb_vs/biobb_vs/tutorial/fpocket/pdb_no_ligand.pdb -o extract_chain.pdb --force_save chains --select A\n",
      "\n",
      "2021-01-22 16:34:33,532 [MainThread  ] [INFO ]  Exit code 0\n",
      "\n",
      "2021-01-22 16:34:33,532 [MainThread  ] [INFO ]  ===============================================================================\n",
      "=                   BioBB structure checking utility v3.7.2                   =\n",
      "=                 A. Hospital, P. Andrio, J.L. Gelpi 2018-20                  =\n",
      "===============================================================================\n",
      "\n",
      "Warning: sequence features only available in mmCIF format or with external fasta input\n",
      "Structure /home/gbayarri_local/projects/BioBB/biobb_vs/biobb_vs/tutorial/fpocket/pdb_no_ligand.pdb loaded\n",
      " Title: \n",
      " Experimental method: unknown\n",
      " Resolution: None A\n",
      "\n",
      " Num. models: 1\n",
      " Num. chains: 1 (A: Protein)\n",
      " Num. residues:  304\n",
      " Num. residues with ins. codes:  0\n",
      " Num. HETATM residues:  0\n",
      " Num. ligands or modified residues:  0\n",
      " Num. water mol.:  0\n",
      " Num. atoms:  2429\n",
      "\n",
      "Running chains. Options: --select A\n",
      "1 Chain(s) detected\n",
      " A: Protein\n",
      "Structure not modified, saving due to --force_save option\n",
      "Final Num. models: 1\n",
      "Final Num. chains: 1 (A: Protein)\n",
      "Final Num. residues:  304\n",
      "Final Num. residues with ins. codes:  0\n",
      "Final Num. HETATM residues:  0\n",
      "Final Num. ligands or modified residues:  0\n",
      "Final Num. water mol.:  0\n",
      "Final Num. atoms:  2429\n",
      "Structure saved on extract_chain.pdb\n",
      "\n"
     ]
    },
    {
     "data": {
      "text/plain": [
       "0"
      ]
     },
     "execution_count": 9,
     "metadata": {},
     "output_type": "execute_result"
    }
   ],
   "source": [
    "pdb_single_chain = \"extract_chain.pdb\"\n",
    "prop = {\n",
    "    \"chains\": [\"A\"]\n",
    "}\n",
    "\n",
    "extract_chain(input_structure_path=pdb_no_ligand,\n",
    "             output_structure_path = pdb_single_chain,\n",
    "            properties=prop)"
   ]
  },
  {
   "cell_type": "code",
   "execution_count": 10,
   "metadata": {},
   "outputs": [
    {
     "data": {
      "application/vnd.jupyter.widget-view+json": {
       "model_id": "0e75abd4595b41a9a05ffbd595724b32",
       "version_major": 2,
       "version_minor": 0
      },
      "text/plain": [
       "NGLWidget()"
      ]
     },
     "metadata": {},
     "output_type": "display_data"
    }
   ],
   "source": [
    "view = nglview.show_structure_file(pdb_single_chain, default=False)\n",
    "view.add_representation(repr_type='cartoon', \n",
    "                        selection='not het',\n",
    "                        colorScheme = 'atomindex')\n",
    "view.center()\n",
    "view._remote_call('setSize', target='Widget', args=['','600px'])\n",
    "view"
   ]
  },
  {
   "cell_type": "code",
   "execution_count": 11,
   "metadata": {},
   "outputs": [],
   "source": [
    "from biobb_vs.fpocket.fpocket import fpocket"
   ]
  },
  {
   "cell_type": "code",
   "execution_count": 12,
   "metadata": {
    "scrolled": true
   },
   "outputs": [
    {
     "name": "stderr",
     "output_type": "stream",
     "text": [
      "2021-01-22 16:34:35,538 [MainThread  ] [INFO ]  Creating f4d2ff8e-3e26-4282-822c-55fa57089715 temporary folder\n",
      "2021-01-22 16:34:35,539 [MainThread  ] [INFO ]  Executing fpocket\n",
      "2021-01-22 16:34:35,540 [MainThread  ] [INFO ]  Not using any container\n",
      "2021-01-22 16:34:36,735 [MainThread  ] [INFO ]  fpocket -f f4d2ff8e-3e26-4282-822c-55fa57089715/input.pdb -m 3 -M 6 -i 35\n",
      "\n",
      "2021-01-22 16:34:36,737 [MainThread  ] [INFO ]  Exit code 0\n",
      "\n",
      "2021-01-22 16:34:36,738 [MainThread  ] [INFO ]  ***** POCKET HUNTING BEGINS ***** \n",
      "***** POCKET HUNTING ENDS ***** \n",
      "\n",
      "2021-01-22 16:34:36,742 [MainThread  ] [INFO ]  12 pockets found\n",
      "2021-01-22 16:34:36,749 [MainThread  ] [INFO ]  Adding:\n",
      "2021-01-22 16:34:36,750 [MainThread  ] [INFO ]  ['f4d2ff8e-3e26-4282-822c-55fa57089715/input_out/pockets/pocket10_atm.pdb', 'f4d2ff8e-3e26-4282-822c-55fa57089715/input_out/pockets/pocket10_vert.pqr', 'f4d2ff8e-3e26-4282-822c-55fa57089715/input_out/pockets/pocket11_atm.pdb', 'f4d2ff8e-3e26-4282-822c-55fa57089715/input_out/pockets/pocket11_vert.pqr', 'f4d2ff8e-3e26-4282-822c-55fa57089715/input_out/pockets/pocket12_atm.pdb', 'f4d2ff8e-3e26-4282-822c-55fa57089715/input_out/pockets/pocket12_vert.pqr', 'f4d2ff8e-3e26-4282-822c-55fa57089715/input_out/pockets/pocket1_atm.pdb', 'f4d2ff8e-3e26-4282-822c-55fa57089715/input_out/pockets/pocket1_vert.pqr', 'f4d2ff8e-3e26-4282-822c-55fa57089715/input_out/pockets/pocket2_atm.pdb', 'f4d2ff8e-3e26-4282-822c-55fa57089715/input_out/pockets/pocket2_vert.pqr', 'f4d2ff8e-3e26-4282-822c-55fa57089715/input_out/pockets/pocket3_atm.pdb', 'f4d2ff8e-3e26-4282-822c-55fa57089715/input_out/pockets/pocket3_vert.pqr', 'f4d2ff8e-3e26-4282-822c-55fa57089715/input_out/pockets/pocket4_atm.pdb', 'f4d2ff8e-3e26-4282-822c-55fa57089715/input_out/pockets/pocket4_vert.pqr', 'f4d2ff8e-3e26-4282-822c-55fa57089715/input_out/pockets/pocket5_atm.pdb', 'f4d2ff8e-3e26-4282-822c-55fa57089715/input_out/pockets/pocket5_vert.pqr', 'f4d2ff8e-3e26-4282-822c-55fa57089715/input_out/pockets/pocket6_atm.pdb', 'f4d2ff8e-3e26-4282-822c-55fa57089715/input_out/pockets/pocket6_vert.pqr', 'f4d2ff8e-3e26-4282-822c-55fa57089715/input_out/pockets/pocket7_atm.pdb', 'f4d2ff8e-3e26-4282-822c-55fa57089715/input_out/pockets/pocket7_vert.pqr', 'f4d2ff8e-3e26-4282-822c-55fa57089715/input_out/pockets/pocket8_atm.pdb', 'f4d2ff8e-3e26-4282-822c-55fa57089715/input_out/pockets/pocket8_vert.pqr', 'f4d2ff8e-3e26-4282-822c-55fa57089715/input_out/pockets/pocket9_atm.pdb', 'f4d2ff8e-3e26-4282-822c-55fa57089715/input_out/pockets/pocket9_vert.pqr']\n",
      "2021-01-22 16:34:36,751 [MainThread  ] [INFO ]  to: /home/gbayarri_local/projects/BioBB/biobb_vs/biobb_vs/tutorial/fpocket/fpocket_all_pockets.zip\n",
      "2021-01-22 16:34:36,752 [MainThread  ] [INFO ]  Saving summary to fpocket_summary.json file\n",
      "2021-01-22 16:34:36,755 [MainThread  ] [INFO ]  Removed temporary folder: f4d2ff8e-3e26-4282-822c-55fa57089715\n"
     ]
    },
    {
     "data": {
      "text/plain": [
       "0"
      ]
     },
     "execution_count": 12,
     "metadata": {},
     "output_type": "execute_result"
    }
   ],
   "source": [
    "fpocket_all_pockets = \"fpocket_all_pockets.zip\"\n",
    "fpocket_summary = \"fpocket_summary.json\"\n",
    "prop = {\n",
    "    \"min_radius\": 3,\n",
    "    \"max_radius\": 6,\n",
    "    \"num_spheres\": 35\n",
    "}\n",
    "\n",
    "fpocket(input_pdb_path=pdb_single_chain,\n",
    "        output_pockets_zip = fpocket_all_pockets,\n",
    "        output_summary=fpocket_summary,\n",
    "        properties=prop)"
   ]
  },
  {
   "cell_type": "code",
   "execution_count": 13,
   "metadata": {
    "scrolled": true
   },
   "outputs": [
    {
     "name": "stdout",
     "output_type": "stream",
     "text": [
      "{\n",
      "    \"pocket1\": {\n",
      "        \"score\": 0.606,\n",
      "        \"druggability_score\": 0.56,\n",
      "        \"number_of_alpha_spheres\": 83,\n",
      "        \"total_sasa\": 76.699,\n",
      "        \"polar_sasa\": 34.353,\n",
      "        \"apolar_sasa\": 42.346,\n",
      "        \"volume\": 372.52,\n",
      "        \"mean_local_hydrophobic_density\": 25.688,\n",
      "        \"mean_alpha_sphere_radius\": 3.339,\n",
      "        \"mean_alp_sph_solvent_access\": 0.446,\n",
      "        \"apolar_alpha_sphere_proportion\": 0.386,\n",
      "        \"hydrophobicity_score\": 24.444,\n",
      "        \"volume_score\": 4.278,\n",
      "        \"polarity_score\": 10,\n",
      "        \"charge_score\": 1,\n",
      "        \"proportion_of_polar_atoms\": 38.298,\n",
      "        \"alpha_sphere_density\": 4.675,\n",
      "        \"cent_of_mass_alpha_sphere_max_dist\": 12.528,\n",
      "        \"flexibility\": 0.446\n",
      "    },\n",
      "    \"pocket2\": {\n",
      "        \"score\": 0.504,\n",
      "        \"druggability_score\": 0.753,\n",
      "        \"number_of_alpha_spheres\": 85,\n",
      "        \"total_sasa\": 136.997,\n",
      "        \"polar_sasa\": 55.849,\n",
      "        \"apolar_sasa\": 81.149,\n",
      "        \"volume\": 592.667,\n",
      "        \"mean_local_hydrophobic_density\": 32.053,\n",
      "        \"mean_alpha_sphere_radius\": 3.579,\n",
      "        \"mean_alp_sph_solvent_access\": 0.452,\n",
      "        \"apolar_alpha_sphere_proportion\": 0.447,\n",
      "        \"hydrophobicity_score\": 35.913,\n",
      "        \"volume_score\": 4.435,\n",
      "        \"polarity_score\": 10,\n",
      "        \"charge_score\": 2,\n",
      "        \"proportion_of_polar_atoms\": 38.889,\n",
      "        \"alpha_sphere_density\": 5.523,\n",
      "        \"cent_of_mass_alpha_sphere_max_dist\": 11.304,\n",
      "        \"flexibility\": 0.331\n",
      "    },\n",
      "    \"pocket3\": {\n",
      "        \"score\": 0.411,\n",
      "        \"druggability_score\": 0.001,\n",
      "        \"number_of_alpha_spheres\": 69,\n",
      "        \"total_sasa\": 149.168,\n",
      "        \"polar_sasa\": 115.354,\n",
      "        \"apolar_sasa\": 33.814,\n",
      "        \"volume\": 479.44,\n",
      "        \"mean_local_hydrophobic_density\": 2.0,\n",
      "        \"mean_alpha_sphere_radius\": 3.497,\n",
      "        \"mean_alp_sph_solvent_access\": 0.505,\n",
      "        \"apolar_alpha_sphere_proportion\": 0.087,\n",
      "        \"hydrophobicity_score\": 32.75,\n",
      "        \"volume_score\": 4.25,\n",
      "        \"polarity_score\": 5,\n",
      "        \"charge_score\": 2,\n",
      "        \"proportion_of_polar_atoms\": 44.681,\n",
      "        \"alpha_sphere_density\": 6.356,\n",
      "        \"cent_of_mass_alpha_sphere_max_dist\": 14.673,\n",
      "        \"flexibility\": 0.249\n",
      "    },\n",
      "    \"pocket4\": {\n",
      "        \"score\": 0.359,\n",
      "        \"druggability_score\": 0.396,\n",
      "        \"number_of_alpha_spheres\": 38,\n",
      "        \"total_sasa\": 28.299,\n",
      "        \"polar_sasa\": 6.562,\n",
      "        \"apolar_sasa\": 21.737,\n",
      "        \"volume\": 142.073,\n",
      "        \"mean_local_hydrophobic_density\": 26.667,\n",
      "        \"mean_alpha_sphere_radius\": 3.282,\n",
      "        \"mean_alp_sph_solvent_access\": 0.386,\n",
      "        \"apolar_alpha_sphere_proportion\": 0.789,\n",
      "        \"hydrophobicity_score\": 52.2,\n",
      "        \"volume_score\": 4.9,\n",
      "        \"polarity_score\": 5,\n",
      "        \"charge_score\": 1,\n",
      "        \"proportion_of_polar_atoms\": 28.0,\n",
      "        \"alpha_sphere_density\": 3.203,\n",
      "        \"cent_of_mass_alpha_sphere_max_dist\": 7.91,\n",
      "        \"flexibility\": 0.345\n",
      "    },\n",
      "    \"pocket5\": {\n",
      "        \"score\": 0.332,\n",
      "        \"druggability_score\": 0.007,\n",
      "        \"number_of_alpha_spheres\": 77,\n",
      "        \"total_sasa\": 207.58,\n",
      "        \"polar_sasa\": 129.084,\n",
      "        \"apolar_sasa\": 78.496,\n",
      "        \"volume\": 645.456,\n",
      "        \"mean_local_hydrophobic_density\": 8.421,\n",
      "        \"mean_alpha_sphere_radius\": 3.66,\n",
      "        \"mean_alp_sph_solvent_access\": 0.527,\n",
      "        \"apolar_alpha_sphere_proportion\": 0.247,\n",
      "        \"hydrophobicity_score\": 14.625,\n",
      "        \"volume_score\": 4.875,\n",
      "        \"polarity_score\": 10,\n",
      "        \"charge_score\": -1,\n",
      "        \"proportion_of_polar_atoms\": 44.231,\n",
      "        \"alpha_sphere_density\": 7.316,\n",
      "        \"cent_of_mass_alpha_sphere_max_dist\": 18.918,\n",
      "        \"flexibility\": 0.366\n",
      "    },\n",
      "    \"pocket6\": {\n",
      "        \"score\": 0.298,\n",
      "        \"druggability_score\": 0.047,\n",
      "        \"number_of_alpha_spheres\": 44,\n",
      "        \"total_sasa\": 87.575,\n",
      "        \"polar_sasa\": 46.515,\n",
      "        \"apolar_sasa\": 41.059,\n",
      "        \"volume\": 346.009,\n",
      "        \"mean_local_hydrophobic_density\": 22.833,\n",
      "        \"mean_alpha_sphere_radius\": 3.535,\n",
      "        \"mean_alp_sph_solvent_access\": 0.539,\n",
      "        \"apolar_alpha_sphere_proportion\": 0.545,\n",
      "        \"hydrophobicity_score\": -3.2,\n",
      "        \"volume_score\": 4.5,\n",
      "        \"polarity_score\": 7,\n",
      "        \"charge_score\": 0,\n",
      "        \"proportion_of_polar_atoms\": 35.714,\n",
      "        \"alpha_sphere_density\": 4.605,\n",
      "        \"cent_of_mass_alpha_sphere_max_dist\": 10.165,\n",
      "        \"flexibility\": 0.257\n",
      "    },\n",
      "    \"pocket7\": {\n",
      "        \"score\": 0.279,\n",
      "        \"druggability_score\": 0.218,\n",
      "        \"number_of_alpha_spheres\": 46,\n",
      "        \"total_sasa\": 77.143,\n",
      "        \"polar_sasa\": 30.045,\n",
      "        \"apolar_sasa\": 47.098,\n",
      "        \"volume\": 325.544,\n",
      "        \"mean_local_hydrophobic_density\": 23.259,\n",
      "        \"mean_alpha_sphere_radius\": 3.562,\n",
      "        \"mean_alp_sph_solvent_access\": 0.51,\n",
      "        \"apolar_alpha_sphere_proportion\": 0.587,\n",
      "        \"hydrophobicity_score\": 54.3,\n",
      "        \"volume_score\": 3.8,\n",
      "        \"polarity_score\": 3,\n",
      "        \"charge_score\": 0,\n",
      "        \"proportion_of_polar_atoms\": 38.71,\n",
      "        \"alpha_sphere_density\": 3.876,\n",
      "        \"cent_of_mass_alpha_sphere_max_dist\": 10.386,\n",
      "        \"flexibility\": 0.268\n",
      "    },\n",
      "    \"pocket8\": {\n",
      "        \"score\": 0.224,\n",
      "        \"druggability_score\": 0.19,\n",
      "        \"number_of_alpha_spheres\": 35,\n",
      "        \"total_sasa\": 131.197,\n",
      "        \"polar_sasa\": 52.701,\n",
      "        \"apolar_sasa\": 78.496,\n",
      "        \"volume\": 524.309,\n",
      "        \"mean_local_hydrophobic_density\": 16.2,\n",
      "        \"mean_alpha_sphere_radius\": 3.693,\n",
      "        \"mean_alp_sph_solvent_access\": 0.532,\n",
      "        \"apolar_alpha_sphere_proportion\": 0.571,\n",
      "        \"hydrophobicity_score\": 20.538,\n",
      "        \"volume_score\": 4.846,\n",
      "        \"polarity_score\": 8,\n",
      "        \"charge_score\": 1,\n",
      "        \"proportion_of_polar_atoms\": 35.484,\n",
      "        \"alpha_sphere_density\": 6.041,\n",
      "        \"cent_of_mass_alpha_sphere_max_dist\": 17.687,\n",
      "        \"flexibility\": 0.544\n",
      "    },\n",
      "    \"pocket9\": {\n",
      "        \"score\": 0.199,\n",
      "        \"druggability_score\": 0.003,\n",
      "        \"number_of_alpha_spheres\": 42,\n",
      "        \"total_sasa\": 83.344,\n",
      "        \"polar_sasa\": 49.531,\n",
      "        \"apolar_sasa\": 33.814,\n",
      "        \"volume\": 275.878,\n",
      "        \"mean_local_hydrophobic_density\": 9.5,\n",
      "        \"mean_alpha_sphere_radius\": 3.505,\n",
      "        \"mean_alp_sph_solvent_access\": 0.521,\n",
      "        \"apolar_alpha_sphere_proportion\": 0.286,\n",
      "        \"hydrophobicity_score\": 4.455,\n",
      "        \"volume_score\": 3.727,\n",
      "        \"polarity_score\": 7,\n",
      "        \"charge_score\": -2,\n",
      "        \"proportion_of_polar_atoms\": 51.724,\n",
      "        \"alpha_sphere_density\": 3.581,\n",
      "        \"cent_of_mass_alpha_sphere_max_dist\": 10.276,\n",
      "        \"flexibility\": 0.537\n",
      "    },\n",
      "    \"pocket10\": {\n",
      "        \"score\": 0.196,\n",
      "        \"druggability_score\": 0.001,\n",
      "        \"number_of_alpha_spheres\": 57,\n",
      "        \"total_sasa\": 139.013,\n",
      "        \"polar_sasa\": 102.784,\n",
      "        \"apolar_sasa\": 36.229,\n",
      "        \"volume\": 406.218,\n",
      "        \"mean_local_hydrophobic_density\": 7.846,\n",
      "        \"mean_alpha_sphere_radius\": 3.605,\n",
      "        \"mean_alp_sph_solvent_access\": 0.491,\n",
      "        \"apolar_alpha_sphere_proportion\": 0.228,\n",
      "        \"hydrophobicity_score\": 31.385,\n",
      "        \"volume_score\": 4.462,\n",
      "        \"polarity_score\": 6,\n",
      "        \"charge_score\": -1,\n",
      "        \"proportion_of_polar_atoms\": 36.842,\n",
      "        \"alpha_sphere_density\": 4.67,\n",
      "        \"cent_of_mass_alpha_sphere_max_dist\": 10.974,\n",
      "        \"flexibility\": 0.641\n",
      "    },\n",
      "    \"pocket11\": {\n",
      "        \"score\": 0.129,\n",
      "        \"druggability_score\": 0.067,\n",
      "        \"number_of_alpha_spheres\": 40,\n",
      "        \"total_sasa\": 128.668,\n",
      "        \"polar_sasa\": 64.664,\n",
      "        \"apolar_sasa\": 64.004,\n",
      "        \"volume\": 376.922,\n",
      "        \"mean_local_hydrophobic_density\": 19.048,\n",
      "        \"mean_alpha_sphere_radius\": 3.698,\n",
      "        \"mean_alp_sph_solvent_access\": 0.577,\n",
      "        \"apolar_alpha_sphere_proportion\": 0.525,\n",
      "        \"hydrophobicity_score\": 13.667,\n",
      "        \"volume_score\": 3.333,\n",
      "        \"polarity_score\": 6,\n",
      "        \"charge_score\": -2,\n",
      "        \"proportion_of_polar_atoms\": 43.333,\n",
      "        \"alpha_sphere_density\": 4.902,\n",
      "        \"cent_of_mass_alpha_sphere_max_dist\": 12.026,\n",
      "        \"flexibility\": 0.829\n",
      "    },\n",
      "    \"pocket12\": {\n",
      "        \"score\": 0.074,\n",
      "        \"druggability_score\": 0.002,\n",
      "        \"number_of_alpha_spheres\": 48,\n",
      "        \"total_sasa\": 193.821,\n",
      "        \"polar_sasa\": 117.741,\n",
      "        \"apolar_sasa\": 76.081,\n",
      "        \"volume\": 606.362,\n",
      "        \"mean_local_hydrophobic_density\": 4.0,\n",
      "        \"mean_alpha_sphere_radius\": 3.739,\n",
      "        \"mean_alp_sph_solvent_access\": 0.537,\n",
      "        \"apolar_alpha_sphere_proportion\": 0.125,\n",
      "        \"hydrophobicity_score\": 12.375,\n",
      "        \"volume_score\": 3.938,\n",
      "        \"polarity_score\": 9,\n",
      "        \"charge_score\": -1,\n",
      "        \"proportion_of_polar_atoms\": 46.667,\n",
      "        \"alpha_sphere_density\": 5.911,\n",
      "        \"cent_of_mass_alpha_sphere_max_dist\": 15.537,\n",
      "        \"flexibility\": 0.477\n",
      "    }\n",
      "}\n"
     ]
    }
   ],
   "source": [
    "import json\n",
    "\n",
    "with open(fpocket_summary, 'r') as json_file:\n",
    "    data = json.load(json_file)\n",
    "    print(json.dumps(data, indent=4))"
   ]
  },
  {
   "cell_type": "code",
   "execution_count": 14,
   "metadata": {},
   "outputs": [],
   "source": [
    "from biobb_vs.fpocket.fpocket_filter import fpocket_filter"
   ]
  },
  {
   "cell_type": "code",
   "execution_count": 15,
   "metadata": {
    "scrolled": false
   },
   "outputs": [
    {
     "name": "stderr",
     "output_type": "stream",
     "text": [
      "2021-01-22 16:34:38,832 [MainThread  ] [INFO ]  Performing a search under the next parameters: score: [0.2, 1], druggability_score: [0.2, 0.8], volume: [100, 600.2]\n",
      "2021-01-22 16:34:38,833 [MainThread  ] [INFO ]  Found 4 matches:\n",
      "**********\n",
      "pocket1\n",
      "**********\n",
      "score: 0.606\n",
      "druggability_score: 0.56\n",
      "volume: 372.52\n",
      "\n",
      "**********\n",
      "pocket2\n",
      "**********\n",
      "score: 0.504\n",
      "druggability_score: 0.753\n",
      "volume: 592.667\n",
      "\n",
      "**********\n",
      "pocket4\n",
      "**********\n",
      "score: 0.359\n",
      "druggability_score: 0.396\n",
      "volume: 142.073\n",
      "\n",
      "**********\n",
      "pocket7\n",
      "**********\n",
      "score: 0.279\n",
      "druggability_score: 0.218\n",
      "volume: 325.544\n",
      "\n",
      "2021-01-22 16:34:38,834 [MainThread  ] [INFO ]  Creating 3fc0b19c-f7ab-4092-ab90-151ee738f0ef temporary folder\n",
      "2021-01-22 16:34:38,840 [MainThread  ] [INFO ]  Extracting: /home/gbayarri_local/projects/BioBB/biobb_vs/biobb_vs/tutorial/fpocket/fpocket_all_pockets.zip\n",
      "2021-01-22 16:34:38,840 [MainThread  ] [INFO ]  to:\n",
      "2021-01-22 16:34:38,841 [MainThread  ] [INFO ]  ['3fc0b19c-f7ab-4092-ab90-151ee738f0ef/pocket10_atm.pdb', '3fc0b19c-f7ab-4092-ab90-151ee738f0ef/pocket10_vert.pqr', '3fc0b19c-f7ab-4092-ab90-151ee738f0ef/pocket11_atm.pdb', '3fc0b19c-f7ab-4092-ab90-151ee738f0ef/pocket11_vert.pqr', '3fc0b19c-f7ab-4092-ab90-151ee738f0ef/pocket12_atm.pdb', '3fc0b19c-f7ab-4092-ab90-151ee738f0ef/pocket12_vert.pqr', '3fc0b19c-f7ab-4092-ab90-151ee738f0ef/pocket1_atm.pdb', '3fc0b19c-f7ab-4092-ab90-151ee738f0ef/pocket1_vert.pqr', '3fc0b19c-f7ab-4092-ab90-151ee738f0ef/pocket2_atm.pdb', '3fc0b19c-f7ab-4092-ab90-151ee738f0ef/pocket2_vert.pqr', '3fc0b19c-f7ab-4092-ab90-151ee738f0ef/pocket3_atm.pdb', '3fc0b19c-f7ab-4092-ab90-151ee738f0ef/pocket3_vert.pqr', '3fc0b19c-f7ab-4092-ab90-151ee738f0ef/pocket4_atm.pdb', '3fc0b19c-f7ab-4092-ab90-151ee738f0ef/pocket4_vert.pqr', '3fc0b19c-f7ab-4092-ab90-151ee738f0ef/pocket5_atm.pdb', '3fc0b19c-f7ab-4092-ab90-151ee738f0ef/pocket5_vert.pqr', '3fc0b19c-f7ab-4092-ab90-151ee738f0ef/pocket6_atm.pdb', '3fc0b19c-f7ab-4092-ab90-151ee738f0ef/pocket6_vert.pqr', '3fc0b19c-f7ab-4092-ab90-151ee738f0ef/pocket7_atm.pdb', '3fc0b19c-f7ab-4092-ab90-151ee738f0ef/pocket7_vert.pqr', '3fc0b19c-f7ab-4092-ab90-151ee738f0ef/pocket8_atm.pdb', '3fc0b19c-f7ab-4092-ab90-151ee738f0ef/pocket8_vert.pqr', '3fc0b19c-f7ab-4092-ab90-151ee738f0ef/pocket9_atm.pdb', '3fc0b19c-f7ab-4092-ab90-151ee738f0ef/pocket9_vert.pqr']\n",
      "2021-01-22 16:34:38,843 [MainThread  ] [INFO ]  Creating fpocket_filter_pockets.zip output file\n",
      "2021-01-22 16:34:38,846 [MainThread  ] [INFO ]  Adding:\n",
      "2021-01-22 16:34:38,847 [MainThread  ] [INFO ]  ['3fc0b19c-f7ab-4092-ab90-151ee738f0ef/pocket1_atm.pdb', '3fc0b19c-f7ab-4092-ab90-151ee738f0ef/pocket1_vert.pqr', '3fc0b19c-f7ab-4092-ab90-151ee738f0ef/pocket2_atm.pdb', '3fc0b19c-f7ab-4092-ab90-151ee738f0ef/pocket2_vert.pqr', '3fc0b19c-f7ab-4092-ab90-151ee738f0ef/pocket4_atm.pdb', '3fc0b19c-f7ab-4092-ab90-151ee738f0ef/pocket4_vert.pqr', '3fc0b19c-f7ab-4092-ab90-151ee738f0ef/pocket7_atm.pdb', '3fc0b19c-f7ab-4092-ab90-151ee738f0ef/pocket7_vert.pqr']\n",
      "2021-01-22 16:34:38,848 [MainThread  ] [INFO ]  to: /home/gbayarri_local/projects/BioBB/biobb_vs/biobb_vs/tutorial/fpocket/fpocket_filter_pockets.zip\n",
      "2021-01-22 16:34:38,850 [MainThread  ] [INFO ]  Removed temporary folder: 3fc0b19c-f7ab-4092-ab90-151ee738f0ef\n"
     ]
    },
    {
     "data": {
      "text/plain": [
       "0"
      ]
     },
     "execution_count": 15,
     "metadata": {},
     "output_type": "execute_result"
    }
   ],
   "source": [
    "fpocket_filter_pockets = \"fpocket_filter_pockets.zip\"\n",
    "prop = {\n",
    "    \"score\": [0.2, 1],\n",
    "    \"druggability_score\": [0.2, 0.8],\n",
    "    \"volume\": [100, 600.2]\n",
    "}\n",
    "\n",
    "fpocket_filter(input_pockets_zip=fpocket_all_pockets,\n",
    "                input_summary = fpocket_summary,\n",
    "                output_filter_pockets_zip=fpocket_filter_pockets,\n",
    "                properties=prop)"
   ]
  },
  {
   "cell_type": "code",
   "execution_count": 16,
   "metadata": {},
   "outputs": [],
   "source": [
    "import os\n",
    "from pathlib import Path, PurePath\n",
    "import zipfile\n",
    "\n",
    "if not Path(pockets_dir).exists(): os.mkdir(pockets_dir)\n",
    "\n",
    "with zipfile.ZipFile(fpocket_filter_pockets, 'r') as zip_ref:\n",
    "    zip_ref.extractall(pockets_dir)\n",
    "\n",
    "path_pockets = [str(i) for i in Path(pockets_dir).iterdir()]\n",
    "path_pockets_pdb = [str(i) for i in Path(pockets_dir).iterdir() if PurePath(i).suffix == '.pdb']\n",
    "path_pockets_pqr = [str(i) for i in Path(pockets_dir).iterdir() if PurePath(i).suffix == '.pqr']"
   ]
  },
  {
   "cell_type": "code",
   "execution_count": 17,
   "metadata": {},
   "outputs": [],
   "source": [
    "#import time\n",
    "\n",
    "#view = nglview.show_structure_file(pdb_single_chain, default=False)\n",
    "#view.add_representation(repr_type='cartoon', \n",
    "#                        selection='not het',\n",
    "#                        colorScheme = 'atomindex')\n",
    "#d = {}\n",
    "#for i, p in enumerate(path_pockets_pdb):\n",
    "#    d[i] = view.add_component(p, default=False)\n",
    "#    print(p)\n",
    "#    time.sleep(5)\n",
    "#    d[i].add_representation(repr_type='ball+stick', \n",
    "#                            colorScheme = 'element')\n",
    "#q = {}\n",
    "#for i, p in enumerate(path_pockets_pqr):\n",
    "#    q[i] = view.add_component(p, default=False)\n",
    "#    print(p)\n",
    "#    time.sleep(5)\n",
    "#    q[i].add_representation(repr_type='surface', \n",
    "#                        color=\"skyblue\",\n",
    "#                        contour=True)\n",
    "\n",
    "#d1 = view.add_component('pockets/pocket2_atm.pdb', default=False)\n",
    "#d1.add_representation(repr_type='surface', \n",
    "#                      surfaceType= 'av',\n",
    "#                      radius='1.3',\n",
    "#                        color='element')\n",
    "\n",
    "#q1 = view.add_component('pockets/pocket2_vert.pqr', default=False)\n",
    "#q1.add_representation(repr_type='surface', \n",
    "#                        color='skyblue',\n",
    "#                          surfaceType= 'av',\n",
    "#                        contour=True)\n",
    "\n",
    "#view.center()\n",
    "#view._remote_call('setSize', target='Widget', args=['','600px'])\n",
    "#view"
   ]
  },
  {
   "cell_type": "code",
   "execution_count": 18,
   "metadata": {
    "scrolled": false
   },
   "outputs": [
    {
     "data": {
      "application/vnd.jupyter.widget-view+json": {
       "model_id": "724e09ae3186499f99feaf35722ee481",
       "version_major": 2,
       "version_minor": 0
      },
      "text/plain": [
       "NGLWidget()"
      ]
     },
     "metadata": {},
     "output_type": "display_data"
    }
   ],
   "source": [
    "import re\n",
    "import random\n",
    "\n",
    "# random colors for cavities\n",
    "r = lambda: random.randint(0,255)\n",
    "\n",
    "# load structure\n",
    "view = nglview.NGLWidget()\n",
    "c = view.add_component(pdb_single_chain)\n",
    "\n",
    "# load cavities (d) and pockets (p) and create pocketNames list\n",
    "c = {}\n",
    "p = {}\n",
    "pocketNames = []\n",
    "for pock in path_pockets:\n",
    "    g = re.findall('(?:pocket)(\\d+)(?:_\\w+)\\.(\\w+)', pock)\n",
    "    i = g[0][0]\n",
    "    suff = g[0][1]\n",
    "    if not ('pocket' + i) in pocketNames: pocketNames.append('pocket' + i)\n",
    "\n",
    "    if suff == 'pdb':\n",
    "        c[i] = view.add_component(pock)\n",
    "        c[i].clear()\n",
    "    else:\n",
    "        p[i] = view.add_component(pock)\n",
    "        p[i].clear()\n",
    "\n",
    "# sort pocket names\n",
    "pocketNames.sort()\n",
    "        \n",
    "# representation for cavities\n",
    "for pock in path_pockets_pdb:\n",
    "    g = re.findall('(?:pocket)(\\d+)(?:_\\w+)\\.(\\w+)', pock)\n",
    "    i = g[0][0]\n",
    "    c[i].add_surface( color='#%02X%02X%02X' % (r(),r(),r()), surfaceType= 'av', radius='1.5')\n",
    "\n",
    "# representation for pockets\n",
    "for pock in path_pockets_pqr:\n",
    "    g = re.findall('(?:pocket)(\\d+)(?:_\\w+)\\.(\\w+)', pock)\n",
    "    i = g[0][0]\n",
    "    p[i].add_surface( component=i, color='skyblue', surfaceType= 'av', contour=True )\n",
    "    \n",
    "\"\"\"q0.add_representation(repr_type='label', \n",
    "                        selection='2')\"\"\"\n",
    "# TODO LABELS\n",
    "\n",
    "view.center()\n",
    "view._remote_call('setSize', target='Widget', args=['','600px'])\n",
    "view"
   ]
  },
  {
   "cell_type": "code",
   "execution_count": 19,
   "metadata": {},
   "outputs": [
    {
     "data": {
      "application/vnd.jupyter.widget-view+json": {
       "model_id": "4276a99c597844648b2f6b476b3eb25f",
       "version_major": 2,
       "version_minor": 0
      },
      "text/plain": [
       "Dropdown(description='Sel. pocket:', options=('pocket1', 'pocket2', 'pocket4', 'pocket7'), value='pocket1')"
      ]
     },
     "metadata": {},
     "output_type": "display_data"
    }
   ],
   "source": [
    "mdsel = ipywidgets.Dropdown(\n",
    "    options=pocketNames,\n",
    "    description='Sel. pocket:',\n",
    "    disabled=False,\n",
    ")\n",
    "display(mdsel)"
   ]
  },
  {
   "cell_type": "code",
   "execution_count": 21,
   "metadata": {},
   "outputs": [],
   "source": [
    "from biobb_vs.fpocket.fpocket_select import fpocket_select"
   ]
  },
  {
   "cell_type": "code",
   "execution_count": 22,
   "metadata": {},
   "outputs": [
    {
     "name": "stderr",
     "output_type": "stream",
     "text": [
      "2021-01-22 16:37:22,289 [MainThread  ] [INFO ]  Creating 4e081240-51ad-4f68-9c0f-4c2445b2efa5 temporary folder\n",
      "2021-01-22 16:37:22,291 [MainThread  ] [INFO ]  Extracting: /home/gbayarri_local/projects/BioBB/biobb_vs/biobb_vs/tutorial/fpocket/fpocket_filter_pockets.zip\n",
      "2021-01-22 16:37:22,292 [MainThread  ] [INFO ]  to:\n",
      "2021-01-22 16:37:22,292 [MainThread  ] [INFO ]  ['4e081240-51ad-4f68-9c0f-4c2445b2efa5/pocket1_atm.pdb', '4e081240-51ad-4f68-9c0f-4c2445b2efa5/pocket1_vert.pqr', '4e081240-51ad-4f68-9c0f-4c2445b2efa5/pocket2_atm.pdb', '4e081240-51ad-4f68-9c0f-4c2445b2efa5/pocket2_vert.pqr', '4e081240-51ad-4f68-9c0f-4c2445b2efa5/pocket4_atm.pdb', '4e081240-51ad-4f68-9c0f-4c2445b2efa5/pocket4_vert.pqr', '4e081240-51ad-4f68-9c0f-4c2445b2efa5/pocket7_atm.pdb', '4e081240-51ad-4f68-9c0f-4c2445b2efa5/pocket7_vert.pqr']\n",
      "2021-01-22 16:37:22,294 [MainThread  ] [INFO ]  Removed temporary folder: 4e081240-51ad-4f68-9c0f-4c2445b2efa5\n"
     ]
    },
    {
     "data": {
      "text/plain": [
       "0"
      ]
     },
     "execution_count": 22,
     "metadata": {},
     "output_type": "execute_result"
    }
   ],
   "source": [
    "fpocket_cavity = \"fpocket_cavity.pdb\"\n",
    "fpocket_pocket = \"fpocket_pocket.pqr\"\n",
    "prop = {\n",
    "    \"pocket\": mdsel.value[6:]\n",
    "}\n",
    "\n",
    "fpocket_select(input_pockets_zip=fpocket_filter_pockets,\n",
    "                output_pocket_pdb = fpocket_cavity,\n",
    "                output_pocket_pqr=fpocket_pocket,\n",
    "                properties=prop)"
   ]
  },
  {
   "cell_type": "code",
   "execution_count": null,
   "metadata": {},
   "outputs": [],
   "source": [
    "# BOX: mirar si van amb pqr, sinó pdb\n",
    "# BOX: provar box sense input_pdb??? Només calcular la caixa\n",
    "# BOX: una versió amb llista de residus (per quan vigui de l'api de l'ebi)\n",
    "# "
   ]
  },
  {
   "cell_type": "code",
   "execution_count": null,
   "metadata": {},
   "outputs": [],
   "source": []
  }
 ],
 "metadata": {
  "kernelspec": {
   "display_name": "Python 3",
   "language": "python",
   "name": "python3"
  },
  "language_info": {
   "codemirror_mode": {
    "name": "ipython",
    "version": 3
   },
   "file_extension": ".py",
   "mimetype": "text/x-python",
   "name": "python",
   "nbconvert_exporter": "python",
   "pygments_lexer": "ipython3",
   "version": "3.7.6"
  }
 },
 "nbformat": 4,
 "nbformat_minor": 4
}
