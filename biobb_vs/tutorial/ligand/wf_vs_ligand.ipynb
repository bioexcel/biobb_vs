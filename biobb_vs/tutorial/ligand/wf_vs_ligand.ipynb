{
 "cells": [
  {
   "cell_type": "code",
   "execution_count": null,
   "metadata": {},
   "outputs": [],
   "source": [
    "import nglview\n",
    "import ipywidgets\n",
    "\n",
    "pdb_code = \"2VGB\"\n",
    "ligand_code = \"PGA\"\n",
    "api_url = \"http://mmb.irbbarcelona.org/api/pdb/\"\n",
    "mgltools_path = \"/anaconda3/pkgs/mgltools-1.5.7-0\""
   ]
  },
  {
   "cell_type": "code",
   "execution_count": null,
   "metadata": {},
   "outputs": [],
   "source": [
    "from biobb_io.api.pdb import Pdb"
   ]
  },
  {
   "cell_type": "code",
   "execution_count": null,
   "metadata": {},
   "outputs": [],
   "source": [
    "download_pdb = \"download.pdb\"\n",
    "prop = {\n",
    "  \"pdb_code\": pdb_code,\n",
    "  \"filter\": [\"ATOM\", \"HETATM\"],\n",
    "  \"url\": api_url\n",
    "}\n",
    "\n",
    "Pdb(output_pdb_path=download_pdb,\n",
    "    properties=prop).launch()"
   ]
  },
  {
   "cell_type": "code",
   "execution_count": null,
   "metadata": {},
   "outputs": [],
   "source": [
    "view = nglview.show_structure_file(download_pdb, default=False)\n",
    "view.add_representation(repr_type='cartoon', \n",
    "                        selection='not het',\n",
    "                       colorScheme = 'atomindex')\n",
    "view.add_representation(repr_type='ball+stick', \n",
    "                        selection=ligand_code,\n",
    "                       aspectRatio = 5)\n",
    "view.center()\n",
    "view._remote_call('setSize', target='Widget', args=['','600px'])\n",
    "view"
   ]
  },
  {
   "cell_type": "code",
   "execution_count": null,
   "metadata": {},
   "outputs": [],
   "source": [
    "from biobb_structure_utils.utils.extract_chain import ExtractChain"
   ]
  },
  {
   "cell_type": "code",
   "execution_count": null,
   "metadata": {},
   "outputs": [],
   "source": [
    "extract_chain = \"extract_chain.pdb\"\n",
    "prop = {\n",
    "    \"chains\": [\"A\"]\n",
    "}\n",
    "\n",
    "ExtractChain(input_structure_path=download_pdb,\n",
    "             output_structure_path = extract_chain,\n",
    "            properties=prop).launch()"
   ]
  },
  {
   "cell_type": "code",
   "execution_count": null,
   "metadata": {},
   "outputs": [],
   "source": [
    "view = nglview.show_structure_file(extract_chain, default=False)\n",
    "view.add_representation(repr_type='cartoon', \n",
    "                        selection='not het',\n",
    "                        colorScheme = 'atomindex')\n",
    "view.add_representation(repr_type='ball+stick', \n",
    "                        selection=ligand_code,\n",
    "                       aspectRatio = 5)\n",
    "view.center()\n",
    "view._remote_call('setSize', target='Widget', args=['','600px'])\n",
    "view"
   ]
  },
  {
   "cell_type": "code",
   "execution_count": null,
   "metadata": {},
   "outputs": [],
   "source": [
    "from biobb_io.api.pdb_cluster_zip import MmbPdbClusterZip"
   ]
  },
  {
   "cell_type": "code",
   "execution_count": null,
   "metadata": {},
   "outputs": [],
   "source": [
    "pdb_cluster = \"pdb_cluster.zip\"\n",
    "prop = {\n",
    "    \"pdb_code\": pdb_code,\n",
    "    \"filter\": [\"ATOM\", \"HETATM\"],\n",
    "    \"cluster\": 90,\n",
    "    \"url\": api_url\n",
    "}\n",
    "\n",
    "MmbPdbClusterZip(output_pdb_zip_path = pdb_cluster,\n",
    "            properties=prop).launch()"
   ]
  },
  {
   "cell_type": "code",
   "execution_count": null,
   "metadata": {},
   "outputs": [],
   "source": [
    "from biobb_vs.utils.bindingsite import BindingSite"
   ]
  },
  {
   "cell_type": "code",
   "execution_count": null,
   "metadata": {},
   "outputs": [],
   "source": [
    "bindingsite = \"bindingsite.pdb\"\n",
    "prop = {\n",
    "    \"ligand\": ligand_code,\n",
    "    \"matrix_name\": \"blosum62\",\n",
    "    \"gap_open\": -10.0,\n",
    "    \"gap_extend\": -0.5,\n",
    "    \"max_num_ligands\": 15,\n",
    "    \"radius\": 5\n",
    "}\n",
    "\n",
    "BindingSite(input_pdb_path = extract_chain,\n",
    "            input_clusters_zip = pdb_cluster,\n",
    "            output_pdb_path = bindingsite,\n",
    "            properties=prop).launch()"
   ]
  },
  {
   "cell_type": "code",
   "execution_count": null,
   "metadata": {},
   "outputs": [],
   "source": [
    "view = nglview.show_structure_file(extract_chain, default=False)\n",
    "view[0].add_representation(repr_type='cartoon', \n",
    "                        selection='not het',\n",
    "                          opacity=.2,\n",
    "                          color='#cccccc')\n",
    "\n",
    "view.add_component(bindingsite, default=False)\n",
    "view[1].add_representation(repr_type='surface', \n",
    "                           selection='not ' + ligand_code, \n",
    "                           opacity = .3)\n",
    "# ligand\n",
    "view[1].add_representation(repr_type='licorice', \n",
    "                        selection='not ' + ligand_code)\n",
    "# ligand\n",
    "view[1].add_representation(repr_type='ball+stick', \n",
    "                        selection=ligand_code,\n",
    "                       aspectRatio = 4)\n",
    "\n",
    "view[0].center()\n",
    "view._remote_call('setSize', target='Widget', args=['','600px'])\n",
    "view"
   ]
  },
  {
   "cell_type": "code",
   "execution_count": null,
   "metadata": {},
   "outputs": [],
   "source": [
    "from biobb_vs.utils.box import Box"
   ]
  },
  {
   "cell_type": "code",
   "execution_count": null,
   "metadata": {},
   "outputs": [],
   "source": [
    "box = \"box.pdb\"\n",
    "prop = {\n",
    "    \"offset\": 2,\n",
    "    \"box_coordinates\": True\n",
    "}\n",
    "\n",
    "Box(input_pdb_path = extract_chain,\n",
    "            resid_pdb_path = bindingsite,\n",
    "            output_pdb_path = box,\n",
    "            properties=prop).launch()"
   ]
  },
  {
   "cell_type": "code",
   "execution_count": null,
   "metadata": {},
   "outputs": [],
   "source": [
    "view = nglview.show_structure_file(box, default=False)\n",
    "\n",
    "atomPair = [\n",
    "    [ \"9999:Z.ZN1\", \"9999:Z.ZN2\" ],\n",
    "    [ \"9999:Z.ZN2\", \"9999:Z.ZN4\" ],\n",
    "    [ \"9999:Z.ZN4\", \"9999:Z.ZN3\" ],\n",
    "    [ \"9999:Z.ZN3\", \"9999:Z.ZN1\" ],\n",
    "    \n",
    "    [ \"9999:Z.ZN5\", \"9999:Z.ZN6\" ],\n",
    "    [ \"9999:Z.ZN6\", \"9999:Z.ZN8\" ],\n",
    "    [ \"9999:Z.ZN8\", \"9999:Z.ZN7\" ],\n",
    "    [ \"9999:Z.ZN7\", \"9999:Z.ZN5\" ],\n",
    "    \n",
    "    [ \"9999:Z.ZN1\", \"9999:Z.ZN5\" ],\n",
    "    [ \"9999:Z.ZN2\", \"9999:Z.ZN6\" ],\n",
    "    [ \"9999:Z.ZN3\", \"9999:Z.ZN7\" ],\n",
    "    [ \"9999:Z.ZN4\", \"9999:Z.ZN8\" ]\n",
    "]\n",
    "\n",
    "#view.shape.add_cylinder( [ 0, 2, 7 ], [ 10, 0, 9 ], [ 1, 0, 0 ], 0.1 )\n",
    "\n",
    "# structure\n",
    "view.add_representation(repr_type='cartoon', \n",
    "                        selection='not het',\n",
    "                        color='#cccccc',\n",
    "                       opacity=.2)\n",
    "# ligands box\n",
    "view.add_representation(repr_type='ball+stick', \n",
    "                        selection='9999',\n",
    "                       aspectRatio = 10)\n",
    "# lines box\n",
    "view.add_representation(repr_type='distance', \n",
    "                        atomPair= atomPair,\n",
    "                       labelColor= 'transparent',\n",
    "                       color= 'black')\n",
    "\n",
    "view.center()\n",
    "view._remote_call('setSize', target='Widget', args=['','600px'])\n",
    "view"
   ]
  },
  {
   "cell_type": "code",
   "execution_count": null,
   "metadata": {},
   "outputs": [],
   "source": [
    "from biobb_structure_utils.utils.extract_heteroatoms import ExtractHeteroAtoms"
   ]
  },
  {
   "cell_type": "code",
   "execution_count": null,
   "metadata": {},
   "outputs": [],
   "source": [
    "ligand = \"ligand.pdb\"\n",
    "prop = {\n",
    "    \"heteroatoms\": [{ \"name\": ligand_code }]\n",
    "}\n",
    "\n",
    "ExtractHeteroAtoms(input_structure_path=extract_chain,\n",
    "output_heteroatom_path=ligand,\n",
    "properties=prop).launch()"
   ]
  },
  {
   "cell_type": "code",
   "execution_count": null,
   "metadata": {},
   "outputs": [],
   "source": [
    "from biobb_chemistry.ambertools.reduce_add_hydrogens import ReduceAddHydrogens"
   ]
  },
  {
   "cell_type": "code",
   "execution_count": null,
   "metadata": {},
   "outputs": [],
   "source": [
    "ligand_H = \"ligand_H.pdb\"\n",
    "prop = {\n",
    "    \n",
    "}\n",
    "\n",
    "ReduceAddHydrogens(input_path=ligand,\n",
    "output_path=ligand_H,\n",
    "properties=prop).launch()"
   ]
  },
  {
   "cell_type": "code",
   "execution_count": null,
   "metadata": {},
   "outputs": [],
   "source": [
    "from ipywidgets import HBox"
   ]
  },
  {
   "cell_type": "code",
   "execution_count": null,
   "metadata": {
    "scrolled": true
   },
   "outputs": [],
   "source": [
    "v0 = nglview.show_structure_file(ligand)\n",
    "v1 = nglview.show_structure_file(ligand_H)\n",
    "\n",
    "v0._set_size('500px', '')\n",
    "v1._set_size('500px', '')\n",
    "\n",
    "def on_change(change):\n",
    "    v1._set_camera_orientation(change['new'])\n",
    "    \n",
    "v0.observe(on_change, ['_camera_orientation'])\n",
    "\n",
    "HBox([v0, v1])"
   ]
  },
  {
   "cell_type": "code",
   "execution_count": null,
   "metadata": {},
   "outputs": [],
   "source": [
    "#from biobb_vs.vina.vina_prepare_ligand import VinaPrepareLigand"
   ]
  },
  {
   "cell_type": "code",
   "execution_count": null,
   "metadata": {
    "scrolled": false
   },
   "outputs": [],
   "source": [
    "#prep_ligand = \"prep_ligand.pdbqt\"\n",
    "#prop = {\n",
    "#    \"mgltools_path\": mgltools_path\n",
    "#}\n",
    "\n",
    "#VinaPrepareLigand(input_ligand_path = ligand_H,\n",
    "#            output_ligand_path = prep_ligand,\n",
    "#            properties=prop).launch()"
   ]
  },
  {
   "cell_type": "code",
   "execution_count": null,
   "metadata": {},
   "outputs": [],
   "source": [
    "from biobb_chemistry.babelm.babel_convert import BabelConvert"
   ]
  },
  {
   "cell_type": "code",
   "execution_count": null,
   "metadata": {},
   "outputs": [],
   "source": [
    "prep_ligand = \"prep_ligand.pdbqt\"\n",
    "prop = {\n",
    "    \"input_format\": \"pdb\",\n",
    "    \"output_format\": \"pdbqt\",\n",
    "    \"obabel_path\": \"/anaconda3/bin/obabel\"\n",
    "}\n",
    "\n",
    "BabelConvert(input_path = ligand_H,\n",
    "            output_path = prep_ligand,\n",
    "            properties=prop).launch()"
   ]
  },
  {
   "cell_type": "code",
   "execution_count": null,
   "metadata": {},
   "outputs": [],
   "source": [
    "from biobb_structure_utils.utils.remove_ligand import RemoveLigand"
   ]
  },
  {
   "cell_type": "code",
   "execution_count": null,
   "metadata": {},
   "outputs": [],
   "source": [
    "receptor = \"receptor.pdb\"\n",
    "prop = {\n",
    "    \"ligand\": ligand_code\n",
    "}\n",
    "\n",
    "RemoveLigand(input_structure_path=extract_chain,\n",
    "             output_structure_path = receptor,\n",
    "            properties=prop).launch()"
   ]
  },
  {
   "cell_type": "code",
   "execution_count": null,
   "metadata": {},
   "outputs": [],
   "source": [
    "#from biobb_vs.vina.vina_prepare_receptor import VinaPrepareReceptor"
   ]
  },
  {
   "cell_type": "code",
   "execution_count": null,
   "metadata": {},
   "outputs": [],
   "source": [
    "#prep_receptor = \"prep_receptor.pdbqt\"\n",
    "#prop = {\n",
    "#    \"mgltools_path\": mgltools_path\n",
    "#}\n",
    "\n",
    "#VinaPrepareReceptor(input_receptor_path = receptor,\n",
    "#            output_receptor_path = prep_receptor,\n",
    "#            properties=prop).launch()"
   ]
  },
  {
   "cell_type": "code",
   "execution_count": null,
   "metadata": {},
   "outputs": [],
   "source": [
    "#from biobb_structure_utils.utils.remove_pdb_water import RemovePdbWater"
   ]
  },
  {
   "cell_type": "code",
   "execution_count": null,
   "metadata": {},
   "outputs": [],
   "source": [
    "#receptor_no_wat = \"receptor_no_wat.pdb\"\n",
    "\n",
    "#RemovePdbWater(input_pdb_path = receptor,\n",
    "#             output_pdb_path = receptor_no_wat).launch()"
   ]
  },
  {
   "cell_type": "code",
   "execution_count": null,
   "metadata": {},
   "outputs": [],
   "source": [
    "from biobb_structure_utils.utils.str_check_add_hydrogens import StrCheckAddHydrogens"
   ]
  },
  {
   "cell_type": "code",
   "execution_count": null,
   "metadata": {},
   "outputs": [],
   "source": [
    "prep_receptor = \"prep_receptor.pdbqt\"\n",
    "prop = {\n",
    "    \"charges\": True,\n",
    "    \"mode\": \"auto\"\n",
    "}\n",
    "\n",
    "StrCheckAddHydrogens(input_structure_path = receptor,\n",
    "            output_structure_path = prep_receptor,\n",
    "            properties=prop).launch()"
   ]
  },
  {
   "cell_type": "code",
   "execution_count": null,
   "metadata": {},
   "outputs": [],
   "source": [
    "# if prep_receptor ends with END, remove last line\n",
    "lines_new = []\n",
    "with open(prep_receptor, 'r') as f:\n",
    "    lines = f.read().splitlines()\n",
    "    for item in lines:\n",
    "        print(item)\n",
    "        if not item.startswith('END'):\n",
    "            lines_new.append(item)\n",
    "        \n",
    "with open(prep_receptor, 'w') as f:\n",
    "    for item in lines_new:\n",
    "        f.write(\"%s\\n\" % item)\n"
   ]
  },
  {
   "cell_type": "code",
   "execution_count": null,
   "metadata": {},
   "outputs": [],
   "source": [
    "from biobb_vs.vina.autodock_vina import AutoDockVina"
   ]
  },
  {
   "cell_type": "code",
   "execution_count": null,
   "metadata": {},
   "outputs": [],
   "source": [
    "output_vina_pdbqt = \"output_vina.pdbqt\"\n",
    "output_vina_log = \"output_vina.log\"\n",
    "\n",
    "AutoDockVina(input_ligand_pdbqt_path = prep_ligand,\n",
    "             input_receptor_pdbqt_path = prep_receptor,\n",
    "             input_box_path = box,\n",
    "            output_pdbqt_path = output_vina_pdbqt,\n",
    "             output_log_path = output_vina_log).launch()"
   ]
  },
  {
   "cell_type": "code",
   "execution_count": null,
   "metadata": {
    "scrolled": false
   },
   "outputs": [],
   "source": [
    "models = 'all'\n",
    "#models = '/0 or /1 or /4'\n",
    "\n",
    "v0 = nglview.show_structure_file(output_vina_pdbqt, default=False)\n",
    "v0.add_representation(repr_type='licorice', \n",
    "                        selection=models,\n",
    "                       colorScheme= 'partialCharge')\n",
    "v0.center()\n",
    "v1 = nglview.show_structure_file(output_vina_pdbqt, default=False)\n",
    "v1.add_representation(repr_type='ball+stick', \n",
    "                        selection=models)\n",
    "v1.center()\n",
    "\n",
    "v0._set_size('500px', '')\n",
    "v1._set_size('500px', '')\n",
    "\n",
    "def on_change(change):\n",
    "    v1._set_camera_orientation(change['new'])\n",
    "    \n",
    "v0.observe(on_change, ['_camera_orientation'])\n",
    "\n",
    "HBox([v0, v1])"
   ]
  },
  {
   "cell_type": "code",
   "execution_count": null,
   "metadata": {},
   "outputs": [],
   "source": [
    "from biobb_vs.utils.extract_model_pdbqt import ExtractModelPDBQT"
   ]
  },
  {
   "cell_type": "code",
   "execution_count": null,
   "metadata": {},
   "outputs": [],
   "source": [
    "output_pdbqt_model = \"output_model.pdbqt\"\n",
    "prop = {\n",
    "    \"model\": 1\n",
    "}\n",
    "\n",
    "ExtractModelPDBQT(input_pdbqt_path = output_vina_pdbqt,\n",
    "             output_pdbqt_path = output_pdbqt_model,\n",
    "            properties=prop).launch()"
   ]
  },
  {
   "cell_type": "code",
   "execution_count": null,
   "metadata": {},
   "outputs": [],
   "source": [
    "v0 = nglview.show_structure_file(ligand)\n",
    "v1 = nglview.show_structure_file(output_pdbqt_model)\n",
    "\n",
    "v0._set_size('500px', '')\n",
    "v1._set_size('500px', '')\n",
    "\n",
    "def on_change(change):\n",
    "    v1._set_camera_orientation(change['new'])\n",
    "    \n",
    "v0.observe(on_change, ['_camera_orientation'])\n",
    "\n",
    "HBox([v0, v1])"
   ]
  },
  {
   "cell_type": "code",
   "execution_count": null,
   "metadata": {},
   "outputs": [],
   "source": [
    "#v0 = nglview.show_structure_file(extract_chain)\n",
    "\n",
    "#v1 = nglview.show_structure_file(receptor, default=False)\n",
    "#v1[0].add_representation(repr_type='cartoon', \n",
    "#                        selection='not het')\n",
    "#v1.add_component(output_pdbqt_model, default=False)\n",
    "#v1[1].add_representation(repr_type='ball+stick', \n",
    "#                        selection='all',\n",
    "#                       aspectRatio = 5)\n",
    "#v1[0].center()\n",
    "\n",
    "#v0._set_size('500px', '500px')\n",
    "#v1._set_size('500px', '500px')\n",
    "\n",
    "#def on_change(change):\n",
    "#    v1._set_camera_orientation(change['new'])\n",
    "    \n",
    "#v0.observe(on_change, ['_camera_orientation'])\n",
    "\n",
    "#HBox([v0, v1])"
   ]
  },
  {
   "cell_type": "code",
   "execution_count": null,
   "metadata": {},
   "outputs": [],
   "source": [
    "from biobb_chemistry.babelm.babel_convert import BabelConvert"
   ]
  },
  {
   "cell_type": "code",
   "execution_count": null,
   "metadata": {},
   "outputs": [],
   "source": [
    "output_pdb_model = \"output_model.pdb\"\n",
    "prop = {\n",
    "    \"input_format\": \"pdbqt\",\n",
    "    \"output_format\": \"pdb\",\n",
    "    \"obabel_path\": \"/anaconda3/bin/obabel\"\n",
    "}\n",
    "\n",
    "BabelConvert(input_path = output_pdbqt_model,\n",
    "             output_path = output_pdb_model,\n",
    "            properties=prop).launch()"
   ]
  },
  {
   "cell_type": "code",
   "execution_count": null,
   "metadata": {},
   "outputs": [],
   "source": [
    "from biobb_structure_utils.utils.cat_pdb import CatPDB"
   ]
  },
  {
   "cell_type": "code",
   "execution_count": null,
   "metadata": {},
   "outputs": [],
   "source": [
    "output_structure = \"output_structure.pdb\"\n",
    "\n",
    "CatPDB(input_structure1 = receptor,\n",
    "             input_structure2 = output_pdb_model,\n",
    "             output_structure_path = output_structure).launch()"
   ]
  },
  {
   "cell_type": "code",
   "execution_count": null,
   "metadata": {},
   "outputs": [],
   "source": [
    "v0 = nglview.show_structure_file(extract_chain)\n",
    "\n",
    "v1 = nglview.show_structure_file(output_structure)\n",
    "\n",
    "v0._set_size('500px', '500px')\n",
    "v1._set_size('500px', '500px')\n",
    "\n",
    "def on_change(change):\n",
    "    v1._set_camera_orientation(change['new'])\n",
    "    \n",
    "v0.observe(on_change, ['_camera_orientation'])\n",
    "\n",
    "HBox([v0, v1])"
   ]
  },
  {
   "cell_type": "code",
   "execution_count": null,
   "metadata": {},
   "outputs": [],
   "source": []
  }
 ],
 "metadata": {
  "kernelspec": {
   "display_name": "Python 3",
   "language": "python",
   "name": "python3"
  },
  "language_info": {
   "codemirror_mode": {
    "name": "ipython",
    "version": 3
   },
   "file_extension": ".py",
   "mimetype": "text/x-python",
   "name": "python",
   "nbconvert_exporter": "python",
   "pygments_lexer": "ipython3",
   "version": "3.7.6"
  }
 },
 "nbformat": 4,
 "nbformat_minor": 4
}
